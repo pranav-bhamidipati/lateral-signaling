{
 "cells": [
  {
   "cell_type": "markdown",
   "metadata": {},
   "source": [
    "#### Functions for calculating cell-cell contacts"
   ]
  },
  {
   "cell_type": "code",
   "execution_count": 6,
   "metadata": {},
   "outputs": [],
   "source": [
    "@numba.njit\n",
    "def circle_intersect_length(c1, c2, r):\n",
    "    \"\"\"Length of the intersection between two circles of radius `r`.\"\"\"\n",
    "    \n",
    "    # Get distance between circle centers\n",
    "    d = np.linalg.norm(c1 - c2)\n",
    "    \n",
    "    # Get length of interface, with a floor of zero\n",
    "    ell2 = np.maximum(r**2 - (d**2)/4, 0)\n",
    "    return 2 * np.sqrt(ell2)\n",
    "    \n",
    "@numba.njit\n",
    "def circle_intersect_length2(c1, c2, r1, r2):\n",
    "    \"\"\"Length of the intersection between two circles of radius `r1` and `r2`.\"\"\"\n",
    "    \n",
    "    # Get distance between circle centers\n",
    "    d = np.linalg.norm(c1 - c2)\n",
    "    \n",
    "    # Check if circles do not intersect\n",
    "    if d >= (r1 + r2):\n",
    "        return 0\n",
    "    \n",
    "    # Else, calculate intersection length\n",
    "    return 2 * r1 * np.sqrt(1 - ((r1**2 + d**2 - r2**2) / (2 * r1 * d))**2)"
   ]
  },
  {
   "cell_type": "code",
   "execution_count": 7,
   "metadata": {},
   "outputs": [],
   "source": [
    "@numba.njit\n",
    "def get_L_vals(xs, vs, vertices):\n",
    "    \"\"\"\"\"\"\n",
    "    # Make matrix cell-cell contact lengths\n",
    "    \n",
    "    n_l = 0\n",
    "    for v1, v2 in vs:\n",
    "        if (v1 >= 0) & (v2 >= 0):\n",
    "            n_l += 1\n",
    "    \n",
    "    Lij = np.zeros((n_l, 2), dtype=np.int_)\n",
    "    L_vals = np.empty(n_l, dtype=np.float32)\n",
    "    \n",
    "    k = 0\n",
    "    for i, x12 in enumerate(xs):\n",
    "        v1, v2 = vs[i]\n",
    "#         v1, v2 = vs\n",
    "#         cs, (v1, v2)\n",
    "        # Infinite Voronoi edges have zero length\n",
    "        if (v1 < 0) | (v2 < 0):\n",
    "            continue\n",
    "        \n",
    "        # Get length of cell-cell ridge\n",
    "        ell = np.linalg.norm(vertices[v1] - vertices[v2])\n",
    "        Lij[k] = x12\n",
    "        L_vals[k] = ell\n",
    "        \n",
    "        k += 1\n",
    "        \n",
    "    return Lij, L_vals\n",
    "\n",
    "def make_L(vor):\n",
    "    \"\"\"csr_matrix((data, (row_ind, col_ind)), [shape=(M, N)])\n",
    "    a[row_ind[k], col_ind[k]] = data[k].\"\"\"\n",
    "    n = vor.npoints\n",
    "    xs = vor.ridge_points\n",
    "    vs = np.array(vor.ridge_vertices)\n",
    "    vertices = vor.vertices\n",
    "    \n",
    "    Lij, L_vals = get_L_vals(xs, vs, vertices)\n",
    "    L = csr_matrix((L_vals, (*Lij.T,)), shape=(n, n))\n",
    "#     return n, Lij, L_vals\n",
    "    return L + L.T"
   ]
  },
  {
   "cell_type": "code",
   "execution_count": 8,
   "metadata": {},
   "outputs": [],
   "source": [
    "@numba.njit\n",
    "def get_L_vals_gaps(xs, vs, pts, vertices, cr=1/np.sqrt(3)):\n",
    "    \"\"\"\n",
    "    Cell-cell contact lengths for cell radius `cr`.\n",
    "    \"\"\"\n",
    "    # Make matrix cell-cell contact lengths\n",
    "    n_l = 0\n",
    "    for v1, v2 in vs:\n",
    "        if (v1 >= 0) & (v2 >= 0):\n",
    "            n_l += 1\n",
    "    \n",
    "    Lij = np.zeros((n_l, 2), dtype=np.int_)\n",
    "    L_vals = np.empty(n_l, dtype=np.float32)\n",
    "    \n",
    "    k = 0\n",
    "    for i, x_pair in enumerate(xs):\n",
    "        v1, v2 = vs[i]\n",
    "#         v1, v2 = vs\n",
    "#         cs, (v1, v2)\n",
    "        # Infinite Voronoi edges have zero length\n",
    "        if (v1 < 0) | (v2 < 0):\n",
    "            continue\n",
    "        \n",
    "        # Get length of Voronoi ridge\n",
    "        ell_vor = np.linalg.norm(vertices[v1] - vertices[v2])\n",
    "        \n",
    "        # Get length of circles intersection\n",
    "        ell_cir = circle_intersect_length(pts[x_pair[0]], pts[x_pair[1]], cr)\n",
    "        \n",
    "        # Store the lower value of interface length\n",
    "        L_vals[k] = np.minimum(ell_vor, ell_cir)\n",
    "        \n",
    "        # Store point indices\n",
    "        Lij[k] = x_pair\n",
    "\n",
    "        k += 1\n",
    "        \n",
    "    return Lij, L_vals\n",
    "\n",
    "def make_L_gaps(vor, cr):\n",
    "    \"\"\"\n",
    "    \"\"\"\n",
    "    n = vor.npoints\n",
    "    xs = vor.ridge_points\n",
    "    vs = np.array(vor.ridge_vertices)\n",
    "    pts = vor.points\n",
    "    vertices = vor.vertices\n",
    "    \n",
    "    Lij, L_vals = get_L_vals_gaps(xs, vs, pts, vertices, cr=cr)\n",
    "    L = csr_matrix((L_vals, (*Lij.T,)), shape=(n, n))\n",
    "\n",
    "    return L + L.T"
   ]
  },
  {
   "cell_type": "markdown",
   "metadata": {},
   "source": [
    "#### Density gradient functions"
   ]
  },
  {
   "cell_type": "code",
   "execution_count": 9,
   "metadata": {},
   "outputs": [],
   "source": [
    "# def dens_lin(p, findens=2, loc=10):\n",
    "#     \"\"\"Linear density gradient.\"\"\"\n",
    "#     a = (findens - 1) / loc\n",
    "#     return 1 + a * p\n",
    "\n",
    "# def r_lin(r, findens=2, loc=10):\n",
    "#     a = (1/np.sqrt(findens) - 1) / loc\n",
    "#     return 1 + a * r"
   ]
  },
  {
   "cell_type": "code",
   "execution_count": 10,
   "metadata": {},
   "outputs": [],
   "source": [
    "# def r_exp(r, maxdens=2, loc=10):\n",
    "#     \"\"\"Exponential density gradient.\"\"\"\n",
    "#     a = np.log(np.sqrt(maxdens))/loc\n",
    "#     return np.exp(-a*r)\n",
    "\n",
    "# def r_exp_int(r, maxdens=2, loc=10):\n",
    "#     \"\"\"Integral of r_exp. Maps a distance to a new \n",
    "#     distance under an exponential density gradient.\"\"\"\n",
    "#     a = np.log(np.sqrt(maxdens))/loc\n",
    "#     return 1/(-a) * (np.exp(-a*r) - 1)"
   ]
  },
  {
   "cell_type": "code",
   "execution_count": 33,
   "metadata": {},
   "outputs": [],
   "source": [
    "# def exp_dens(y, rho_0, rho_k, y_k):\n",
    "#     a = np.log(rho_0 / rho_k) / np.abs(y_k)\n",
    "#     return rho_0 * np.exp(-a * np.abs(y))\n",
    "\n",
    "\n",
    "# def map_xy_exp_dens(xy, rho_0, rho_k, y_k):\n",
    "#     a = np.log(rho_0 / rho_k) / np.abs(y_k)\n",
    "#     yp = (\n",
    "#         np.sign(xy[:, 1])\n",
    "#         * (2 / (a * np.sqrt(rho_0)))\n",
    "#         * (np.exp(a * np.abs(xy[:, 1]) / 2) - 1)\n",
    "#     )\n",
    "#     xp = xy[:, 0] / np.sqrt(rho_0) * np.exp(a * np.abs(xy[:, 1]) / 2)\n",
    "    \n",
    "#     return np.array([xp, yp]).T\n",
    "\n",
    "\n",
    "# def map_xy_exp_dens_t(xy, nt, rho_0_t0, rho_0_tfin, rho_k_t0, rho_k_tfin, y_k):\n",
    "#     rho_0_t = np.linspace(rho_0_t0, rho_0_tfin, nt)\n",
    "#     rho_k_t = np.linspace(rho_k_t0, rho_k_tfin, nt)\n",
    "#     return np.array(\n",
    "#         [map_xy_exp_dens(xy, r0, rk, y_k) for r0, rk in zip(rho_0_t, rho_k_t)]\n",
    "#     )"
   ]
  },
  {
   "cell_type": "code",
   "execution_count": 360,
   "metadata": {},
   "outputs": [],
   "source": [
    "# # First time-unit and last time-unit have constant density\n",
    "# tlin_span = 3\n",
    "# nt_lin = int(tlin_span * nt_t)"
   ]
  },
  {
   "cell_type": "code",
   "execution_count": 361,
   "metadata": {},
   "outputs": [],
   "source": [
    "# rho_0_t0 = 4.2\n",
    "# rho_0_tfin = 1.5 * rho_0_t0\n",
    "\n",
    "# Set density at a reference location \n",
    "# rho_k_t0   = rho_0_t0/8\n",
    "# rho_k_tfin = rho_0_tfin * (5/6)\n",
    "\n",
    "# Set reference y-value\n",
    "# y_k = 100"
   ]
  },
  {
   "cell_type": "code",
   "execution_count": 375,
   "metadata": {},
   "outputs": [],
   "source": [
    "# rho_0_t0, rho_0_tfin, rho_k_t0, rho_k_tfin"
   ]
  },
  {
   "cell_type": "code",
   "execution_count": 376,
   "metadata": {},
   "outputs": [],
   "source": [
    "# X_t_lin = map_xy_exp_dens_t(X, nt_lin, rho_0_t0, rho_0_tfin, rho_k_t0, rho_k_tfin, y_k)\n",
    "\n",
    "# X_t = np.concatenate(\n",
    "#     [\n",
    "# #         np.repeat(X_t_lin[:1], nt_t, axis=0),\n",
    "#         X_t_lin,\n",
    "#         np.repeat(X_t_lin[-1:], nt - nt_lin, axis=0),\n",
    "#     ]\n",
    "# )"
   ]
  },
  {
   "cell_type": "code",
   "execution_count": 377,
   "metadata": {},
   "outputs": [],
   "source": [
    "# X_t = np.array([x - np.array([0, y_k]) for x in X_t])"
   ]
  },
  {
   "cell_type": "code",
   "execution_count": null,
   "metadata": {},
   "outputs": [],
   "source": []
  },
  {
   "cell_type": "code",
   "execution_count": null,
   "metadata": {},
   "outputs": [],
   "source": [
    "# ymap_ratio = ymap_t/X[:rows,1]\n",
    "# ymap_ratio[:, 0] = r_y_t(0, t, psi, y_k, rho_bar, rho_max)\n",
    "\n",
    "# ymap_t = np.tile(ymap_t, (1, cols))\n",
    "# ymap_ratio = np.tile(ymap_ratio, (1, cols))\n",
    "\n",
    "# xmap_t = X[:, 0] * ymap_ratio"
   ]
  },
  {
   "cell_type": "code",
   "execution_count": null,
   "metadata": {},
   "outputs": [],
   "source": []
  },
  {
   "cell_type": "code",
   "execution_count": 380,
   "metadata": {},
   "outputs": [],
   "source": [
    "# # Assign senders at regular intervals (~2% of cells)\n",
    "# sender_idx = []\n",
    "# for i in range(n):\n",
    "#     row = i % rows\n",
    "#     col = i // rows\n",
    "#     if (row % 8 == 1) & (col % 8 == 0):\n",
    "#         sender_idx.append(i)\n",
    "# sender_idx = np.array(sender_idx)"
   ]
  },
  {
   "cell_type": "code",
   "execution_count": null,
   "metadata": {},
   "outputs": [],
   "source": []
  },
  {
   "cell_type": "code",
   "execution_count": 548,
   "metadata": {},
   "outputs": [],
   "source": [
    "# # Get plotting window\n",
    "# xlim = X_t[-1, :, 0].min() - 1, X_t[-1, :, 0].max() + 1\n",
    "# ylim = X_t[-1, :, 1].min() - 1, X_t[-1, :, 1].max() + 1"
   ]
  },
  {
   "cell_type": "code",
   "execution_count": null,
   "metadata": {},
   "outputs": [],
   "source": []
  },
  {
   "cell_type": "code",
   "execution_count": 915,
   "metadata": {},
   "outputs": [],
   "source": [
    "# tc_masks = X_masks.copy()\n",
    "# tc_masks[:, sender_idx] = False\n",
    "\n",
    "# tc_y_pos_t = [y[m] for y, m in zip(X_t[-1, :, 1], tc_masks)]\n",
    "# tc_fluor_t = [s[m] for s, m in zip(S_t, tc_masks)]"
   ]
  },
  {
   "cell_type": "code",
   "execution_count": 916,
   "metadata": {},
   "outputs": [],
   "source": [
    "# tc_masks_static = np.tile(X_masks[-1], (nt,1))\n",
    "# tc_masks_static[:, sender_idx] = False\n",
    "# tc_y_pos_t = np.tile(X_t[-1, :, 1][tc_masks_static[0]], (nt,1))\n",
    "# tc_fluor_t = [s[tc_masks_static[0]] for s in S_t]"
   ]
  },
  {
   "cell_type": "code",
   "execution_count": 917,
   "metadata": {},
   "outputs": [],
   "source": [
    "# for i, t_ in enumerate(t_samples):\n",
    "# #     idx_hist = np.digitize(tc_y_pos_t[t_], bins = y_bins)\n",
    "#     for ib in range(nbins):\n",
    "# #         tc_fluor_t_bins[i, ib] = tc_fluor_t[t_][idx_hist == (ib + 1)].mean()\n",
    "#         tc_fluor_t_bins[i, ib] = S_t[]\n",
    "#     normfluor = np.array(tc_fluor_t_bins[i] / tc_fluor_t_bins[i].max())\n",
    "#     normfluor = np.nan_to_num(normfluor)\n",
    "#     tc_normfluor_t_bins[i] = normfluor"
   ]
  },
  {
   "cell_type": "code",
   "execution_count": null,
   "metadata": {},
   "outputs": [],
   "source": []
  },
  {
   "cell_type": "code",
   "execution_count": 942,
   "metadata": {},
   "outputs": [],
   "source": [
    "# data = pd.DataFrame(\n",
    "#     tc_fluor_t_bins, \n",
    "#     columns=y_bins[1:] - (np.diff(y_bins)/2), \n",
    "#     index=t[t_samples],\n",
    "# ).reset_index().melt(id_vars=\"index\")\n",
    "# data.columns = [\"simulation time\", \"position\", \"mean fluorescence\"]"
   ]
  },
  {
   "cell_type": "code",
   "execution_count": 944,
   "metadata": {},
   "outputs": [
    {
     "data": {
      "text/html": [
       "<img src='data:image/png;base64,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' style='max-width:100%; margin: auto; display: block; '/>"
      ],
      "text/plain": [
       ":NdOverlay   [simulation time]\n",
       "   :Curve   [position]   (mean fluorescence,simulation time)"
      ]
     },
     "metadata": {
      "application/vnd.holoviews_exec.v0+json": {}
     },
     "output_type": "display_data"
    }
   ],
   "source": [
    "# %%capture --no-stdout --no-display\n",
    "\n",
    "# cycle = lsig.sample_cycle(cc.linear_bmy_10_95_c71[:-20], nt_sample)\n",
    "\n",
    "# p1 = hv.Curve(\n",
    "#     data=data,\n",
    "#     kdims=[\"position\"],\n",
    "#     vdims=[\"mean fluorescence\", \"simulation time\"],\n",
    "# ).groupby(\n",
    "#     \"simulation time\"\n",
    "# ).overlay(\n",
    "# ).opts(\n",
    "#     legend_position=\"right\"\n",
    "# ).options(\n",
    "#     {\"Curve\": dict(color=cycle)}\n",
    "# )\n",
    "\n",
    "# hv.output(p1, dpi=100)"
   ]
  }
 ],
 "metadata": {
  "kernelspec": {
   "display_name": "Python 3",
   "language": "python",
   "name": "python3"
  },
  "language_info": {
   "codemirror_mode": {
    "name": "ipython",
    "version": 3
   },
   "file_extension": ".py",
   "mimetype": "text/x-python",
   "name": "python",
   "nbconvert_exporter": "python",
   "pygments_lexer": "ipython3",
   "version": "3.7.7"
  }
 },
 "nbformat": 4,
 "nbformat_minor": 4
}
