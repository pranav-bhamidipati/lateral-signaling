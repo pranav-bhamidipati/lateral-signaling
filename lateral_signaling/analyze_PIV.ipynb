{
 "cells": [
  {
   "cell_type": "code",
   "execution_count": null,
   "metadata": {},
   "outputs": [],
   "source": [
    "import numpy as np\n",
    "import pandas as pd\n",
    "import numba\n",
    "\n",
    "from glob import glob\n",
    "import os\n",
    "import subprocess\n",
    "from tqdm import tqdm \n",
    "\n",
    "import skimage\n",
    "import skimage.io as io\n",
    "import imageio\n",
    "from openpiv import tools, preprocess, pyprocess, validation, filters, scaling\n",
    "\n",
    "import bokeh.io\n",
    "import colorcet as cc\n",
    "import matplotlib.pyplot as plt\n"
   ]
  },
  {
   "cell_type": "code",
   "execution_count": null,
   "metadata": {},
   "outputs": [],
   "source": [
    "%matplotlib inline\n",
    "%load_ext blackcellmagic"
   ]
  },
  {
   "cell_type": "code",
   "execution_count": null,
   "metadata": {},
   "outputs": [],
   "source": [
    "# def get_velocity_field(\n",
    "#     frame_a,\n",
    "#     frame_b,\n",
    "#     window_size=64,\n",
    "#     search_area_size=64,\n",
    "#     overlap=16,\n",
    "#     frame_rate=None,\n",
    "#     time_interval=None,\n",
    "#     scaling_factor=96.52,\n",
    "#     *args,\n",
    "#     **kwargs\n",
    "# ):\n",
    "#     masked_a = preprocess.dynamic_masking(\n",
    "#         frame_a, method=\"edges\", filter_size=50, threshold=1e-2\n",
    "#     )\n",
    "#     masked_b = preprocess.dynamic_masking(\n",
    "#         frame_b, method=\"edges\", filter_size=50, threshold=1e-2\n",
    "#     )\n",
    "\n",
    "#     if time_interval is None:\n",
    "#         assert frame_rate is not None, \"Must specify `frame_rate` or `time_interval`.\"\n",
    "#         time_interval = 1 / frame_rate\n",
    "\n",
    "#     u, v, sig2noise = pyprocess.extended_search_area_piv(\n",
    "#         masked_a.astype(np.int32),\n",
    "#         masked_b.astype(np.int32),\n",
    "#         window_size=window_size,\n",
    "#         overlap=overlap,\n",
    "#         dt=time_interval,\n",
    "#         search_area_size=search_area_size,\n",
    "#         sig2noise_method=\"peak2peak\",\n",
    "#     )\n",
    "\n",
    "#     x, y = pyprocess.get_coordinates(\n",
    "#         image_size=masked_a.shape, window_size=window_size, overlap=overlap\n",
    "#     )\n",
    "#     u, v, mask = validation.global_std(u, v)\n",
    "#     u, v = filters.replace_outliers(u, v, method=\"localmean\", max_iter=3, kernel_size=3)\n",
    "#     x, y, u, v = scaling.uniform(x, y, u, v, scaling_factor=scaling_factor)\n",
    "\n",
    "#     return np.array((x, y, u, v, mask), dtype=np.float32)\n",
    "\n",
    "\n",
    "# def clean_image(path, print_updates=False):\n",
    "    \n",
    "#     if print_updates:\n",
    "#         print(f\"Cleaning {path}\")\n",
    "    \n",
    "#     # Read blue channel of RBG images\n",
    "#     im = io.imread(path)[:, :, 2]\n",
    "    \n",
    "#     # Cover timestamp with median mask\n",
    "#     mask = np.s_[1300:1380, 1400:1600]\n",
    "#     im = skimage.img_as_float(im)\n",
    "#     im[mask] = np.median(im)\n",
    "    \n",
    "#     # Normalize luminance\n",
    "#     im = (im - im.min()) / (im.max() - im.min())\n",
    "    \n",
    "#     # Filter the image with a strong Gaussian blur\n",
    "#     im_bg = skimage.filters.gaussian(im, 50.0)\n",
    "    \n",
    "#     # Subtract background\n",
    "#     im = im - im_bg\n",
    "    \n",
    "#     return im\n",
    "\n",
    "\n",
    "# @numba.njit\n",
    "# def get_speeds(u, v):\n",
    "#     return np.sqrt(u.ravel()**2 + v.ravel()**2)"
   ]
  },
  {
   "cell_type": "code",
   "execution_count": null,
   "metadata": {},
   "outputs": [],
   "source": [
    "# speed_dfs = []\n",
    "# avis = glob(\"C:/Users/Pranav/Documents/transceiver-density-overlay/*.avi\")\n",
    "# avis = [os.path.abspath(i) for i in avis]"
   ]
  },
  {
   "cell_type": "code",
   "execution_count": null,
   "metadata": {},
   "outputs": [],
   "source": [
    "from pathlib import Path\n",
    "\n",
    "\n",
    "data_dir = Path(\"../data\")\n",
    "timelapse_dir = data_dir.joinpath(\"time_lapse\")"
   ]
  },
  {
   "cell_type": "code",
   "execution_count": null,
   "metadata": {},
   "outputs": [],
   "source": [
    "im_files = list(timelapse_dir.glob(\"*.tiff\"))\n",
    "\n",
    "ims_f = str(im_files[0])\n",
    "# ims_collection = io.imread_collection([str(f) for f in im_files])\n",
    "\n",
    "ims = io.imread(ims_f)"
   ]
  },
  {
   "cell_type": "code",
   "execution_count": null,
   "metadata": {},
   "outputs": [],
   "source": [
    "ims.shape"
   ]
  },
  {
   "cell_type": "code",
   "execution_count": null,
   "metadata": {},
   "outputs": [],
   "source": [
    "def get_velocity_field(\n",
    "    image_a,\n",
    "    image_b,\n",
    "    window_size=64,\n",
    "    search_area_size=64,\n",
    "    overlap=16,\n",
    "    frame_rate=None,\n",
    "    time_interval=None,\n",
    "    scaling_factor=96.52,\n",
    "    *args,\n",
    "    **kwargs\n",
    "):\n",
    "    if time_interval is None:\n",
    "        assert frame_rate is not None, \"Must specify `frame_rate` or `time_interval`.\"\n",
    "        time_interval = 1 / frame_rate\n",
    "\n",
    "    u, v, sig2noise = pyprocess.extended_search_area_piv(\n",
    "        image_a.astype(np.int32),\n",
    "        image_b.astype(np.int32),\n",
    "        window_size=window_size,\n",
    "        overlap=overlap,\n",
    "        dt=time_interval,\n",
    "        search_area_size=search_area_size,\n",
    "        sig2noise_method=\"peak2peak\",\n",
    "    )\n",
    "\n",
    "    x, y = pyprocess.get_coordinates(\n",
    "        image_size=image_a.shape, window_size=window_size, overlap=overlap\n",
    "    )\n",
    "    \n",
    "    return x, y, u, v\n",
    "    \n",
    "    # u, v, mask = validation.global_std(u, v)\n",
    "    # u, v = filters.replace_outliers(u, v, method=\"localmean\", max_iter=3, kernel_size=3)\n",
    "    # x, y, u, v = scaling.uniform(x, y, u, v, scaling_factor=scaling_factor)\n",
    "\n",
    "    # return np.array((x, y, u, v, mask), dtype=np.float32)\n"
   ]
  },
  {
   "cell_type": "code",
   "execution_count": null,
   "metadata": {},
   "outputs": [],
   "source": [
    "filter_sizes = 5, 10, 25, 50, 100, 200\n",
    "\n",
    "\n",
    "masked = [\n",
    "    preprocess.dynamic_masking(a, method=\"edges\", filter_size=f)[0]\n",
    "    for f in filter_sizes\n",
    "]"
   ]
  },
  {
   "cell_type": "code",
   "execution_count": null,
   "metadata": {},
   "outputs": [],
   "source": [
    "fig = plt.figure(figsize=(16, 12))\n",
    "\n",
    "for i in range(4):\n",
    "    \n",
    "    fig.add_subplot(3, 2, i + 1)\n",
    "    plt.title(f\"Thresh = 10 ^ {i - 4}\")\n",
    "    \n",
    "    plt.imshow(masked[i])\n",
    "\n",
    "plt.tight_layout()"
   ]
  },
  {
   "cell_type": "code",
   "execution_count": null,
   "metadata": {},
   "outputs": [],
   "source": [
    "mb[0].max()"
   ]
  },
  {
   "cell_type": "code",
   "execution_count": null,
   "metadata": {},
   "outputs": [],
   "source": [
    "vel_data = []\n",
    "\n",
    "frame_skip = 50\n",
    "\n",
    "n_frames, *imshape = ims.shape\n",
    "for i in range(0, n_frames, frame_skip):\n",
    "    x, y, u, v = get_velocity_field(ims[i], ims[i + 1], time_interval = 1)\n",
    "    \n",
    "    vel_data.append(tuple(x, y, u, v))"
   ]
  },
  {
   "cell_type": "code",
   "execution_count": null,
   "metadata": {},
   "outputs": [],
   "source": []
  }
 ],
 "metadata": {
  "kernelspec": {
   "display_name": "Python 3.9.7",
   "language": "python",
   "name": "python3"
  },
  "language_info": {
   "codemirror_mode": {
    "name": "ipython",
    "version": 3
   },
   "file_extension": ".py",
   "mimetype": "text/x-python",
   "name": "python",
   "nbconvert_exporter": "python",
   "pygments_lexer": "ipython3",
   "version": "3.9.7"
  },
  "orig_nbformat": 4,
  "vscode": {
   "interpreter": {
    "hash": "e2f1e49e634b0bebea96baab4cfdfc713a07d2a13c0432e0e988bfefcce553dd"
   }
  }
 },
 "nbformat": 4,
 "nbformat_minor": 2
}
