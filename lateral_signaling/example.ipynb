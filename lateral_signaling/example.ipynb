{
 "cells": [
  {
   "cell_type": "code",
   "execution_count": null,
   "id": "27bec50e-c278-4b52-97d0-30b3eee1fabe",
   "metadata": {},
   "outputs": [],
   "source": [
    "from pathlib import Path\n",
    "import json\n",
    "import h5py"
   ]
  },
  {
   "cell_type": "markdown",
   "id": "6fc07007-7b56-40ec-b463-398d25ee44df",
   "metadata": {},
   "source": [
    "# Simulation of signal propagation on a hexagonal lattice by lateral induction\n",
    "\n",
    "This notebook is intended to help the user to reproduce simulation results for the following manuscript:\n",
    "\n",
    "    Control of spatio-temporal patterning via cell density in a multicellular synthetic gene circuit\n",
    "    Marco Santorelli, Pranav S. Bhamidipati, Andriu Kavanagh, Victoria A. MacKrell, Trusha Sondkar, Matt Thomson, Leonardo Morsut\n",
    "    bioRxiv 2022.10.04.510900; doi: https://doi.org/10.1101/2022.10.04.510900\n",
    "    \n",
    "Before beginning this tutorial, please follow the installation instructions in `README.md`, including the creation of an IPython kernel for this notebook. All the contents for this package are contained in the folder `lateral_signaling`. Please note that all scripts in the package are intended to be run from inside this folder!"
   ]
  },
  {
   "cell_type": "markdown",
   "id": "0e44febe-3be6-4a03-9ecd-18144933a98c",
   "metadata": {},
   "source": [
    "---"
   ]
  },
  {
   "cell_type": "markdown",
   "id": "f8be6458-7b32-4a02-9ef9-2f3179c9dbac",
   "metadata": {},
   "source": [
    "The main module contents are in `lateral_signaling.py`, so we import that first."
   ]
  },
  {
   "cell_type": "code",
   "execution_count": null,
   "id": "ec60daef-a664-47d2-88de-3d13a5448f75",
   "metadata": {},
   "outputs": [],
   "source": [
    "import lateral_signaling as lsig"
   ]
  },
  {
   "cell_type": "markdown",
   "id": "745b1778-98e6-4767-b910-4cf8e2501dab",
   "metadata": {},
   "source": [
    "The module contains simulations of a few different scenarios. We will first see how it works in the default case (\"`basicsim`\") with a single sender cell in the midst of a hexagonal lattice of transceivers, with cell density dynamics taken into account. To keep track of all metadata for our simulations such as parameter configuration, system configuration, random seeds, etc. we use the data provenance package `sacred`. "
   ]
  },
  {
   "cell_type": "markdown",
   "id": "c043ea21-b661-48a7-9da8-c8a824052029",
   "metadata": {},
   "source": [
    "__Running a simulation script__\n",
    "\n",
    "To run a working example, you can simply execute one of the simulation scripts at the command line (e.g. `python simulate_basicsim_run_increasingdensity.py`)."
   ]
  },
  {
   "cell_type": "markdown",
   "id": "60da50df-a9f2-4763-ae74-93f6cd9ea72e",
   "metadata": {},
   "source": [
    "__A simulation example__\n",
    "\n",
    "A more detailed walkthrough of what happens when you run a script such as the one above. The first step is to import this simulation (\"experiment\" in `sacred`'s parlance) from the corresponding `run_one` script."
   ]
  },
  {
   "cell_type": "code",
   "execution_count": null,
   "id": "1d3dc1b0-c210-4d69-97b9-6f342ff05324",
   "metadata": {},
   "outputs": [],
   "source": [
    "from simulate_basicsim_run_one import ex"
   ]
  },
  {
   "cell_type": "markdown",
   "id": "a72ba8b8-8b25-45f5-82e7-79357eac2edb",
   "metadata": {},
   "source": [
    "We can inspect this object to see its metadata."
   ]
  },
  {
   "cell_type": "code",
   "execution_count": null,
   "id": "0464def2-5815-4eab-90f6-d43abab4b371",
   "metadata": {},
   "outputs": [],
   "source": [
    "from pprint import pprint\n",
    "\n",
    "print(\"Experiment info:\\n\")\n",
    "pprint(ex.get_experiment_info())\n",
    "\n",
    "print(f\"\\nDirectory for saving results:\\n\\t{ex.observers[0].basedir}\\n\")"
   ]
  },
  {
   "cell_type": "markdown",
   "id": "209fafcd-2ca5-48e6-a513-c70d154bb3b5",
   "metadata": {},
   "source": [
    "This information, along with more information stored at experiment run-time, enables reproduction of results. \n",
    "\n",
    "To run this experiment with the default configuration, simply execute the `run` method with no arguments."
   ]
  },
  {
   "cell_type": "code",
   "execution_count": null,
   "id": "46d6e10c-74b6-458b-802c-f63158c890ac",
   "metadata": {},
   "outputs": [],
   "source": [
    "first_run = ex.run()"
   ]
  },
  {
   "cell_type": "markdown",
   "id": "511d7d9c-1d8c-4760-9af3-10c100a28390",
   "metadata": {},
   "source": [
    "We can inspect the metadata and outputs of this run, which are saved in a numbered subfolder of the `sacred` directory."
   ]
  },
  {
   "cell_type": "code",
   "execution_count": null,
   "id": "7f083803-c1a2-48f7-b473-b6cc06271018",
   "metadata": {},
   "outputs": [],
   "source": [
    "run_dir = Path(first_run.observers[0].dir)\n",
    "print(\"\\nResults and metadata were saved here : \", run_dir.absolute())\n",
    "print(\"\\nFiles created:\", *[d.name for d in run_dir.glob(\"*\")], sep=\"\\n\\t\")"
   ]
  },
  {
   "cell_type": "markdown",
   "id": "1d4f20bc-7819-4c16-81f3-fec8fded67ea",
   "metadata": {},
   "source": [
    "The `run.json` file contains metadata for this run, and `config.json` contains the default parameter configuration, along with the random number generator seed used for this run."
   ]
  },
  {
   "cell_type": "code",
   "execution_count": null,
   "id": "65bdd4db-62d9-4b90-80c8-911d699ec7dc",
   "metadata": {},
   "outputs": [],
   "source": [
    "print(\"config.json:\\n\")\n",
    "pprint(json.load(run_dir.joinpath(\"config.json\").open(\"r\")))"
   ]
  },
  {
   "cell_type": "markdown",
   "id": "8a45c9b0-6558-4c85-839a-4fbb2183465d",
   "metadata": {},
   "source": [
    "`results.hdf5` contains the saved output of the simulation in HDF format. Let's inspect this to see what was saved."
   ]
  },
  {
   "cell_type": "code",
   "execution_count": null,
   "id": "a23214cc-3366-4d5f-add4-45d1b3171af3",
   "metadata": {},
   "outputs": [],
   "source": [
    "import numpy as np\n",
    "\n",
    "with h5py.File(run_dir.joinpath(\"results.hdf5\"), \"r\") as f:\n",
    "    pprint(f.keys())"
   ]
  },
  {
   "cell_type": "markdown",
   "id": "ff3b0d8a-f93e-4bc6-95fc-e6ecaa126c73",
   "metadata": {},
   "source": [
    "This run saved the simulation time-points `t`, density over time `rho_t`, expression over time for reporter `R_t` and signaling ligand `S_t`, the index of the single sender cell `sender_idx`, and the xy coordinates of cells in the hexagonal lattice `X`.\n",
    "\n",
    "Let's extract time and expression information and plot example expression for the sender cell and one of its neighbors."
   ]
  },
  {
   "cell_type": "code",
   "execution_count": null,
   "id": "c2c3e2f9-92f0-4bcb-b85d-8975742532c2",
   "metadata": {},
   "outputs": [],
   "source": [
    "with h5py.File(run_dir.joinpath(\"results.hdf5\"), \"r\") as f:\n",
    "    \n",
    "    t = np.array(f[\"t\"])\n",
    "    t_days = lsig.t_to_units(t)\n",
    "    \n",
    "    rho_t = np.array(f[\"rho_t\"])\n",
    "    S_t = np.array(f[\"S_t\"])\n",
    "    R_t = np.array(f[\"R_t\"])\n",
    "    sender_idx = np.array(f[\"sender_idx\"])\n",
    "    \n",
    "    X = np.array(f[\"X\"])                    # Stores cell coordinates for rho=1\n",
    "    X = X - X[sender_idx]                   # Center coordinates on the sender cell\n",
    "    X_t = lsig.transform_lattice(X, rho_t)  # Get coordinates over time as density increases"
   ]
  },
  {
   "cell_type": "code",
   "execution_count": null,
   "id": "9f1666c8-7b78-4fd2-9bc1-0fb37c699954",
   "metadata": {},
   "outputs": [],
   "source": [
    "import matplotlib.pyplot as plt\n",
    "%matplotlib inline\n",
    "\n",
    "plt.plot(t, S_t[:, sender_idx], c=\"blue\")\n",
    "plt.plot(t, S_t[:, sender_idx + 1], c=\"black\")"
   ]
  },
  {
   "cell_type": "markdown",
   "id": "392924da-211c-442e-bfb9-b502aaf50477",
   "metadata": {},
   "source": [
    "We can also plot gene expression for all the cells on the lattice using functions from the `lsig.viz` module"
   ]
  },
  {
   "cell_type": "code",
   "execution_count": null,
   "id": "d393eb26-0881-475f-b6e3-3d611a455722",
   "metadata": {},
   "outputs": [],
   "source": [
    "# Plot at days 1, 2, 3, 4\n",
    "time_points_days = np.arange(1, 5)                     # units of days\n",
    "time_points = time_points_days / lsig.t_to_units(1)    # simulation time units (dimensionless)\n",
    "\n",
    "L = 20   \n",
    "xlim = -L/2, L/2\n",
    "ylim = -L/2, L/2\n",
    "\n",
    "fig = plt.figure()\n",
    "fig.set_facecolor(\"black\")\n",
    "for plot_idx, tp in enumerate(time_points):\n",
    "    ax = fig.add_subplot(2, 2, plot_idx + 1)\n",
    "    \n",
    "    i = np.searchsorted(t, tp)\n",
    "    lsig.viz.plot_hex_sheet(\n",
    "        ax=ax,\n",
    "        X=X_t[i],\n",
    "        var=S_t[i],\n",
    "        rho=rho_t[i],\n",
    "        cmap=lsig.viz.kgy,\n",
    "        title=fr\"Day {i + 1:.1f}, $\\rho={{{rho_t[i]:.2f}}}$\",\n",
    "        xlim=xlim,\n",
    "        ylim=ylim,\n",
    "        scalebar=True,\n",
    "    )"
   ]
  },
  {
   "cell_type": "markdown",
   "id": "12bb7917-06b0-4adb-b69c-1382c020c4c5",
   "metadata": {},
   "source": [
    "We can also animate this and save it to a file in `lsig`'s default plotting directory (`lsig.plot_dir`)"
   ]
  },
  {
   "cell_type": "code",
   "execution_count": null,
   "id": "98d1e0cc-389e-4b6d-91f8-3ff80cac3b10",
   "metadata": {},
   "outputs": [],
   "source": [
    "def animate_hex_sheet(\n",
    "    fname,\n",
    "    X_t,\n",
    "    var_t,\n",
    "    rho_t,\n",
    "    title_func,\n",
    "    cmap=lsig.viz.kgy,\n",
    "    scalebar=True,\n",
    "    n_frames=50,\n",
    "    fps=10,\n",
    "    dpi=120,\n",
    "    save_dir=lsig.plot_dir,\n",
    "    writer=\"ffmpeg\",\n",
    "    progress=True,\n",
    "    **hex_kw\n",
    "):\n",
    "    \n",
    "    from matplotlib import animation\n",
    "    \n",
    "    nt = X_t.shape[0]\n",
    "    frames = lsig.vround(np.linspace(0, nt - 1, n_frames))\n",
    "\n",
    "    fig, ax = plt.subplots()\n",
    "\n",
    "    def anim(i):\n",
    "        \"\"\"Plot frame of animation\"\"\"\n",
    "        ax.clear()\n",
    "        lsig.viz.plot_hex_sheet(\n",
    "            ax=ax, \n",
    "            X=X_t[frames[i]],\n",
    "            var=var_t[frames[i]],\n",
    "            rho=rho_t[frames[i]],\n",
    "            title=title_func(frames, i),\n",
    "            cmap=cmap,\n",
    "            scalebar=scalebar,\n",
    "            **hex_kw\n",
    "        )\n",
    "\n",
    "    _writer = animation.writers[writer](fps=fps, bitrate=1800)\n",
    "    _anim_FA = animation.FuncAnimation(fig, anim, frames=n_frames, interval=200)\n",
    "\n",
    "    # Get path and print to output\n",
    "    fpath = save_dir.joinpath(fname).with_suffix(\".mp4\")\n",
    "    print(\"Writing to:\", fpath.resolve().absolute())\n",
    "    \n",
    "    # Save animation\n",
    "    callback_func = lambda i, n: print(f\"Frame {i+1} / {n}\")\n",
    "    _callback = dict(progress_callback=callback_func) if progress else {}\n",
    "    _anim_FA.save(\n",
    "        fpath,\n",
    "        writer=_writer,\n",
    "        dpi=dpi,\n",
    "        **_callback\n",
    "    )"
   ]
  },
  {
   "cell_type": "markdown",
   "id": "f7f345db-1967-4e68-bf49-6f005702f538",
   "metadata": {},
   "source": [
    "Running the animation function might take a few minutes"
   ]
  },
  {
   "cell_type": "code",
   "execution_count": null,
   "id": "8f6c914a-4a00-4700-8782-13e221216031",
   "metadata": {},
   "outputs": [],
   "source": [
    "title_func = lambda frames, i: f\"{t_days[frames[i]]:.2f} days\"\n",
    "\n",
    "animate_hex_sheet(\n",
    "    \"example.mp4\",\n",
    "    X_t=X_t,\n",
    "    var_t=S_t,\n",
    "    rho_t=rho_t,\n",
    "    title_func=title_func,\n",
    "    xlim=xlim,\n",
    "    ylim=ylim,\n",
    ");"
   ]
  },
  {
   "cell_type": "code",
   "execution_count": null,
   "id": "9f0c16f9-2cf7-428a-a4fd-2c1717d3d925",
   "metadata": {},
   "outputs": [],
   "source": [
    "from IPython.display import Video\n",
    "\n",
    "# Play video\n",
    "Video(lsig.plot_dir.joinpath(\"example.mp4\"))"
   ]
  },
  {
   "cell_type": "markdown",
   "id": "db2135ee-4669-446e-8ffa-b9e98a29d0f8",
   "metadata": {},
   "source": [
    "We can change this parameter configuration and re-run the entire pipeline by passing parameter updates to the `ex` object"
   ]
  },
  {
   "cell_type": "code",
   "execution_count": null,
   "id": "6a1c981f-4f7d-42bb-a98b-f897379c7a24",
   "metadata": {},
   "outputs": [],
   "source": [
    "# Make updates to parameters\n",
    "config_updates = {\n",
    "    \"alpha\": 2.0,    # Weaker promoter (default 3.0)\n",
    "    \"g\": 0.5,        # Slower growth rate (1.0 is wild-type rate)\n",
    "}\n",
    "\n",
    "# Run with updates\n",
    "run2 = ex.run(config_updates=config_updates)\n",
    "\n",
    "# Extract data\n",
    "run2_dir = Path(run2.observers[0].dir)\n",
    "with h5py.File(run2_dir.joinpath(\"results.hdf5\"), \"r\") as f:\n",
    "    \n",
    "    t = np.array(f[\"t\"])\n",
    "    t_days = lsig.t_to_units(t)\n",
    "    \n",
    "    rho_t = np.array(f[\"rho_t\"])\n",
    "    S_t = np.array(f[\"S_t\"])\n",
    "    R_t = np.array(f[\"R_t\"])\n",
    "    sender_idx = np.array(f[\"sender_idx\"])\n",
    "    \n",
    "    X = np.array(f[\"X\"])                    \n",
    "    X = X - X[sender_idx]                   \n",
    "    X_t = lsig.transform_lattice(X, rho_t)  \n",
    "\n",
    "    \n",
    "# Animate results\n",
    "title_func = lambda frames, i: f\"{t_days[frames[i]]:.2f} days\"\n",
    "animate_hex_sheet(\n",
    "    \"example_v2.mp4\",\n",
    "    X_t=X_t,\n",
    "    var_t=S_t,\n",
    "    rho_t=rho_t,\n",
    "    title_func=title_func,\n",
    "    xlim=xlim,\n",
    "    ylim=ylim,\n",
    " )"
   ]
  },
  {
   "cell_type": "code",
   "execution_count": null,
   "id": "c697dea2-7fac-4d60-bb8f-5299b9e4916e",
   "metadata": {},
   "outputs": [],
   "source": [
    "from IPython.display import Video\n",
    "\n",
    "# Play video\n",
    "Video(lsig.plot_dir.joinpath(\"example_v2.mp4\"))"
   ]
  },
  {
   "cell_type": "code",
   "execution_count": null,
   "id": "a1c5664f-d044-4bac-9019-6d599f52ae76",
   "metadata": {},
   "outputs": [],
   "source": []
  }
 ],
 "metadata": {
  "kernelspec": {
   "display_name": "lateral-signaling",
   "language": "python",
   "name": "lateral-signaling"
  },
  "language_info": {
   "codemirror_mode": {
    "name": "ipython",
    "version": 3
   },
   "file_extension": ".py",
   "mimetype": "text/x-python",
   "name": "python",
   "nbconvert_exporter": "python",
   "pygments_lexer": "ipython3",
   "version": "3.9.13"
  }
 },
 "nbformat": 4,
 "nbformat_minor": 5
}
