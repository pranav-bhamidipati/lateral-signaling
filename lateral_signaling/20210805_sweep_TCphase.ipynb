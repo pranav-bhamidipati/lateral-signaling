{
 "cells": [
  {
   "cell_type": "code",
   "execution_count": 29,
   "id": "champion-founder",
   "metadata": {},
   "outputs": [],
   "source": [
    "import lateral_signaling as lsig\n",
    "import numpy as np\n",
    "import pandas as pd\n",
    "from tqdm import tqdm\n",
    "import numba\n",
    "\n",
    "import scipy.stats as st\n",
    "from scipy.sparse import csr_matrix, diags\n",
    "\n",
    "import os\n",
    "from glob import glob"
   ]
  },
  {
   "cell_type": "code",
   "execution_count": 30,
   "id": "ongoing-private",
   "metadata": {},
   "outputs": [],
   "source": [
    "# Unique name of current run\n",
    "run_name = \"20210805_sweep_TCphase_dense\"\n",
    "\n",
    "# Name of parameter set\n",
    "trial_name = \"lowcis_expbeta\"\n",
    "\n",
    "# Seed for RNG\n",
    "seed = 2021\n",
    "\n",
    "# Whether to display progress\n",
    "progress_bar = True"
   ]
  },
  {
   "cell_type": "code",
   "execution_count": 31,
   "id": "modern-hospital",
   "metadata": {},
   "outputs": [],
   "source": [
    "# # Directory containing parameter set\n",
    "# trial_dir = \"/home/pbhamidi/git/evomorph/lateral_signaling/\"\n",
    "\n",
    "# # Saving directory\n",
    "# save_dir = \"/home/pbhamidi/git/evomorph/lateral_signaling/HPC_data\"\n",
    "\n",
    "# # Path to MLE growth parameters data\n",
    "# mle_params_file = \"/home/pbhamidi/git/evomorph/data/growth_parameters_MLE.csv\"\n",
    "\n",
    "# # Working directory\n",
    "# wd = \"/home/pbhamidi/git/evomorph/lateral_signaling/\""
   ]
  },
  {
   "cell_type": "code",
   "execution_count": 32,
   "id": "altered-airplane",
   "metadata": {},
   "outputs": [],
   "source": [
    "# Directory containing parameter set\n",
    "trial_dir = \"C:/Users/Pranav/git/evomorph/lateral_signaling/\"\n",
    "\n",
    "# Saving directory\n",
    "save_dir = \"C:/Users/Pranav/git/evomorph/lateral_signaling/sim_data/\"\n",
    "\n",
    "# Path to MLE growth parameters data\n",
    "mle_params_file = \"C://Users/Pranav/git/evomorph/data/growth_parameters_MLE.csv\"\n",
    "\n",
    "# Working directory\n",
    "wd = \"C:/Users/Pranav/git/evomorph/lateral_signaling/\""
   ]
  },
  {
   "cell_type": "markdown",
   "id": "welsh-subscription",
   "metadata": {},
   "source": [
    "<hr>"
   ]
  },
  {
   "cell_type": "code",
   "execution_count": 33,
   "id": "rural-consistency",
   "metadata": {},
   "outputs": [],
   "source": [
    "# Set random seed\n",
    "np.random.seed(seed)"
   ]
  },
  {
   "cell_type": "markdown",
   "id": "moral-opinion",
   "metadata": {},
   "source": [
    "__Set up filesystem__"
   ]
  },
  {
   "cell_type": "code",
   "execution_count": 34,
   "id": "featured-admission",
   "metadata": {},
   "outputs": [
    {
     "name": "stdout",
     "output_type": "stream",
     "text": [
      "Current directory: C:\\Users\\Pranav\\git\\evomorph\\lateral_signaling\n",
      "Will save to directory: C:\\Users\\Pranav\\git\\evomorph\\lateral_signaling\\sim_data\n"
     ]
    }
   ],
   "source": [
    "# Move to correct working directory\n",
    "os.chdir(wd)\n",
    "print(\"Current directory:\", os.getcwd())\n",
    "\n",
    "# Directory to save results\n",
    "save_dir = os.path.realpath(save_dir)\n",
    "assert os.path.exists(save_dir), f\"Directory does not exist: {save_dir}\"\n",
    "print(\"Will save to directory:\", save_dir)"
   ]
  },
  {
   "cell_type": "markdown",
   "id": "eight-sunset",
   "metadata": {},
   "source": [
    "__Define free parameters to be sampled__"
   ]
  },
  {
   "cell_type": "code",
   "execution_count": 51,
   "id": "infectious-connecticut",
   "metadata": {},
   "outputs": [],
   "source": [
    "# Dense sampling\n",
    "rep_space     = np.arange(5)\n",
    "g_space       = np.linspace(0, 2.4, 25)[1:]\n",
    "rho_0_space   = np.linspace(0, 6, 25)[1:]\n",
    "# rho_max_space = np.linspace(0, 6, 25)[1:]\n",
    "\n",
    "# # Sparse sampling\n",
    "# rep_space     = np.arange(5)\n",
    "# g_space       = np.linspace(0.05, 2., 5)\n",
    "# rho_0_space   = np.linspace(0, 6, 5)[1:]\n",
    "# rho_max_space = np.linspace(0, 6, 5)[1:]\n",
    " \n",
    "free_params = (\n",
    "    rep_space, \n",
    "    g_space, \n",
    "    rho_0_space, \n",
    "#     rho_max_space,\n",
    ")\n",
    "\n",
    "free_param_names = (\n",
    "    \"rep\", \n",
    "    \"g\", \n",
    "    \"rho_0\", \n",
    "#     \"rho_max\",\n",
    ")\n",
    "\n",
    "# Make array with all combinations of params\n",
    "param_space = np.meshgrid(*free_params)\n",
    "param_space = np.array(param_space).T.reshape(-1, len(free_params))"
   ]
  },
  {
   "cell_type": "markdown",
   "id": "certain-terminal",
   "metadata": {},
   "source": [
    "__Sampling metadata__"
   ]
  },
  {
   "cell_type": "code",
   "execution_count": 52,
   "id": "thermal-prague",
   "metadata": {},
   "outputs": [],
   "source": [
    "# Get number of simulations\n",
    "n_runs = param_space.shape[0]\n",
    "\n",
    "# Get number of replicates\n",
    "n_reps = rep_space.size\n",
    "\n",
    "# Get number of unique parameter sets in sweep\n",
    "n_param_sets = int(n_runs / n_reps)"
   ]
  },
  {
   "cell_type": "markdown",
   "id": "checked-cricket",
   "metadata": {},
   "source": [
    "__Load growth parameters from file__"
   ]
  },
  {
   "cell_type": "code",
   "execution_count": 53,
   "id": "professional-truck",
   "metadata": {},
   "outputs": [],
   "source": [
    "assert os.path.exists(mle_params_file), \"File does not exist\"\n",
    "\n",
    "# Load all growth params\n",
    "mle_params_df = pd.read_csv(mle_params_file, index_col=0)\n",
    "\n",
    "# Get parameters for untreated condition\n",
    "g, rho_max = mle_params_df.loc[\n",
    "    mle_params_df.condition == \"untreated\", [\"g_ratio\", \"rho_max_ratio\"]\n",
    "].values.ravel()"
   ]
  },
  {
   "cell_type": "markdown",
   "id": "dense-persian",
   "metadata": {},
   "source": [
    "__Define important equation(s)__"
   ]
  },
  {
   "cell_type": "code",
   "execution_count": 54,
   "id": "coordinate-automation",
   "metadata": {},
   "outputs": [],
   "source": [
    "def signal_rhs(S, S_delay, Adj, sender_idx, beta_func, beta_args, alpha, k, p, delta, lambda_, rho):\n",
    "    \"\"\"\n",
    "    Right-hand side of the transciever circuit delay \n",
    "    differential equation. Uses a matrix of cell-cell contact \n",
    "    lengths `L`.\n",
    "    \"\"\"\n",
    "\n",
    "    # Get signaling as a function of density\n",
    "    beta = beta_func(rho, *beta_args)\n",
    "    \n",
    "    # Get input signal across each interface\n",
    "    S_bar = beta * (Adj @ S_delay)\n",
    "\n",
    "    # Calculate dE/dt\n",
    "    dS_dt = (\n",
    "        lambda_\n",
    "        + alpha\n",
    "        * (S_bar ** p)\n",
    "        / (\n",
    "            k ** p \n",
    "            + (delta * S_delay) ** p \n",
    "            + S_bar ** p\n",
    "        )\n",
    "        - S\n",
    "    )\n",
    "\n",
    "    # Set sender cell to zero\n",
    "    dS_dt[sender_idx] = 0\n",
    "\n",
    "    return dS_dt\n",
    "\n",
    "\n",
    "def reporter_rhs(R, R_delay, S, gamma_R, sender_idx):\n",
    "    \"\"\"Reporter dynamical equation\"\"\"\n",
    "    \n",
    "    dR_dt = (S - R) * gamma_R\n",
    "    dR_dt[sender_idx] = 0\n",
    "    \n",
    "    return dR_dt"
   ]
  },
  {
   "cell_type": "code",
   "execution_count": 55,
   "id": "entire-potato",
   "metadata": {},
   "outputs": [],
   "source": [
    "# Set beta(rho)\n",
    "beta_func = lsig.beta_rho_exp"
   ]
  },
  {
   "cell_type": "markdown",
   "id": "appointed-trial",
   "metadata": {},
   "source": [
    "__Load signaling params from file__"
   ]
  },
  {
   "cell_type": "code",
   "execution_count": 56,
   "id": "hairy-princeton",
   "metadata": {},
   "outputs": [],
   "source": [
    "# Search trial_dir for parameter set CSV\n",
    "params_regexp = \"*\" + trial_name + \"*.csv\"\n",
    "params_path = glob(os.path.join(trial_dir, params_regexp))\n",
    "\n",
    "# Load parameter set\n",
    "if len(params_path) == 0:\n",
    "    raise FileNotFoundError(\n",
    "        f\"No file matches the regular expression `{params_regexp}` \"\n",
    "        + f\"in the directory `{os.path.abspath(trial_dir)}` .\"\n",
    "    )\n",
    "elif len(params_path) > 1:\n",
    "    raise FileNotFoundError(\n",
    "        f\"More than one file matches the regular expression \"\n",
    "        + f\"`{params_regexp}` in the directory \"\n",
    "        + f\"`{os.path.abspath(trial_dir)}` \"\n",
    "    )\n",
    "else:\n",
    "    # Read trial parameters\n",
    "    params_path = os.path.abspath(params_path[0])\n",
    "    params_df = pd.read_csv(params_path)\n",
    "\n",
    "# Get any arguments for beta function\n",
    "is_beta_arg = [p.startswith(\"beta_\") for p in params_df[\"parameter\"].values]\n",
    "beta_args   = params_df.value.values[is_beta_arg]\n",
    "\n",
    "# Get the delay parameter\n",
    "is_delay    = [p == \"delay\" for p in params_df[\"parameter\"].values]\n",
    "delay       = params_df.value.values[is_delay][0]\n",
    "\n",
    "# Package all other parameters \n",
    "is_param    = [not (ba or d) for ba, d in zip(is_beta_arg, is_delay)]\n",
    "param_names = params_df.parameter.values[is_param].astype(str)\n",
    "param_vals  = params_df.value.values[is_param].astype(np.float32)\n",
    "\n",
    "# Package arguments for lsig.integrate_DDE and \n",
    "#   lsig.integrate_DDE_varargs. Density param is \n",
    "#   initialized with an arbitrary value.\n",
    "dde_args = *param_vals, 1.\n",
    "\n",
    "# Get `g`\n",
    "where_g = next(i for i, pn in enumerate(param_names) if \"g\" == pn)\n",
    "g = param_vals[where_g]\n",
    "\n",
    "# (Optional) Remove `g` from signaling parameters\n",
    "dde_args = [*dde_args[:where_g], *dde_args[(where_g+1):]]\n",
    "\n",
    "# Get index of `rho` (last argument)\n",
    "where_rho = len(dde_args) - 1\n",
    "\n",
    "# Get `k`\n",
    "where_k = next(i for i, pn in enumerate(param_names) if \"k\" == pn)\n",
    "k = param_vals[where_k]\n",
    "thresh = k\n",
    "\n",
    "# Get basal promoter activity (`lambda`)\n",
    "lambda_ = dde_args[4]"
   ]
  },
  {
   "cell_type": "markdown",
   "id": "reverse-allocation",
   "metadata": {},
   "source": [
    "__Set time parameters__"
   ]
  },
  {
   "cell_type": "code",
   "execution_count": 57,
   "id": "homeless-extent",
   "metadata": {},
   "outputs": [],
   "source": [
    "# Set time parameters\n",
    "tmax = 5\n",
    "nt_t = 100\n",
    "\n",
    "# Get time points\n",
    "nt = int(nt_t * tmax) + 1\n",
    "t = np.linspace(0, tmax, nt)"
   ]
  },
  {
   "cell_type": "markdown",
   "id": "existing-content",
   "metadata": {},
   "source": [
    "__Construct lattice of cells__"
   ]
  },
  {
   "cell_type": "code",
   "execution_count": 58,
   "id": "dominant-entrepreneur",
   "metadata": {},
   "outputs": [],
   "source": [
    "# Make lattice\n",
    "rows = cols = 100\n",
    "X, Adj = lsig.hex_Adj(rows, cols, sparse=True, row_stoch=True)\n",
    "\n",
    "# Get # cells\n",
    "n = X.shape[0]"
   ]
  },
  {
   "cell_type": "markdown",
   "id": "atomic-competition",
   "metadata": {},
   "source": [
    "__Set sender parameters__"
   ]
  },
  {
   "cell_type": "code",
   "execution_count": 59,
   "id": "classical-contributor",
   "metadata": {},
   "outputs": [],
   "source": [
    "# Percent senders in lattice\n",
    "pct_s = 1\n",
    "\n",
    "# Number of senders\n",
    "n_s = int(n * (pct_s / 100)) + 1"
   ]
  },
  {
   "cell_type": "markdown",
   "id": "upper-mozambique",
   "metadata": {},
   "source": [
    "__Generate random initial expression and sender locations__"
   ]
  },
  {
   "cell_type": "code",
   "execution_count": 60,
   "id": "incoming-official",
   "metadata": {},
   "outputs": [],
   "source": [
    "# Get sender indices for each replicate\n",
    "sender_idx_rep = np.empty((n_reps, n_s), dtype=int)\n",
    "S0_rep         = np.empty((n_reps, n), dtype=np.float32)\n",
    "\n",
    "for rep in rep_space:\n",
    "    \n",
    "    # Change random seed for each replicate\n",
    "    seed_ = seed + rep\n",
    "    np.random.seed(seed_)\n",
    "    \n",
    "    # Assign senders randomly\n",
    "    sender_idx_rep[rep] = np.random.choice(n, n_s, replace=False)\n",
    "    \n",
    "    # Random initial expression\n",
    "    ## Drawn from a Half-Normal distribution with mean `lambda`\n",
    "    S0_rep[rep] = st.halfnorm.rvs(\n",
    "        size=n, \n",
    "        scale=lambda_ * np.sqrt(np.pi/2), \n",
    "        random_state=seed_,\n",
    "    ).astype(np.float32)\n",
    "    \n",
    "    # Fix sender cell(s) to constant expression\n",
    "    S0_rep[rep, sender_idx_rep[rep]] = 1\n",
    "    \n",
    "# Reset random seed\n",
    "np.random.seed(seed)"
   ]
  },
  {
   "cell_type": "markdown",
   "id": "ultimate-aging",
   "metadata": {},
   "source": [
    "__Set reporter signaling parameters__"
   ]
  },
  {
   "cell_type": "code",
   "execution_count": 61,
   "id": "canadian-helicopter",
   "metadata": {},
   "outputs": [],
   "source": [
    "# Reporter kinetics ratio\n",
    "gamma_R = 0.1\n",
    "\n",
    "# Package into args for reporter_rhs\n",
    "R_args = [S0_rep[0], gamma_R, sender_idx_rep[0]]\n",
    "\n",
    "# Initial R expression \n",
    "R0 = np.zeros(n, dtype=np.float32)"
   ]
  },
  {
   "cell_type": "markdown",
   "id": "delayed-manufacturer",
   "metadata": {},
   "source": [
    "<hr>"
   ]
  },
  {
   "cell_type": "markdown",
   "id": "thick-modem",
   "metadata": {},
   "source": [
    "# Run simulations"
   ]
  },
  {
   "cell_type": "code",
   "execution_count": 62,
   "id": "persistent-channels",
   "metadata": {},
   "outputs": [
    {
     "name": "stderr",
     "output_type": "stream",
     "text": [
      "100%|██████████| 2880/2880 [10:26<00:00,  4.60it/s]\n"
     ]
    },
    {
     "name": "stdout",
     "output_type": "stream",
     "text": [
      "Saving to: C:\\Users\\Pranav\\git\\evomorph\\lateral_signaling\\sim_data\\20210805_sweep_TCphase_dense\\20210805_sweep_TCphase_dense_results\n",
      "Mission complete.\n"
     ]
    }
   ],
   "source": [
    "# Initialize results\n",
    "S_actnum_param = np.empty((n_runs, nt), dtype=int)\n",
    "S_tcmean_param = np.empty((n_runs, nt), dtype=np.float32)\n",
    "R_actnum_param = np.empty((n_runs, nt), dtype=int)\n",
    "R_tcmean_param = np.empty((n_runs, nt), dtype=np.float32)\n",
    "\n",
    "# Make iterator\n",
    "iterator = range(n_runs)\n",
    "if progress_bar:\n",
    "    iterator = tqdm(iterator)\n",
    "\n",
    "for i in iterator:\n",
    "    \n",
    "    # Unpack parameters\n",
    "#     rep, g_, rho_0_, rho_max_ = param_space[i]\n",
    "    rep, g_, rho_0_ = param_space[i]\n",
    "    rho_max_ = rho_max\n",
    "    rep = int(rep)\n",
    "    \n",
    "    # Get senders\n",
    "    sender_idx = sender_idx_rep[rep]\n",
    "    S0 = S0_rep[rep]\n",
    "\n",
    "    # Supply S initial state as parameter for R\n",
    "    R_args = [S0, gamma_R, sender_idx]\n",
    "\n",
    "    # Make a mask for transceivers\n",
    "    tc_mask = np.ones(n, dtype=bool)\n",
    "    tc_mask[sender_idx] = False\n",
    "    \n",
    "    # Get RHS of DDE equation to pass to integrator\n",
    "    rhs = lsig.get_DDE_rhs(signal_rhs, Adj, sender_idx, beta_func, beta_args,)\n",
    "    \n",
    "    # Calculate density\n",
    "    rho_t = lsig.logistic(t, g_, rho_0_, rho_max_)\n",
    "    \n",
    "    # Simulate\n",
    "    S_t = lsig.integrate_DDE_varargs(\n",
    "        t,\n",
    "        rhs,\n",
    "        var_vals=[rho_t],\n",
    "        where_vars=where_rho,\n",
    "        dde_args=dde_args,\n",
    "        E0=S0,\n",
    "        delay=delay,\n",
    "        varargs_type=\"list\",\n",
    "    )\n",
    "    \n",
    "    # Number of activated cells\n",
    "    S_act_t = S_t > thresh\n",
    "    S_actnum_t = S_act_t.sum(axis=1)\n",
    "    \n",
    "    # Mean fluorescence\n",
    "    S_tcmean_t = S_t[:, tc_mask].mean(axis=1)\n",
    "    \n",
    "    # Save results\n",
    "    S_actnum_param[i] = S_actnum_t\n",
    "    S_tcmean_param[i] = S_tcmean_t\n",
    "    \n",
    "    # Simulate reporter expression\n",
    "    R_t = lsig.integrate_DDE_varargs(\n",
    "        t,\n",
    "        reporter_rhs,\n",
    "        var_vals=[S_t],\n",
    "        where_vars=0,\n",
    "        dde_args=R_args,\n",
    "        E0=R0,\n",
    "        delay=0,\n",
    "        min_delay=0,\n",
    "        varargs_type=\"list\",\n",
    "    )\n",
    "\n",
    "    # Number of activated cells\n",
    "    R_act_t = R_t > thresh\n",
    "    R_actnum_t = R_act_t.sum(axis=1)\n",
    "    \n",
    "    # Mean fluorescence\n",
    "    R_tcmean_t = R_t[:, tc_mask].mean(axis=1)\n",
    "    \n",
    "    # Save results\n",
    "    R_actnum_param[i] = R_actnum_t\n",
    "    R_tcmean_param[i] = R_tcmean_t\n",
    "    \n",
    "    # Save results for reporter\n",
    "    R_actnum_param[i] = R_actnum_t\n",
    "    R_tcmean_param[i] = R_tcmean_t\n",
    "\n",
    "\n",
    "#### Results handling\n",
    "\n",
    "# Store results \n",
    "data_dict = dict(\n",
    "    n                = n,\n",
    "    t                = t,\n",
    "    trial_name       = trial_name,\n",
    "    param_names      = param_names,\n",
    "    param_vals       = param_vals,\n",
    "    beta_args        = beta_args,\n",
    "    delay            = delay,\n",
    "    irad             = 1.,\n",
    "    rho_max          = rho_max,\n",
    "    random_seeds     = seed+rep_space,\n",
    "    sender_idx_rep   = sender_idx_rep,\n",
    "    S0_rep           = S0_rep,\n",
    "    free_param_names = free_param_names,\n",
    "    param_space      = param_space,\n",
    "    S_actnum_param   = S_actnum_param,\n",
    "    S_tcmean_param   = S_tcmean_param,\n",
    "    gamma_R          = gamma_R,\n",
    "    R_actnum_param   = R_actnum_param,\n",
    "    R_tcmean_param   = R_tcmean_param,\n",
    ")\n",
    "\n",
    "# Make results directory if it doesn't exist\n",
    "data_dir = os.path.join(save_dir, run_name)\n",
    "if not os.path.exists(data_dir):\n",
    "    print(\"Creating directory:\", data_dir)\n",
    "    os.mkdir(data_dir)\n",
    "\n",
    "# Make output filename\n",
    "data_fname = os.path.join(\n",
    "    save_dir, run_name, run_name + \"_results\"\n",
    ")\n",
    "\n",
    "# Save compressed results\n",
    "print(\"Saving to:\", data_fname)\n",
    "np.savez_compressed(data_fname, **data_dict)\n",
    "print(\"Mission complete.\")"
   ]
  },
  {
   "cell_type": "markdown",
   "id": "massive-minute",
   "metadata": {},
   "source": [
    "<hr>"
   ]
  },
  {
   "cell_type": "code",
   "execution_count": null,
   "id": "seasonal-enlargement",
   "metadata": {},
   "outputs": [],
   "source": [
    "# import holoviews as hv\n",
    "# hv.extension(\"matplotlib\")\n",
    "\n",
    "# data = np.load(data_fname + \".npz\")\n",
    "\n",
    "# hv.Image(data[\"S_actnum_param\"])"
   ]
  },
  {
   "cell_type": "code",
   "execution_count": null,
   "id": "weekly-crash",
   "metadata": {},
   "outputs": [],
   "source": []
  }
 ],
 "metadata": {
  "kernelspec": {
   "display_name": "Python 3",
   "language": "python",
   "name": "python3"
  },
  "language_info": {
   "codemirror_mode": {
    "name": "ipython",
    "version": 3
   },
   "file_extension": ".py",
   "mimetype": "text/x-python",
   "name": "python",
   "nbconvert_exporter": "python",
   "pygments_lexer": "ipython3",
   "version": "3.7.7"
  }
 },
 "nbformat": 4,
 "nbformat_minor": 5
}
