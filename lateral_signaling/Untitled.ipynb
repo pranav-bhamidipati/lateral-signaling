{
 "cells": [
  {
   "cell_type": "code",
   "execution_count": 1,
   "id": "lucky-armor",
   "metadata": {},
   "outputs": [],
   "source": [
    "import numpy as np\n",
    "import numba"
   ]
  },
  {
   "cell_type": "markdown",
   "id": "vocal-reaction",
   "metadata": {},
   "source": [
    "# Phase boundary derivation"
   ]
  },
  {
   "cell_type": "code",
   "execution_count": 11,
   "id": "statewide-salon",
   "metadata": {},
   "outputs": [
    {
     "data": {
      "text/plain": [
       "array([0.25      , 0.33333333, 0.41666667, 0.5       , 0.58333333,\n",
       "       0.66666667, 0.75      , 0.83333333, 0.91666667, 1.        ,\n",
       "       1.08333333, 1.16666667, 1.25      , 1.33333333, 1.41666667,\n",
       "       1.5       , 1.58333333, 1.66666667, 1.75      , 1.83333333,\n",
       "       1.91666667, 2.        , 2.08333333, 2.16666667, 2.25      ])"
      ]
     },
     "execution_count": 11,
     "metadata": {},
     "output_type": "execute_result"
    }
   ],
   "source": [
    "np.linspace(0.25, 2.25, 25)"
   ]
  },
  {
   "cell_type": "markdown",
   "id": "upset-samoa",
   "metadata": {},
   "source": [
    "<hr>"
   ]
  },
  {
   "cell_type": "markdown",
   "id": "freelance-pitch",
   "metadata": {},
   "source": [
    "__What is the critical density as a function of g? Can we derive this or do we need to simulate it?__"
   ]
  },
  {
   "cell_type": "markdown",
   "id": "demanding-charleston",
   "metadata": {},
   "source": [
    "Based on our model, there should be a critical cell density above which there is no longer a stable \"ON\" state for the system. To find this, we will first derive an expression for the steady-state ligand expression, expressed as a vector $s_{ss}$.\n",
    "\n",
    "\\begin{align}\n",
    "0 &= \\frac{\\mathrm{d} s}{\\mathrm{d} t} = \\lambda + \\alpha \\frac{s_t^p}{\\left(g^2 k \\right)^p + \\left(\\delta s_{ss} \\right)^p + s_t^p} - g s_{ss} \\\\[1em]\n",
    "&= \\lambda + \\alpha \\frac{\\big(\\beta(\\rho) A s_{ss}\\big)^p}{\\left(g^2 k \\right)^p + \\left(\\delta s_{ss} \\right)^p + \\big(\\beta(\\rho) A s_{ss}\\big)^p} - g s_{ss} \\\\[1em]\n",
    "\\end{align} "
   ]
  },
  {
   "cell_type": "markdown",
   "id": "unnecessary-accommodation",
   "metadata": {},
   "source": [
    "Solving this expression amounts to solving a system of $n$ polynomial equations. Instead of this, we can simply simulate the system for a sufficient time to equilibrate to steady-state. "
   ]
  },
  {
   "cell_type": "markdown",
   "id": "frequent-north",
   "metadata": {},
   "source": [
    "This expression also depends on the spatial patterning of transceiver cells and sender cells, encoded in the adjacency matrix $A$. To interrogate the \"ON\" state, we will examine the case when sender cells are present, providing constant stimulation to the transceiver cells in the system. \n",
    "\n",
    "Above a critical density $\\rho_\\text{crit}$, the transceivers should cease to activate in aggregate. We interrogate this by comparing the mean fluorescence at steady-state to a fluorescence threshold. Since the promoter threshold $k$ is a natural threshold, we will consider the system is activated when $s_{ss,\\text{ mean}} > k$."
   ]
  },
  {
   "cell_type": "markdown",
   "id": "foreign-jackson",
   "metadata": {},
   "source": [
    "__Produce a relation for $\\rho_\\text{crit}(g)$ at static densities__"
   ]
  },
  {
   "cell_type": "markdown",
   "id": "single-hierarchy",
   "metadata": {},
   "source": []
  },
  {
   "cell_type": "markdown",
   "id": "independent-equipment",
   "metadata": {},
   "source": [
    "__(If approximation, insert plot like `constant_dens_plot2`)__"
   ]
  },
  {
   "cell_type": "code",
   "execution_count": 16,
   "id": "higher-irrigation",
   "metadata": {},
   "outputs": [],
   "source": [
    "@numba.njit\n",
    "def rho_crit_approx(g, a=3.1, b=4.1):\n",
    "    return a - b * np.log10(g)"
   ]
  },
  {
   "cell_type": "markdown",
   "id": "virgin-copyright",
   "metadata": {},
   "source": [
    "__Given $\\rho_\\text{crit}$, calculate $t_\\text{crit}$__"
   ]
  },
  {
   "cell_type": "markdown",
   "id": "conservative-millennium",
   "metadata": {},
   "source": [
    "Given the critical density $\\rho_\\text{crit}$, where $\\rho_0 < \\rho_\\text{crit} < \\rho_\\text{max}$, we can then write the logistic equation in terms of $\\rho_\\text{crit}$ and the time it will take to reach critical behavior $t_\\text{crit}$.\n",
    "\n",
    "\\begin{align}\n",
    "\\rho_\\text{crit} &= \\frac{\\rho_\\text{max}}{1 + \\frac{\\rho_\\text{max} - \\rho_0}{\\rho_0} e^{-g t_\\text{crit}}} \\\\[1em]\n",
    "\\end{align}\n",
    "\n",
    "Then we can solve for $t_\\text{crit}$."
   ]
  },
  {
   "cell_type": "markdown",
   "id": "unable-cherry",
   "metadata": {},
   "source": [
    "\\begin{align}\n",
    "1 + \\frac{\\rho_\\text{max} - \\rho_0}{\\rho_0} e^{-g t_\\text{crit}} &= \\frac{\\rho_\\text{max}}{\\rho_\\text{crit}} \\\\[1em]\n",
    "e^{-g t_\\text{crit}} &= \\frac{\\rho_\\text{max} - \\rho_\\text{crit}}{\\rho_\\text{crit}} \\cdot \\frac{\\rho_0}{\\rho_\\text{max} - \\rho_0} \\\\[1em]\n",
    "t_\\text{crit} &= -\\frac{1}{g} \\left(\\ln\\frac{\\rho_\\text{max} - \\rho_\\text{crit}}{\\rho_\\text{crit}} - \\ln\\frac{\\rho_\\text{max} - \\rho_0}{\\rho_0} \\right) \\\\[1em]\n",
    "\\end{align}"
   ]
  },
  {
   "cell_type": "code",
   "execution_count": 17,
   "id": "textile-station",
   "metadata": {},
   "outputs": [],
   "source": [
    "@numba.njit\n",
    "def t_crit_approx(g, rho_0, rho_max, *rho_crit_args):\n",
    "    rho_crit = rho_crit_approx(g, *rho_crit_args)\n",
    "    return -1/g * np.log((rho_max - rho_crit) / rho_crit * rho_0 / (rho_max - rho_0) )"
   ]
  },
  {
   "cell_type": "markdown",
   "id": "charged-detector",
   "metadata": {},
   "source": [
    "We can also ask, at what time does phase behavior change? We can visualize this by selecting values of $t_\\text{crit}$ and plotting the parameters that satisfy this. This will give us manifolds in phase space (level sets) that describe when critical behavior will occur.\n",
    "\n",
    "\\begin{align}\n",
    "- g t_\\text{crit} &= \\ln\\frac{\\rho_\\text{max} - \\rho_\\text{crit}}{\\rho_\\text{crit}} - \\ln\\frac{\\rho_\\text{max} - \\rho_0}{\\rho_0} \\\\[1em]\n",
    "\\ln\\frac{\\rho_\\text{max} - \\rho_0}{\\rho_0} &= \\ln\\frac{\\rho_\\text{max} - \\rho_\\text{crit}}{\\rho_\\text{crit}} + g t_\\text{crit}\\\\[1em]\n",
    "\\frac{\\rho_\\text{max}}{\\rho_0} - 1 &= \\frac{\\rho_\\text{max} - \\rho_\\text{crit}}{\\rho_\\text{crit}} e^{g t_\\text{crit}} \\\\[1em]\n",
    "\\rho_0 &= \\frac{\\rho_\\text{max}\\rho_\\text{crit}}{\\rho_\\text{crit} + \\left(\\rho_\\text{max} - \\rho_\\text{crit}\\right) e^{g t_\\text{crit}}} \\\\[1em]\n",
    "\\end{align}"
   ]
  },
  {
   "cell_type": "code",
   "execution_count": 18,
   "id": "statistical-cartridge",
   "metadata": {},
   "outputs": [],
   "source": [
    "@numba.njit\n",
    "def t_crit_approx_levelset(t_crit, g, rho_max, *rho_crit_args):\n",
    "    rho_crit = rho_crit_approx(g, *rho_crit_args)\n",
    "    return rho_max * rho_crit / (rho_crit + (rho_max - rho_crit) * np.exp(g * t_crit))"
   ]
  },
  {
   "cell_type": "markdown",
   "id": "conventional-moment",
   "metadata": {},
   "source": [
    "<hr>"
   ]
  },
  {
   "cell_type": "code",
   "execution_count": 68,
   "id": "unusual-syndrome",
   "metadata": {},
   "outputs": [],
   "source": [
    "import matplotlib.pyplot as plt\n",
    "%matplotlib inline\n",
    "\n",
    "import colorcet as cc"
   ]
  },
  {
   "cell_type": "code",
   "execution_count": 16,
   "id": "educational-november",
   "metadata": {},
   "outputs": [],
   "source": [
    "@numba.njit\n",
    "def rho_crit_approx(g, a=3.1, b=4.1):\n",
    "    return a - b * np.log10(g)"
   ]
  },
  {
   "cell_type": "code",
   "execution_count": 17,
   "id": "missing-health",
   "metadata": {},
   "outputs": [],
   "source": [
    "@numba.njit\n",
    "def t_crit_approx(g, rho_0, rho_max, *rho_crit_args):\n",
    "    rho_crit = rho_crit_approx(g, *rho_crit_args)\n",
    "    return -1/g * np.log((rho_max - rho_crit) / rho_crit * rho_0 / (rho_max - rho_0) )"
   ]
  },
  {
   "cell_type": "code",
   "execution_count": 18,
   "id": "drawn-spain",
   "metadata": {},
   "outputs": [],
   "source": [
    "@numba.njit\n",
    "def t_crit_approx_levelset(t_crit, g, rho_max, *rho_crit_args):\n",
    "    rho_crit = rho_crit_approx(g, *rho_crit_args)\n",
    "    return rho_max * rho_crit / (rho_crit + (rho_max - rho_crit) * np.exp(g * t_crit))"
   ]
  },
  {
   "cell_type": "markdown",
   "id": "extreme-blond",
   "metadata": {},
   "source": [
    "## Plotting the level sets"
   ]
  },
  {
   "cell_type": "code",
   "execution_count": 83,
   "id": "worse-claim",
   "metadata": {},
   "outputs": [
    {
     "data": {
      "text/plain": [
       "0.025000000000000355"
      ]
     },
     "execution_count": 83,
     "metadata": {},
     "output_type": "execute_result"
    }
   ],
   "source": [
    "rho_crit_approx(10**0.75)"
   ]
  },
  {
   "cell_type": "code",
   "execution_count": 111,
   "id": "widespread-maria",
   "metadata": {},
   "outputs": [],
   "source": [
    "t_crit = 20\n",
    "rho_max_ls = np.linspace(1, 8, 50)\n",
    "log10g_ls = np.linspace(-1, 0.75, 50)"
   ]
  },
  {
   "cell_type": "code",
   "execution_count": 112,
   "id": "social-advertising",
   "metadata": {},
   "outputs": [],
   "source": [
    "X, Y = np.meshgrid(log10g_ls, rho_max_ls)\n",
    "rho_crit_ls = rho_crit_approx(10**X)\n",
    "Z = t_crit_approx_levelset(t_crit, 10**X, Y)"
   ]
  },
  {
   "cell_type": "code",
   "execution_count": 113,
   "id": "interested-hygiene",
   "metadata": {},
   "outputs": [],
   "source": [
    "tol = 1e-5\n",
    "valid_samples = np.logical_and(Y - rho_crit_ls >= -tol, rho_crit_ls - Z >= -tol)\n",
    "\n",
    "xx, yy, zz = X[valid_samples], Y[valid_samples], Z[valid_samples]"
   ]
  },
  {
   "cell_type": "code",
   "execution_count": 114,
   "id": "immediate-hypothesis",
   "metadata": {},
   "outputs": [
    {
     "data": {
      "image/png": "[encoded data removed]",
      "text/plain": [
       "<Figure size 432x288 with 1 Axes>"
      ]
     },
     "metadata": {
      "needs_background": "light"
     },
     "output_type": "display_data"
    }
   ],
   "source": [
    "fig = plt.figure()\n",
    "ax = plt.axes(projection='3d')\n",
    "# ax.contour3D(X, Y, Z, 50, cmap='binary')\n",
    "ax.set_xlabel('log10(g)')\n",
    "ax.set_ylabel('rho_max')\n",
    "ax.set_zlabel('rho_0')\n",
    "ax.scatter(xx, yy, zz, c=cc.bmy[0], s=1, alpha=0.5);"
   ]
  },
  {
   "cell_type": "markdown",
   "id": "lightweight-luxembourg",
   "metadata": {},
   "source": [
    "<hr>"
   ]
  },
  {
   "cell_type": "code",
   "execution_count": null,
   "id": "understood-blowing",
   "metadata": {},
   "outputs": [],
   "source": []
  }
 ],
 "metadata": {
  "kernelspec": {
   "display_name": "Python 3",
   "language": "python",
   "name": "python3"
  },
  "language_info": {
   "codemirror_mode": {
    "name": "ipython",
    "version": 3
   },
   "file_extension": ".py",
   "mimetype": "text/x-python",
   "name": "python",
   "nbconvert_exporter": "python",
   "pygments_lexer": "ipython3",
   "version": "3.7.7"
  }
 },
 "nbformat": 4,
 "nbformat_minor": 5
}
