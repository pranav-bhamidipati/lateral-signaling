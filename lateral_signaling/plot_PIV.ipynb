{
 "cells": [
  {
   "cell_type": "code",
   "execution_count": null,
   "metadata": {},
   "outputs": [],
   "source": [
    "# from glob import glob\n",
    "import os\n",
    "\n",
    "import numpy as np\n",
    "import pandas as pd\n",
    "\n",
    "import colorcet as cc\n",
    "import matplotlib.pyplot as plt\n",
    "import seaborn as sns\n",
    "%matplotlib inline\n",
    "\n",
    "import lateral_signaling as lsig\n",
    "lsig.default_rcParams()\n",
    "\n",
    "# import holoviews as hv\n",
    "# hv.extension(\"matplotlib\")"
   ]
  },
  {
   "cell_type": "code",
   "execution_count": null,
   "metadata": {},
   "outputs": [],
   "source": [
    "# Reading\n",
    "data_dir   = os.path.abspath(\"../data/PIV_and_density/\")\n",
    "data_fname = os.path.join(data_dir, \"2020-08-26_TCmovie_speed_dens_data.csv\")\n",
    "\n",
    "# Writing\n",
    "save_dir  = os.path.abspath(\"../plots\")\n",
    "plot_fname = os.path.join(save_dir, \"PIV_velocity_plot\")\n",
    "\n",
    "save=False\n",
    "fmt=\"png\"\n",
    "dpi=300"
   ]
  },
  {
   "cell_type": "code",
   "execution_count": null,
   "metadata": {},
   "outputs": [],
   "source": [
    "# def main(\n",
    "#     save=False,\n",
    "#     fmt=\"png\",\n",
    "#     dpi=300,\n",
    "#     data_dir=\"../data/PIV_and_density\",\n",
    "#     data_fname=\"2020-08-26_TCmovie_speed_dens_data.csv\",\n",
    "#     save_dir=\"../plots\",\n",
    "#     plot_fname=\"PIV_velocity_plot\",\n",
    "# ):\n",
    "#     \"\"\"\n",
    "#     \"\"\"\n",
    "    \n",
    "data_dir   = os.path.abspath(data_dir)\n",
    "data_fname = os.path.join(data_dir, data_fname)\n",
    "save_dir   = os.path.abspath(data_dir)\n",
    "plot_fname = os.path.join(save_dir, plot_fname)\n",
    "\n",
    "df = pd.read_csv(data_fname, index_col=0)\n",
    "relative_density = [d / 40000 for d in df[\"plating density\"]]\n",
    "relative_density = [f\"{d:.2f}x\" if d < 1 else f\"{int(d)}x\" for d in relative_density]\n",
    "df[\"plating density\"] = relative_density\n",
    "df = df.sort_values(\"plating density\")\n",
    "\n",
    "# Package plotting options\n",
    "# ecdf_kw = dict(\n",
    "#     xlabel=\"Circularity index\",\n",
    "#     xlim=(0, 1),\n",
    "#     xticks=(0, 0.25, 0.5, 0.75, 1.0),\n",
    "#     ylabel=\"Cumulative distrib.\",\n",
    "#     ylim=(-0.05, 1.05),\n",
    "#     yticks=(0, 0.25, 0.5, 0.75, 1.0),\n",
    "# )\n",
    "# hist_kw = dict(\n",
    "#         xlabel=\"Circularity index\",\n",
    "#         xlim=(0, 1),\n",
    "#         xticks=np.linspace(0, 1, 6),\n",
    "#         ylabel=\"Frequency\",\n",
    "#         # ylim=(-0.05, 1.05),\n",
    "#         # yticks=(0, 0.25, 0.5, 0.75, 1.0),\n",
    "# )\n",
    "\n",
    "# color_idx = df[\"replicate\"].astype(\"category\").cat.codes.values\n",
    "# colors = cc.glasbey_category10[color_idx]\n",
    "\n",
    "gdfs = df.groupby(\"plating density\")\n",
    "fig, axs = plt.subplots(3, 1, figsize=(4, 12))\n",
    "for ax, (_, data) in zip(axs, gdfs):\n",
    "    # sns.boxplot(x=\"time (hr)\", y=\"avg. speed\", data=data, ax=ax, )\n",
    "    # sns.stripplot(x=\"time (hr)\", y=\"avg. speed\", data=data, hue=\"replicate\", ax=ax)\n",
    "    sns.lineplot(x=\"time (hr)\", y=\"avg. speed\", data=data, hue=\"replicate\", ax=ax)\n"
   ]
  },
  {
   "cell_type": "code",
   "execution_count": null,
   "metadata": {},
   "outputs": [],
   "source": [
    "fig = plt.figure()\n",
    "ax = fig.add_subplot()\n",
    "g = sns.lineplot(\n",
    "    x=\"time (hr)\", \n",
    "    y=\"relative speed\", \n",
    "    data=df, \n",
    "    hue=\"plating density\", \n",
    "    palette=\"flare\",\n",
    "    ax=ax,\n",
    ")\n",
    "sns.despine()\n",
    "sns.move_legend(g, \"upper left\", bbox_to_anchor=(1.0, 1.0))"
   ]
  },
  {
   "cell_type": "code",
   "execution_count": null,
   "metadata": {},
   "outputs": [],
   "source": [
    "df[[\"avg. speed\", \"plating density\"]].groupby(\"plating density\").agg(np.mean)"
   ]
  },
  {
   "cell_type": "code",
   "execution_count": null,
   "metadata": {},
   "outputs": [],
   "source": [
    "df[\"time (hr)\"].unique()"
   ]
  },
  {
   "cell_type": "code",
   "execution_count": null,
   "metadata": {},
   "outputs": [],
   "source": [
    "ser = pd.Series(df[\"replicate\"]).astype(\"category\")"
   ]
  },
  {
   "cell_type": "code",
   "execution_count": null,
   "metadata": {},
   "outputs": [],
   "source": []
  }
 ],
 "metadata": {
  "kernelspec": {
   "display_name": "Python 3 (ipykernel)",
   "language": "python",
   "name": "python3"
  },
  "language_info": {
   "codemirror_mode": {
    "name": "ipython",
    "version": 3
   },
   "file_extension": ".py",
   "mimetype": "text/x-python",
   "name": "python",
   "nbconvert_exporter": "python",
   "pygments_lexer": "ipython3",
   "version": "3.9.13"
  },
  "vscode": {
   "interpreter": {
    "hash": "e2f1e49e634b0bebea96baab4cfdfc713a07d2a13c0432e0e988bfefcce553dd"
   }
  }
 },
 "nbformat": 4,
 "nbformat_minor": 4
}
