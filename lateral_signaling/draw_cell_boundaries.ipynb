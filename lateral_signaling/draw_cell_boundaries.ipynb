{
 "cells": [
  {
   "cell_type": "code",
   "execution_count": null,
   "id": "98f278a3-bb21-4052-bb5d-b35fc7a9c825",
   "metadata": {},
   "outputs": [],
   "source": [
    "import lateral_signaling as lsig\n",
    "\n",
    "import os\n",
    "from glob import glob\n",
    "\n",
    "import numpy as np\n",
    "import pandas as pd\n",
    "\n",
    "import skimage\n",
    "import skimage.io as io\n",
    "\n",
    "import colorcet as cc\n",
    "import bebi103\n",
    "\n",
    "import bokeh.io\n",
    "bokeh.io.output_notebook()"
   ]
  },
  {
   "cell_type": "code",
   "execution_count": null,
   "id": "5d02db63-a6b9-46a6-92d6-550d4f333b03",
   "metadata": {
    "tags": []
   },
   "outputs": [],
   "source": [
    "# Reading\n",
    "data_dir = os.path.abspath(\"../data/imaging/FACS_brightfield/\")\n",
    "\n",
    "# Writing\n",
    "save = False\n",
    "save_dir = os.path.abspath(\"../data/analysis/FACS_brightfield/\")\n",
    "\n",
    "# Set random seed\n",
    "seed = 2022"
   ]
  },
  {
   "cell_type": "code",
   "execution_count": null,
   "id": "4074d5ac-233c-4c73-be71-48ee5c48ad91",
   "metadata": {},
   "outputs": [],
   "source": [
    "# Get TIFF files\n",
    "imfiles = glob(os.path.join(data_dir, \"*.tif*\"))\n",
    "imfiles = [os.path.realpath(f) for f in imfiles]\n",
    "\n",
    "# Read images\n",
    "load_im = lambda f: io.imread(f)\n",
    "ims = io.ImageCollection(imfiles, load_func=load_im)\n",
    "\n",
    "# Get density conditions\n",
    "imnames = [os.path.split(f)[1].split(\".\")[0] for f in ims.files]\n",
    "\n",
    "# Get image dimensions\n",
    "ims = ims.concatenate()\n",
    "n_ims, *imshape = ims.shape"
   ]
  },
  {
   "cell_type": "code",
   "execution_count": null,
   "id": "8b1fe042-a522-4881-8eee-93a59c323f67",
   "metadata": {},
   "outputs": [],
   "source": [
    "## Split images into sub-images, or windows\n",
    "# Set edge length of square window\n",
    "imsize = 240\n",
    "\n",
    "# Fix random number generation using supplied seed\n",
    "rng = np.random.default_rng(seed)\n",
    "\n",
    "# Get number of windows that will fit inside each image\n",
    "n_rows = imshape[0] // imsize\n",
    "n_cols = imshape[1] // imsize\n",
    "\n",
    "# Assemble all windows from all images into a list and keep track of the source image\n",
    "im_windows = []\n",
    "for im in ims:\n",
    "    \n",
    "    # Get windows and normalize intensity\n",
    "    _windows = np.array([np.split(_hs, n_rows, axis=0) for _hs in np.split(im, n_cols, axis=1)])\n",
    "    _windows = np.array([lsig.rescale_img(w) for w in _windows])\n",
    "    \n",
    "    # Randomize window order\n",
    "    _shape = _windows.shape\n",
    "    _windows = _windows.reshape(-1, *_shape[2:])\n",
    "    _win_idx = np.arange(_shape[0] * _shape[1])\n",
    "    rng.shuffle(_win_idx)\n",
    "    _windows = _windows[_win_idx]\n",
    "\n",
    "    # Store windows \n",
    "    im_windows.append(_windows)\n",
    "\n",
    "# Sew together windows, alternating between images\n",
    "windows = np.array(im_windows).transpose(1, 0, 2, 3).reshape(-1, *_shape[2:])\n",
    "win_names = np.tile(imnames, n_rows * n_cols)"
   ]
  },
  {
   "cell_type": "markdown",
   "id": "b7f857cd-e9fb-4111-b1a4-23c6a39af5be",
   "metadata": {},
   "source": [
    "---"
   ]
  },
  {
   "cell_type": "code",
   "execution_count": null,
   "id": "8d0c9273-f592-4c97-97a9-9716011e5529",
   "metadata": {},
   "outputs": [],
   "source": [
    "# Initialize list to store cell boundary data\n",
    "cbound_dfs = []"
   ]
  },
  {
   "cell_type": "markdown",
   "id": "b24d2402-c606-406d-a4af-22b08cbd60f3",
   "metadata": {},
   "source": [
    "# Draw cell boundaries"
   ]
  },
  {
   "cell_type": "markdown",
   "id": "3c07f4c8-e8d8-4cf8-8d8f-36678a152512",
   "metadata": {},
   "source": [
    "To analyze each window, I change the value of `idx` to select a new random window, draw cell boundaries for 2-5 cells in the window, convert these vertices to a DataFrame, then append this to the list of DataFrames. \n",
    "\n",
    "Occasionally, an ROI was erroneously drawn. Because this is difficult to undo without deleting other ROIs drawn on the same image, I edit the misshapen ROI to have a small area - these ROIs are then filtered out later in the pipeline using an area cutoff."
   ]
  },
  {
   "cell_type": "code",
   "execution_count": null,
   "id": "8ff26c4b-dd7c-4581-ab29-7800d1e38a04",
   "metadata": {},
   "outputs": [],
   "source": [
    "idx = 31\n",
    "\n",
    "# Select image\n",
    "im     = windows[idx]\n",
    "imname = win_names[idx]\n",
    "print(imname)\n",
    "\n",
    "# Draw an ROI by clicking along the border of the well\n",
    "cbounds_roicds = bebi103.image.draw_rois(im, flip=False, frame_height=800, cmap=cc.palette.gray)"
   ]
  },
  {
   "cell_type": "code",
   "execution_count": null,
   "id": "6782c9fd-b234-4aa3-be9a-23e6820e3477",
   "metadata": {},
   "outputs": [],
   "source": [
    "# Convert to DataFrame\n",
    "df = bebi103.image.roicds_to_df(cbounds_roicds)\n",
    "df[\"window\"]  = idx\n",
    "df[\"density\"] = imname\n",
    "\n",
    "cbound_dfs.append(df)"
   ]
  },
  {
   "cell_type": "markdown",
   "id": "8530599b-7694-4ac4-ad55-0ff0b103f517",
   "metadata": {},
   "source": [
    "---"
   ]
  },
  {
   "cell_type": "code",
   "execution_count": null,
   "id": "704da932-a5c3-4fbb-8043-b9b5f936d758",
   "metadata": {},
   "outputs": [],
   "source": []
  },
  {
   "cell_type": "markdown",
   "id": "ccfa2640-e940-4e94-92b9-7e62b4d4585a",
   "metadata": {},
   "source": [
    "# Combine ROI data and save"
   ]
  },
  {
   "cell_type": "code",
   "execution_count": null,
   "id": "6ad02d2b-94fb-43ef-bb30-22ee7e92bee1",
   "metadata": {},
   "outputs": [],
   "source": [
    "cbound_df = pd.concat(cbound_dfs)\n",
    "\n",
    "if save:\n",
    "    cbound_df.to_csv(os.path.join(save_dir, \"cell_boundary_vertices.csv\"))"
   ]
  },
  {
   "cell_type": "code",
   "execution_count": null,
   "id": "bdcae45a-6112-40a8-81ef-7d8cb00f3349",
   "metadata": {},
   "outputs": [],
   "source": []
  }
 ],
 "metadata": {
  "kernelspec": {
   "display_name": "Python 3.9.13 (conda)",
   "language": "python",
   "name": "python3"
  },
  "language_info": {
   "codemirror_mode": {
    "name": "ipython",
    "version": 3
   },
   "file_extension": ".py",
   "mimetype": "text/x-python",
   "name": "python",
   "nbconvert_exporter": "python",
   "pygments_lexer": "ipython3",
   "version": "3.9.13"
  },
  "vscode": {
   "interpreter": {
    "hash": "b5ebff41542a7e6a5fe832e5bd9e409a365d57843315f965047144430ea2b84e"
   }
  }
 },
 "nbformat": 4,
 "nbformat_minor": 5
}
