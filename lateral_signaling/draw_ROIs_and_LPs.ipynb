{
 "cells": [
  {
   "cell_type": "code",
   "execution_count": null,
   "id": "c340711b-8847-4d9d-b115-107ac710275d",
   "metadata": {},
   "outputs": [],
   "source": [
    "import lateral_signaling as lsig\n",
    "\n",
    "import os\n",
    "from pathlib import Path\n",
    "from glob import glob\n",
    "import json\n",
    "\n",
    "import numpy as np\n",
    "import pandas as pd\n",
    "\n",
    "import skimage\n",
    "import skimage.io as io\n",
    "import skimage.filters as filt\n",
    "import skimage.measure as msr\n",
    "\n",
    "import matplotlib.pyplot as plt\n",
    "import matplotlib.cm as cm\n",
    "%matplotlib inline"
   ]
  },
  {
   "cell_type": "code",
   "execution_count": null,
   "id": "23ff9e62-3c77-402b-a49e-4d754455cd1c",
   "metadata": {},
   "outputs": [],
   "source": [
    "import bebi103\n",
    "\n",
    "import bokeh.io\n",
    "bokeh.io.output_notebook()"
   ]
  },
  {
   "cell_type": "markdown",
   "id": "090b5d60-c9b4-4236-9dfd-8911c5ae99db",
   "metadata": {},
   "source": [
    "---"
   ]
  },
  {
   "cell_type": "code",
   "execution_count": null,
   "id": "5d02db63-a6b9-46a6-92d6-550d4f333b03",
   "metadata": {
    "tags": []
   },
   "outputs": [],
   "source": [
    "## WARNING\n",
    "## Before setting to True, make sure to back up any work that could be overwritten\n",
    "save_data = False"
   ]
  },
  {
   "cell_type": "markdown",
   "id": "eacf2002-60de-4229-a685-208d3375ee9b",
   "metadata": {},
   "source": [
    "We are interested in images where all the information exists within a circular region of interest (ROI). In order to extract this information from an image, we first sample points along the edge of the circular well. This returns (x, y) coordinates in units of pixels. Then, we compute the least-squares estimate for the center and radius of the circle [1]. We can then use this information to re-center and rescale images onto the same coordinates. This does lead to slight variations in the XY position and/or magnification, so we adjust for this later in the pipeline.\n",
    "\n",
    "Next, we want to quantify the expression along one axis of the well, for which we will draw a line profile (LP). This is a rectangular ROI defined by a source point, destination point, and width in pixels. In subsequent analysis, the intensity of every pixel in this ROI is projected down onto the line segment from source to destination, giving us a 1D summary of intensity along an arbitrary direction of the image.\n",
    "\n",
    "[1]: Randy Bullock, \"Least-Squares Circle Fit.\" [Link](https://dtcenter.org/sites/default/files/community-code/met/docs/write-ups/circle_fit.pdf). email:bullock@ucar.edu"
   ]
  },
  {
   "cell_type": "markdown",
   "id": "50ec4b7b-dd2a-4bb0-b060-f7dd37fdf103",
   "metadata": {},
   "source": [
    "---"
   ]
  },
  {
   "cell_type": "markdown",
   "id": "6388291a-5ee3-4ca0-91c7-625f0314b55f",
   "metadata": {
    "tags": []
   },
   "source": [
    "# Kinematic wave"
   ]
  },
  {
   "cell_type": "markdown",
   "id": "cfcaf8e7-2d66-49df-85b9-f3c8b9228d4a",
   "metadata": {},
   "source": [
    "These experiments were done by imaging the same well with the same microscope settings, so we only need to draw a single ROI."
   ]
  },
  {
   "cell_type": "markdown",
   "id": "3b8727c4-960f-445b-8089-d750b5a3c905",
   "metadata": {},
   "source": [
    "__Set up directories__"
   ]
  },
  {
   "cell_type": "code",
   "execution_count": null,
   "id": "e5508692-559c-4236-a743-ed728907a647",
   "metadata": {
    "tags": []
   },
   "outputs": [],
   "source": [
    "# For reading\n",
    "image_dir         = lsig.data_dir.joinpath(\"imaging/kinematic_wave\")\n",
    "well_diam_path    = lsig.data_dir.joinpath(\"imaging/well_diameter.json\")\n",
    "\n",
    "# For writing\n",
    "circle_data_path  = lsig.analysis_dir.joinpath(\"kinematic_wave/roi_circle.json\")\n",
    "lp_data_path      = lsig.analysis_dir.joinpath(\"kinematic_wave/line_profile.json\")\n",
    "\n",
    "# Read well diameter from file\n",
    "with well_diam_path.open(\"r\") as f:\n",
    "    well_diameter_mm = json.load(f)[\"kinematic_wave\"]\n",
    "\n",
    "print(f\"Well diameter: {well_diameter_mm:.2f} mm\")"
   ]
  },
  {
   "cell_type": "markdown",
   "id": "c370bd0a-3e03-4749-9b79-854721b429e4",
   "metadata": {},
   "source": [
    "__Load images and image metadata__"
   ]
  },
  {
   "cell_type": "code",
   "execution_count": null,
   "id": "ceb15e88-c643-4b79-8155-90dd7c2bd748",
   "metadata": {},
   "outputs": [],
   "source": [
    "# Get image filenames\n",
    "files = sorted(glob(os.path.join(image_dir, \"*.tif*\")))\n",
    "files = [os.path.realpath(f) for f in files]"
   ]
  },
  {
   "cell_type": "code",
   "execution_count": null,
   "id": "5668d31d-c1d5-4409-8a8d-6968b2b9c28e",
   "metadata": {},
   "outputs": [],
   "source": [
    "# Select blue and green fluorescence images (BFP and GFP)\n",
    "files_B = [f for f in files if \"BFP\" in f]\n",
    "files_G = [f for f in files if \"GFP\" in f]"
   ]
  },
  {
   "cell_type": "code",
   "execution_count": null,
   "id": "3d47b4d3-57dd-4627-b279-72f623f5c312",
   "metadata": {},
   "outputs": [],
   "source": [
    "# Load images and convert to Numpy arrays\n",
    "load_B = lambda f: io.imread(f).astype(np.uint8)[:, :, 2]\n",
    "ims_B = io.ImageCollection(files_B, load_func=load_B).concatenate()\n",
    "\n",
    "load_G = lambda f: io.imread(f).astype(np.uint8)[:, :, 1]\n",
    "ims_G = io.ImageCollection(files_G, load_func=load_G).concatenate()"
   ]
  },
  {
   "cell_type": "code",
   "execution_count": null,
   "id": "a94e2f75-104b-48b5-aa95-55ce1f3e65ee",
   "metadata": {},
   "outputs": [],
   "source": [
    "# Get images as Numpy array\n",
    "ims = list(ims_B) + list(ims_G)\n",
    "\n",
    "# Save shape of each image\n",
    "imshape_B = ims_B[0].shape\n",
    "imshape_G = ims_G[0].shape"
   ]
  },
  {
   "cell_type": "markdown",
   "id": "b24d2402-c606-406d-a4af-22b08cbd60f3",
   "metadata": {},
   "source": [
    "## Draw circular ROI"
   ]
  },
  {
   "cell_type": "code",
   "execution_count": null,
   "id": "f1d76246-a318-49b4-b1fb-d737846fed92",
   "metadata": {},
   "outputs": [],
   "source": [
    "# # Uncomment to preview the image\n",
    "# im = lsig.rescale_img(ims_B[0])\n",
    "# plt.imshow(im)"
   ]
  },
  {
   "cell_type": "code",
   "execution_count": null,
   "id": "f305cf19-fe41-46fc-ad3a-df71c8d26de0",
   "metadata": {},
   "outputs": [],
   "source": [
    "# Draw an ROI onto the image by clicking along the border of the well\n",
    "circle_verts_roicds = bebi103.image.draw_rois(im, flip=False, min_intensity=0.0, max_intensity=0.9)"
   ]
  },
  {
   "cell_type": "code",
   "execution_count": null,
   "id": "df7572dc-ef21-48d9-a539-68c8aa72eaad",
   "metadata": {},
   "outputs": [],
   "source": [
    "# Once satisfied, convert the result to a Pandas DataFrame\n",
    "circle_verts_df = bebi103.image.roicds_to_df(circle_verts_roicds)\n",
    "circle_verts_df"
   ]
  },
  {
   "cell_type": "markdown",
   "id": "d3c4763c-2017-457c-92f7-309e039544bc",
   "metadata": {},
   "source": [
    "## Compute the center and radius of the ROI and save"
   ]
  },
  {
   "cell_type": "code",
   "execution_count": null,
   "id": "e1361c6c-fdd6-41b1-bdd2-52f4d0c2c96a",
   "metadata": {},
   "outputs": [],
   "source": [
    "# Calculate least-squares estimate of center and radius\n",
    "center, radius = lsig.verts_to_circle(circle_verts)\n",
    "\n",
    "# Store data\n",
    "circle_data = dict(\n",
    "    x_center=center[0], \n",
    "    y_center=center[1], \n",
    "    radius=radius,\n",
    "    well_diameter_mm=well_diameter_mm,\n",
    ")\n",
    "\n",
    "# Dump to JSON file\n",
    "if save_data:\n",
    "    with open(circle_data_path, \"w\") as f:\n",
    "        json.dump(circle_data, f, indent=4, )"
   ]
  },
  {
   "cell_type": "markdown",
   "id": "ffb11b33-ad2c-4c3b-b027-1706b824da19",
   "metadata": {},
   "source": [
    "## Draw a line profile (LP)"
   ]
  },
  {
   "cell_type": "code",
   "execution_count": null,
   "id": "3056262d-0ee2-4db4-a786-3ac8115e283b",
   "metadata": {},
   "outputs": [],
   "source": [
    "# # Select images to use when drawing source and destination points of line profile\n",
    "# roi_ims = [lsig.rescale_img(ims[5]), lsig.rescale_img(ims[9])]"
   ]
  },
  {
   "cell_type": "code",
   "execution_count": null,
   "id": "dfe05848-e7fc-4c40-822f-259fd668d5ed",
   "metadata": {},
   "outputs": [],
   "source": [
    "# # Decide the source point by clicking on the first image\n",
    "# lp_vert1 = bebi103.image.record_clicks(roi_ims[0], flip=False, min_intensity=0.1, max_intensity=0.5)"
   ]
  },
  {
   "cell_type": "code",
   "execution_count": null,
   "id": "7c65ae48-26f9-4f65-971a-bfc1d8ca9aec",
   "metadata": {},
   "outputs": [],
   "source": [
    "# # Draw destination point\n",
    "# lp_vert2 = bebi103.image.record_clicks(roi_ims[1], flip=False, min_intensity=0.1, max_intensity=0.4)"
   ]
  },
  {
   "cell_type": "code",
   "execution_count": null,
   "id": "ee366252-1e00-43e4-a389-bc50688821d7",
   "metadata": {},
   "outputs": [],
   "source": [
    "# Set width of line profile in pixels\n",
    "lp_width = 500.\n",
    "\n",
    "# Package into dictionary\n",
    "lp_data = dict(\n",
    "    x_src = lp_vert1.data[\"x\"], \n",
    "    y_src = lp_vert1.data[\"y\"], \n",
    "    x_dst = lp_vert2.data[\"x\"], \n",
    "    y_dst = lp_vert2.data[\"y\"], \n",
    "    width = lp_width\n",
    ")\n",
    "\n",
    "# Save as JSON file\n",
    "if save_data:\n",
    "    with open(lp_data_path, \"w\") as f:\n",
    "        json.dump(lp_data, f, indent=4, )"
   ]
  },
  {
   "cell_type": "markdown",
   "id": "c17aa0d2-3cc6-4704-95ff-a6efe214a391",
   "metadata": {},
   "source": [
    "<hr>"
   ]
  },
  {
   "cell_type": "markdown",
   "id": "5ff2d952-19ce-46ee-8d0a-8b465638145c",
   "metadata": {},
   "source": [
    "# Signaling gradient"
   ]
  },
  {
   "cell_type": "markdown",
   "id": "95ecda67-460b-49e9-ad57-fdefa1b7fa96",
   "metadata": {},
   "source": [
    "The images in this experiment are stitched (collated from multiple images), so there are slight variations in the well size, centering, and general orientation. Assuming no rotational effects, we draw an ROI for each image and use the ROI data to transform the image data to the same coordinates for analysis in real distance units. "
   ]
  },
  {
   "cell_type": "code",
   "execution_count": null,
   "id": "90830a05-7bc5-4230-a6b8-056b063b43f5",
   "metadata": {},
   "outputs": [],
   "source": [
    "# For reading\n",
    "image_dir         = lsig.data_dir.joinpath(\"imaging/signaling_gradient\")\n",
    "well_diam_path    = lsig.data_dir.joinpath(\"imaging/well_diameter.json\")\n",
    "\n",
    "# For writing\n",
    "circle_data_path  = lsig.analysis_dir.joinpath(\"signaling_gradient/roi_circle_data.csv\")\n",
    "lp_data_path      = lsig.analysis_dir.joinpath(\"signaling_gradient/line_profile.json\")\n",
    "\n",
    "# Read well diameter from file\n",
    "with well_diam_path.open(\"r\") as f:\n",
    "    well_diameter_mm = json.load(f)[\"signaling_gradient\"]\n",
    "\n",
    "print(f\"Well diameter: {well_diameter_mm:.2f} mm\")"
   ]
  },
  {
   "cell_type": "markdown",
   "id": "f270784c-148f-4e74-8e7b-e6181a850b61",
   "metadata": {},
   "source": [
    "__Load images__"
   ]
  },
  {
   "cell_type": "code",
   "execution_count": null,
   "id": "381201cb-c1cd-409b-9156-dbb4db406778",
   "metadata": {},
   "outputs": [],
   "source": [
    "# Get image filenames\n",
    "files = sorted(glob(os.path.join(image_dir, \"*.tif*\")))\n",
    "files = [os.path.realpath(f) for f in files]"
   ]
  },
  {
   "cell_type": "code",
   "execution_count": null,
   "id": "79c2995e-9453-4293-92c0-1e7a3679be0f",
   "metadata": {},
   "outputs": [],
   "source": [
    "# Select blue and green fluorescence images (BFP and GFP)\n",
    "files_B = [f for f in files if \"BFP\" in f]\n",
    "files_G = [f for f in files if \"GFP\" in f]"
   ]
  },
  {
   "cell_type": "code",
   "execution_count": null,
   "id": "3eab4591-9abd-48ef-ad99-4cc3cf2f54e0",
   "metadata": {},
   "outputs": [],
   "source": [
    "# Load images and convert to Numpy arrays\n",
    "load_B = lambda f: io.imread(f).astype(np.uint8)[:, :, 2]\n",
    "ims_B = io.ImageCollection(files_B, load_func=load_B).concatenate()\n",
    "\n",
    "load_G = lambda f: io.imread(f).astype(np.uint8)[:, :, 1]\n",
    "ims_G = io.ImageCollection(files_G, load_func=load_G).concatenate()"
   ]
  },
  {
   "cell_type": "code",
   "execution_count": null,
   "id": "cd77f5b7-8a70-44d2-a053-82a9f826b0cf",
   "metadata": {},
   "outputs": [],
   "source": [
    "# Get images as Numpy array\n",
    "ims = list(ims_B) + list(ims_G)\n",
    "\n",
    "# Save shape of each image\n",
    "imshape_B = ims_B[0].shape\n",
    "imshape_G = ims_G[0].shape"
   ]
  },
  {
   "cell_type": "markdown",
   "id": "0b388258-7377-4b09-98e0-93580bd5b316",
   "metadata": {},
   "source": [
    "## Draw circular ROI(s)"
   ]
  },
  {
   "cell_type": "code",
   "execution_count": null,
   "id": "427fb928-e67e-4b4f-a31e-90748311ba31",
   "metadata": {},
   "outputs": [],
   "source": [
    "# Initialize a dictionary to hold the ROI parameters for each image\n",
    "roi_circle_dict = {}"
   ]
  },
  {
   "cell_type": "markdown",
   "id": "0c022e89-7635-4261-a3d8-72a9a3bb62bf",
   "metadata": {},
   "source": [
    "The below cells should be run repeatedly, once for each image, to populate `roi_circle_dict`."
   ]
  },
  {
   "cell_type": "code",
   "execution_count": null,
   "id": "3bab14aa-e78c-44fd-b4f9-dfbf90e76968",
   "metadata": {},
   "outputs": [],
   "source": [
    "# # Select one image\n",
    "# im_idx = 0"
   ]
  },
  {
   "cell_type": "code",
   "execution_count": null,
   "id": "acadaad7-2e35-4ab6-aaee-a7d2f664d96a",
   "metadata": {},
   "outputs": [],
   "source": [
    "# # Draw an ROI by clicking along the border of the well\n",
    "# im = ims[im_idx]\n",
    "# circle_verts_roicds = bebi103.image.draw_rois(im, flip=False,)"
   ]
  },
  {
   "cell_type": "code",
   "execution_count": null,
   "id": "9e33576a-d3a6-433a-87f5-ee953fd47f6a",
   "metadata": {},
   "outputs": [],
   "source": [
    "# # Find center and radius\n",
    "# circle_df = bebi103.image.roicds_to_df(circle_verts_roicds)\n",
    "# circle_verts = circle_df.values[:, 1:]\n",
    "# center, radius = lsig.verts_to_circle(circle_verts)\n",
    "\n",
    "# # Store in dictionary\n",
    "# roi_circle_dict[im_names[im_idx]] = [*center, radius]"
   ]
  },
  {
   "cell_type": "markdown",
   "id": "1c46c556-f0c2-4266-aa22-91d515d6a8c2",
   "metadata": {},
   "source": [
    "## Save circle parameters"
   ]
  },
  {
   "cell_type": "code",
   "execution_count": null,
   "id": "7a6d84cc-a188-4903-83ec-756e9793e1f5",
   "metadata": {},
   "outputs": [],
   "source": [
    "roi_circle_df = pd.DataFrame(roi_circle_dict).T.reset_index()\n",
    "roi_circle_df.columns = [\"im_name\", \"x_center\", \"y_center\", \"radius\"]\n",
    "roi_circle_df\n",
    "\n",
    "if save_data:\n",
    "    circle_verts_df.to_csv(circle_data_path, index=False)"
   ]
  },
  {
   "cell_type": "markdown",
   "id": "a1754fb6-8c32-450e-8a99-371e491189a4",
   "metadata": {},
   "source": [
    "## Draw a line profile (LP)"
   ]
  },
  {
   "cell_type": "code",
   "execution_count": null,
   "id": "fe93d560-f272-4696-be20-ae7cbf29116e",
   "metadata": {},
   "outputs": [],
   "source": [
    "# # Select images to use when drawing source and destination points of line profile\n",
    "# roi_ims = [lsig.rescale_img(ims[5]), lsig.rescale_img(ims[9])]"
   ]
  },
  {
   "cell_type": "code",
   "execution_count": null,
   "id": "ac13b75e-340d-433e-b769-53297624185b",
   "metadata": {},
   "outputs": [],
   "source": [
    "# # Decide the source point by clicking on the first image\n",
    "# lp_vert1 = bebi103.image.record_clicks(roi_ims[0], flip=False, min_intensity=0.1, max_intensity=0.5)"
   ]
  },
  {
   "cell_type": "code",
   "execution_count": null,
   "id": "daede647-d0d3-40f7-adef-94ede7152224",
   "metadata": {},
   "outputs": [],
   "source": [
    "# # Draw destination point\n",
    "# lp_vert2 = bebi103.image.record_clicks(roi_ims[1], flip=False, min_intensity=0.1, max_intensity=0.4)"
   ]
  },
  {
   "cell_type": "code",
   "execution_count": null,
   "id": "451c8a00-7f90-452c-8178-1c2af19ac7cd",
   "metadata": {},
   "outputs": [],
   "source": [
    "# Set width of line profile in pixels\n",
    "lp_width = 500.\n",
    "\n",
    "# Package into dictionary\n",
    "lp_data = dict(\n",
    "    x_src = lp_vert1.data[\"x\"], \n",
    "    y_src = lp_vert1.data[\"y\"], \n",
    "    x_dst = lp_vert2.data[\"x\"], \n",
    "    y_dst = lp_vert2.data[\"y\"], \n",
    "    width = lp_width,\n",
    ")\n",
    "\n",
    "# Save as JSON file\n",
    "if save_data:\n",
    "    with open(lp_data_path, \"w\") as f:\n",
    "        json.dump(lp_data, f, indent=4, )"
   ]
  },
  {
   "cell_type": "code",
   "execution_count": null,
   "id": "90f162ae-945f-4281-bc18-9acd8aa59576",
   "metadata": {},
   "outputs": [],
   "source": []
  }
 ],
 "metadata": {
  "kernelspec": {
   "display_name": "Python 3.9.13 (conda)",
   "language": "python",
   "name": "python3"
  },
  "language_info": {
   "codemirror_mode": {
    "name": "ipython",
    "version": 3
   },
   "file_extension": ".py",
   "mimetype": "text/x-python",
   "name": "python",
   "nbconvert_exporter": "python",
   "pygments_lexer": "ipython3",
   "version": "3.9.13"
  },
  "vscode": {
   "interpreter": {
    "hash": "b5ebff41542a7e6a5fe832e5bd9e409a365d57843315f965047144430ea2b84e"
   }
  }
 },
 "nbformat": 4,
 "nbformat_minor": 5
}
