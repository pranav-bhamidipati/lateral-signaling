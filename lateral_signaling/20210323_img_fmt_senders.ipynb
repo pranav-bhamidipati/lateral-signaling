{
 "cells": [
  {
   "cell_type": "code",
   "execution_count": 1,
   "metadata": {},
   "outputs": [],
   "source": [
    "import os\n",
    "from glob import glob\n",
    "from tqdm import tqdm\n",
    "\n",
    "import numpy as np\n",
    "import skimage.io as io\n",
    "\n",
    "import h5py\n",
    "import cv2\n",
    "\n",
    "import matplotlib.pyplot as plt\n",
    "%matplotlib inline"
   ]
  },
  {
   "cell_type": "code",
   "execution_count": 2,
   "metadata": {},
   "outputs": [],
   "source": [
    "%load_ext blackcellmagic"
   ]
  },
  {
   "cell_type": "markdown",
   "metadata": {},
   "source": [
    "## Image I/O and formatting workflows\n",
    "\n",
    "This notebook will first demonstrate some workflows for reading and writing images to different formats using `cv2` (for fast image processing), `skimage.io` (convenient image I/O), and `h5py` (for data storage in HDF5 format). \n",
    "\n",
    "I'll then use these packages and their dependencies to draw and save ROIs and identify the brightest cell in a frame."
   ]
  },
  {
   "cell_type": "code",
   "execution_count": 18,
   "metadata": {},
   "outputs": [],
   "source": [
    "data_dir = \"E:/transceiver_project/20200715_time_lapse_propagation/time_lapse_20x/\""
   ]
  },
  {
   "cell_type": "markdown",
   "metadata": {},
   "source": [
    "First, I'll read in a series of 5 consecutive brightfield images from a time-lapse experiment and convert them to an `ImageCollection` object."
   ]
  },
  {
   "cell_type": "code",
   "execution_count": 19,
   "metadata": {},
   "outputs": [],
   "source": [
    "# Get test image filenames\n",
    "vid = \"0test\"\n",
    "ims_f = glob(os.path.join(data_dir, vid, \"*/*_CH3.tiff\"))\n",
    "\n",
    "# Convert to image collection\n",
    "#  Note: I use [::2] to skip every other image because of  \n",
    "#    a quirk of the data I'm using.\n",
    "arr = io.ImageCollection(ims_f)[::2].concatenate()"
   ]
  },
  {
   "cell_type": "markdown",
   "metadata": {},
   "source": [
    "Next, I will select the first channel (the red channel in `RGB` format)."
   ]
  },
  {
   "cell_type": "code",
   "execution_count": 20,
   "metadata": {},
   "outputs": [],
   "source": [
    "arr = arr[:, :, :, 0]"
   ]
  },
  {
   "cell_type": "markdown",
   "metadata": {},
   "source": [
    "Now, let's save this as a TIF stack, or multi-image TIF."
   ]
  },
  {
   "cell_type": "code",
   "execution_count": 21,
   "metadata": {},
   "outputs": [
    {
     "name": "stderr",
     "output_type": "stream",
     "text": [
      "C:\\Users\\Pranav\\Anaconda3\\lib\\site-packages\\ipykernel_launcher.py:1: UserWarning: E:/transceiver_project/20200715_time_lapse_propagation/time_lapse_20x/0test\\0test_fRFP.tiff is a low contrast image\n",
      "  \"\"\"Entry point for launching an IPython kernel.\n"
     ]
    }
   ],
   "source": [
    "io.imsave(os.path.join(data_dir, vid, vid+\"_fRFP.tiff\"), arr)"
   ]
  },
  {
   "cell_type": "markdown",
   "metadata": {},
   "source": [
    "Now let's perform the TIFF stack conversion for multiple videos. First, I'll extract the folder names for each video."
   ]
  },
  {
   "cell_type": "code",
   "execution_count": 22,
   "metadata": {},
   "outputs": [
    {
     "name": "stdout",
     "output_type": "stream",
     "text": [
      "10000_A, 10000_B, 10000_C, 1000_A, 1000_B, 1000_C, 160000_A, 160000_B, 160000_C, 20000_A, 20000_B, 20000_C, 2500_A, 2500_B, 2500_C, 40000_A, 40000_B, 40000_C, 5000_A, 5000_B, 5000_C, 80000_A, 80000_B, 80000_C\n"
     ]
    }
   ],
   "source": [
    "vids = [os.path.split(f)[-1] for f in glob(data_dir + \"*_?\")]\n",
    "print(*vids, sep=\", \")"
   ]
  },
  {
   "cell_type": "markdown",
   "metadata": {},
   "source": [
    "Now, we simply perform the same steps as before, for each video. We'll add a progress bar, since this could take a while."
   ]
  },
  {
   "cell_type": "code",
   "execution_count": 23,
   "metadata": {},
   "outputs": [
    {
     "name": "stderr",
     "output_type": "stream",
     "text": [
      "100%|██████████| 24/24 [10:13<00:00, 25.54s/it]\n"
     ]
    }
   ],
   "source": [
    "iterator = vids\n",
    "iterator = tqdm(iterator)\n",
    "for vid in iterator:\n",
    "    # Read images\n",
    "    ims_f = glob(os.path.join(data_dir, vid, \"*/*CH3.tif\"))\n",
    "\n",
    "    # Convert to image collection\n",
    "    arr = io.ImageCollection(ims_f)[::2].concatenate()\n",
    "    \n",
    "    # Select red channel of RGB\n",
    "    arr = arr[:, :, :, 0]\n",
    "    \n",
    "    # Save as TIFF stack\n",
    "    io.imsave(os.path.join(data_dir, vid, vid+\"_fRFP.tiff\"), arr)"
   ]
  }
 ],
 "metadata": {
  "kernelspec": {
   "display_name": "Python 3",
   "language": "python",
   "name": "python3"
  },
  "language_info": {
   "codemirror_mode": {
    "name": "ipython",
    "version": 3
   },
   "file_extension": ".py",
   "mimetype": "text/x-python",
   "name": "python",
   "nbconvert_exporter": "python",
   "pygments_lexer": "ipython3",
   "version": "3.7.7"
  }
 },
 "nbformat": 4,
 "nbformat_minor": 4
}
