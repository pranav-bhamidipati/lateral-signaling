{
 "cells": [
  {
   "cell_type": "code",
   "execution_count": 3,
   "metadata": {},
   "outputs": [],
   "source": [
    "import os\n",
    "from glob import glob\n",
    "from tqdm import tqdm\n",
    "\n",
    "import numpy as np\n",
    "import skimage.io as io\n",
    "\n",
    "import cv2\n",
    "\n",
    "import matplotlib.pyplot as plt\n",
    "%matplotlib inline"
   ]
  },
  {
   "cell_type": "code",
   "execution_count": 4,
   "metadata": {},
   "outputs": [],
   "source": [
    "%load_ext blackcellmagic"
   ]
  },
  {
   "cell_type": "markdown",
   "metadata": {},
   "source": [
    "## Image I/O and formatting workflows\n",
    "\n",
    "This notebook will first demonstrate some workflows for reading and writing images to different formats using `cv2` (for fast image processing), `skimage.io` (convenient image I/O), and `h5py` (for data storage in HDF5 format). \n",
    "\n",
    "I'll then use these packages and their dependencies to draw and save ROIs and identify the brightest cell in a frame."
   ]
  },
  {
   "cell_type": "code",
   "execution_count": 2,
   "metadata": {},
   "outputs": [],
   "source": [
    "data_dir = \"E:/transceiver_project/20200715_time_lapse_propagation/time_lapse_20x/\""
   ]
  },
  {
   "cell_type": "markdown",
   "metadata": {},
   "source": [
    "First, I'll read in a series of 5 consecutive brightfield images from a time-lapse experiment and convert them to an `ImageCollection` object."
   ]
  },
  {
   "cell_type": "code",
   "execution_count": 6,
   "metadata": {},
   "outputs": [
    {
     "ename": "ValueError",
     "evalue": "Image dimensions must agree.",
     "output_type": "error",
     "traceback": [
      "\u001b[1;31m---------------------------------------------------------------------------\u001b[0m",
      "\u001b[1;31mValueError\u001b[0m                                Traceback (most recent call last)",
      "\u001b[1;32m~\\Anaconda3\\lib\\site-packages\\skimage\\io\\collection.py\u001b[0m in \u001b[0;36mconcatenate_images\u001b[1;34m(ic)\u001b[0m\n\u001b[0;32m     59\u001b[0m     \u001b[1;32mtry\u001b[0m\u001b[1;33m:\u001b[0m\u001b[1;33m\u001b[0m\u001b[1;33m\u001b[0m\u001b[0m\n\u001b[1;32m---> 60\u001b[1;33m         \u001b[0marray_cat\u001b[0m \u001b[1;33m=\u001b[0m \u001b[0mnp\u001b[0m\u001b[1;33m.\u001b[0m\u001b[0mconcatenate\u001b[0m\u001b[1;33m(\u001b[0m\u001b[0mall_images\u001b[0m\u001b[1;33m)\u001b[0m\u001b[1;33m\u001b[0m\u001b[1;33m\u001b[0m\u001b[0m\n\u001b[0m\u001b[0;32m     61\u001b[0m     \u001b[1;32mexcept\u001b[0m \u001b[0mValueError\u001b[0m\u001b[1;33m:\u001b[0m\u001b[1;33m\u001b[0m\u001b[1;33m\u001b[0m\u001b[0m\n",
      "\u001b[1;32m<__array_function__ internals>\u001b[0m in \u001b[0;36mconcatenate\u001b[1;34m(*args, **kwargs)\u001b[0m\n",
      "\u001b[1;31mValueError\u001b[0m: need at least one array to concatenate",
      "\nDuring handling of the above exception, another exception occurred:\n",
      "\u001b[1;31mValueError\u001b[0m                                Traceback (most recent call last)",
      "\u001b[1;32m<ipython-input-6-9742880b25da>\u001b[0m in \u001b[0;36m<module>\u001b[1;34m\u001b[0m\n\u001b[0;32m      6\u001b[0m \u001b[1;31m#  Note: I use [::2] to skip every other image because of\u001b[0m\u001b[1;33m\u001b[0m\u001b[1;33m\u001b[0m\u001b[1;33m\u001b[0m\u001b[0m\n\u001b[0;32m      7\u001b[0m \u001b[1;31m#    a quirk of the data I'm using.\u001b[0m\u001b[1;33m\u001b[0m\u001b[1;33m\u001b[0m\u001b[1;33m\u001b[0m\u001b[0m\n\u001b[1;32m----> 8\u001b[1;33m \u001b[0marr\u001b[0m \u001b[1;33m=\u001b[0m \u001b[0mio\u001b[0m\u001b[1;33m.\u001b[0m\u001b[0mImageCollection\u001b[0m\u001b[1;33m(\u001b[0m\u001b[0mims_f\u001b[0m\u001b[1;33m)\u001b[0m\u001b[1;33m[\u001b[0m\u001b[1;33m:\u001b[0m\u001b[1;33m:\u001b[0m\u001b[1;36m2\u001b[0m\u001b[1;33m]\u001b[0m\u001b[1;33m.\u001b[0m\u001b[0mconcatenate\u001b[0m\u001b[1;33m(\u001b[0m\u001b[1;33m)\u001b[0m\u001b[1;33m\u001b[0m\u001b[1;33m\u001b[0m\u001b[0m\n\u001b[0m",
      "\u001b[1;32m~\\Anaconda3\\lib\\site-packages\\skimage\\io\\collection.py\u001b[0m in \u001b[0;36mconcatenate\u001b[1;34m(self)\u001b[0m\n\u001b[0;32m    373\u001b[0m             \u001b[0mIf\u001b[0m \u001b[0mimages\u001b[0m \u001b[1;32min\u001b[0m \u001b[0mthe\u001b[0m\u001b[0;31m \u001b[0m\u001b[0;31m`\u001b[0m\u001b[0mImageCollection\u001b[0m\u001b[0;31m`\u001b[0m \u001b[0mdon\u001b[0m\u001b[0;31m'\u001b[0m\u001b[0mt\u001b[0m \u001b[0mhave\u001b[0m \u001b[0midentical\u001b[0m \u001b[0mshapes\u001b[0m\u001b[1;33m.\u001b[0m\u001b[1;33m\u001b[0m\u001b[1;33m\u001b[0m\u001b[0m\n\u001b[0;32m    374\u001b[0m         \"\"\"\n\u001b[1;32m--> 375\u001b[1;33m         \u001b[1;32mreturn\u001b[0m \u001b[0mconcatenate_images\u001b[0m\u001b[1;33m(\u001b[0m\u001b[0mself\u001b[0m\u001b[1;33m)\u001b[0m\u001b[1;33m\u001b[0m\u001b[1;33m\u001b[0m\u001b[0m\n\u001b[0m\u001b[0;32m    376\u001b[0m \u001b[1;33m\u001b[0m\u001b[0m\n\u001b[0;32m    377\u001b[0m \u001b[1;33m\u001b[0m\u001b[0m\n",
      "\u001b[1;32m~\\Anaconda3\\lib\\site-packages\\skimage\\io\\collection.py\u001b[0m in \u001b[0;36mconcatenate_images\u001b[1;34m(ic)\u001b[0m\n\u001b[0;32m     60\u001b[0m         \u001b[0marray_cat\u001b[0m \u001b[1;33m=\u001b[0m \u001b[0mnp\u001b[0m\u001b[1;33m.\u001b[0m\u001b[0mconcatenate\u001b[0m\u001b[1;33m(\u001b[0m\u001b[0mall_images\u001b[0m\u001b[1;33m)\u001b[0m\u001b[1;33m\u001b[0m\u001b[1;33m\u001b[0m\u001b[0m\n\u001b[0;32m     61\u001b[0m     \u001b[1;32mexcept\u001b[0m \u001b[0mValueError\u001b[0m\u001b[1;33m:\u001b[0m\u001b[1;33m\u001b[0m\u001b[1;33m\u001b[0m\u001b[0m\n\u001b[1;32m---> 62\u001b[1;33m         \u001b[1;32mraise\u001b[0m \u001b[0mValueError\u001b[0m\u001b[1;33m(\u001b[0m\u001b[1;34m'Image dimensions must agree.'\u001b[0m\u001b[1;33m)\u001b[0m\u001b[1;33m\u001b[0m\u001b[1;33m\u001b[0m\u001b[0m\n\u001b[0m\u001b[0;32m     63\u001b[0m     \u001b[1;32mreturn\u001b[0m \u001b[0marray_cat\u001b[0m\u001b[1;33m\u001b[0m\u001b[1;33m\u001b[0m\u001b[0m\n\u001b[0;32m     64\u001b[0m \u001b[1;33m\u001b[0m\u001b[0m\n",
      "\u001b[1;31mValueError\u001b[0m: Image dimensions must agree."
     ]
    }
   ],
   "source": [
    "# Get test image filenames\n",
    "vid = \"0test\"\n",
    "ims_f = glob(os.path.join(data_dir, vid, \"*/*_CH3.tiff\"))\n",
    "\n",
    "# Convert to image collection\n",
    "#  Note: I use [::2] to skip every other image because of  \n",
    "#    a quirk of the data I'm using.\n",
    "arr = io.ImageCollection(ims_f)[::2].concatenate()"
   ]
  },
  {
   "cell_type": "markdown",
   "metadata": {},
   "source": [
    "Next, I will select the first channel (the red channel in `RGB` format)."
   ]
  },
  {
   "cell_type": "code",
   "execution_count": 20,
   "metadata": {},
   "outputs": [],
   "source": [
    "arr = arr[:, :, :, 0]"
   ]
  },
  {
   "cell_type": "markdown",
   "metadata": {},
   "source": [
    "Now, let's save this as a TIF stack, or multi-image TIF."
   ]
  },
  {
   "cell_type": "code",
   "execution_count": 21,
   "metadata": {},
   "outputs": [
    {
     "name": "stderr",
     "output_type": "stream",
     "text": [
      "C:\\Users\\Pranav\\Anaconda3\\lib\\site-packages\\ipykernel_launcher.py:1: UserWarning: E:/transceiver_project/20200715_time_lapse_propagation/time_lapse_20x/0test\\0test_fRFP.tiff is a low contrast image\n",
      "  \"\"\"Entry point for launching an IPython kernel.\n"
     ]
    }
   ],
   "source": [
    "io.imsave(os.path.join(data_dir, vid, vid+\"_fRFP.tiff\"), arr)"
   ]
  },
  {
   "cell_type": "markdown",
   "metadata": {},
   "source": [
    "Now let's perform the TIFF stack conversion for multiple videos. First, I'll extract the folder names for each video."
   ]
  },
  {
   "cell_type": "code",
   "execution_count": 5,
   "metadata": {},
   "outputs": [
    {
     "name": "stdout",
     "output_type": "stream",
     "text": [
      "10000_A, 10000_B, 10000_C, 1000_A, 1000_B, 1000_C, 160000_A, 160000_B, 160000_C, 20000_A, 20000_B, 20000_C, 2500_A, 2500_B, 2500_C, 40000_A, 40000_B, 40000_C, 5000_A, 5000_B, 5000_C, 80000_A, 80000_B, 80000_C\n"
     ]
    }
   ],
   "source": [
    "vids = [os.path.split(f)[-1] for f in glob(data_dir + \"*_?\")]\n",
    "print(*vids, sep=\", \")"
   ]
  },
  {
   "cell_type": "markdown",
   "metadata": {},
   "source": [
    "Now, we simply perform the same steps as before, for each video. We'll add a progress bar, since this could take a while."
   ]
  },
  {
   "cell_type": "code",
   "execution_count": 23,
   "metadata": {},
   "outputs": [
    {
     "name": "stderr",
     "output_type": "stream",
     "text": [
      "100%|██████████| 24/24 [10:13<00:00, 25.54s/it]\n"
     ]
    }
   ],
   "source": [
    "iterator = vids\n",
    "iterator = tqdm(iterator)\n",
    "for vid in iterator:\n",
    "    # Read images\n",
    "    ims_f = glob(os.path.join(data_dir, vid, \"*/*CH3.tif\"))\n",
    "\n",
    "    # Convert to image collection\n",
    "    arr = io.ImageCollection(ims_f)[::2].concatenate()\n",
    "    \n",
    "    # Select red channel of RGB\n",
    "    arr = arr[:, :, :, 0]\n",
    "    \n",
    "    # Save as TIFF stack\n",
    "    io.imsave(os.path.join(data_dir, vid, vid+\"_fRFP.tiff\"), arr)"
   ]
  },
  {
   "cell_type": "markdown",
   "metadata": {},
   "source": [
    "<hr>"
   ]
  },
  {
   "cell_type": "markdown",
   "metadata": {},
   "source": [
    "## Cropping TIFF stacks"
   ]
  },
  {
   "cell_type": "code",
   "execution_count": 22,
   "metadata": {},
   "outputs": [],
   "source": [
    "vid = vids[0]\n",
    "\n",
    "# Read in first TIFF\n",
    "im_f = glob(os.path.join(data_dir, vid, \"*_fRFP.tiff\"))[0]\n",
    "im = io.imread(im_f)\n",
    "\n",
    "# Get shape for cropping\n",
    "n_im, im_ny, im_nx = im.shape\n",
    "crop_start = (im_nx - im_ny)//2"
   ]
  },
  {
   "cell_type": "code",
   "execution_count": 23,
   "metadata": {},
   "outputs": [
    {
     "name": "stderr",
     "output_type": "stream",
     "text": [
      "100%|██████████| 24/24 [05:21<00:00, 13.39s/it]\n"
     ]
    }
   ],
   "source": [
    "iterator = vids\n",
    "iterator = tqdm(iterator)\n",
    "for vid in iterator:\n",
    "    # Read \n",
    "    im_f = glob(os.path.join(data_dir, vid, \"*_fRFP.tiff\"))[0]\n",
    "    im = io.imread(im_f)\n",
    "\n",
    "    # Crop\n",
    "    im_crop = im[:, :, crop_start:(im_ny+crop_start)]\n",
    "\n",
    "    # Save\n",
    "    io.imsave(os.path.join(data_dir, vid, vid+\"_fRFP_cropped.tiff\"), im_crop)"
   ]
  },
  {
   "cell_type": "code",
   "execution_count": null,
   "metadata": {},
   "outputs": [],
   "source": []
  }
 ],
 "metadata": {
  "kernelspec": {
   "display_name": "Python 3",
   "language": "python",
   "name": "python3"
  },
  "language_info": {
   "codemirror_mode": {
    "name": "ipython",
    "version": 3
   },
   "file_extension": ".py",
   "mimetype": "text/x-python",
   "name": "python",
   "nbconvert_exporter": "python",
   "pygments_lexer": "ipython3",
   "version": "3.7.7"
  }
 },
 "nbformat": 4,
 "nbformat_minor": 4
}
