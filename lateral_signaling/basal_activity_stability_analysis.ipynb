{
 "cells": [
  {
   "cell_type": "markdown",
   "metadata": {},
   "source": [
    "## Stability analysis with leaky expression"
   ]
  },
  {
   "cell_type": "markdown",
   "metadata": {},
   "source": [
    "Let us assume there are no sender cells present, cell-cell adjacency does not change with time, and one or more fixed points exists. At these fixed points, the delay component of dynamics is eliminated.\n",
    "\n",
    "\\begin{align}\n",
    "\\lim_{t\\to\\infty} \\vec{s}_{(t-\\tau)}-\\vec{s}_{(t)} = 0\n",
    "\\end{align}"
   ]
  },
  {
   "cell_type": "markdown",
   "metadata": {},
   "source": [
    "All homogeneous steady-states will satisfy $(\\vec{s}_\\text{fp})_1=(\\vec{s}_\\text{fp})_2 = ... = (\\vec{s}_\\text{fp})_n \\equiv s_\\text{fp}$. For a regular hexagonal lattice of cells, $A$ is the adjacency matrix for a $6$-regular graph and thus the vector of all-ones $\\mathbb{1}$ is an eigenvector of $A$ such that $A \\vec{s}_\\text{fp} = A s_\\text{fp} \\mathbb{1} = 6 s_\\text{fp} \\mathbb{1}$."
   ]
  },
  {
   "cell_type": "markdown",
   "metadata": {},
   "source": [
    "The homogeneous fixed points of the system can then be found as the roots of a polynomial."
   ]
  },
  {
   "cell_type": "markdown",
   "metadata": {},
   "source": [
    "\\begin{align}\n",
    "s_\\text{fp} &= \\lambda + \\alpha \\frac{\\left(\\frac{6 \\ell}{P_0}s_\\text{fp}\\right)^p}{k^p + \\left(\\delta + \\frac{6 \\ell}{P_0}\\right)^p \\left(s_\\text{fp}\\right)^p} \\\\[1em]\n",
    "\\end{align}"
   ]
  }
 ],
 "metadata": {
  "kernelspec": {
   "display_name": "Python 3",
   "language": "python",
   "name": "python3"
  },
  "language_info": {
   "codemirror_mode": {
    "name": "ipython",
    "version": 3
   },
   "file_extension": ".py",
   "mimetype": "text/x-python",
   "name": "python",
   "nbconvert_exporter": "python",
   "pygments_lexer": "ipython3",
   "version": "3.7.7"
  }
 },
 "nbformat": 4,
 "nbformat_minor": 4
}
