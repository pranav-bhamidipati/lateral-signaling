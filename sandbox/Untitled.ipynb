{
 "cells": [
  {
   "cell_type": "markdown",
   "metadata": {},
   "source": [
    "Analysis of the number of activated cells over time"
   ]
  },
  {
   "cell_type": "code",
   "execution_count": 302,
   "metadata": {},
   "outputs": [],
   "source": [
    "import pandas as pd\n",
    "import scipy.optimize as opt\n",
    "import scipy.spatial as spat\n",
    "import scipy.signal as sig\n",
    "import scipy.interpolate as interp\n",
    "from math import ceil, floor\n",
    "import numba"
   ]
  },
  {
   "cell_type": "code",
   "execution_count": 216,
   "metadata": {},
   "outputs": [],
   "source": [
    "@numba.njit\n",
    "def get_rms(y):\n",
    "    return np.sqrt(np.mean(y**2))\n",
    "\n",
    "\n",
    "@numba.njit\n",
    "def logistic(x, a, b, N):\n",
    "    return N/(1 + a * np.exp(-b * x))\n",
    "\n",
    "\n",
    "@numba.njit\n",
    "def logistic_norm(x, a, b):\n",
    "    return 1/(1 + a * np.exp(-b * x))"
   ]
  },
  {
   "cell_type": "code",
   "execution_count": 11,
   "metadata": {},
   "outputs": [],
   "source": [
    "@numba.njit\n",
    "def rms_mask(m, loc, ip):\n",
    "    \"\"\"\n",
    "    Returns RMS distance of pixels in a mask to location loc, \n",
    "    in units of interpixel distance ip.\n",
    "    \n",
    "    m  : mask, as a Numpy array of indices of shape (ndim, npix)\n",
    "    \"\"\"\n",
    "    \n",
    "    ndim, npix = m.shape\n",
    "    \n",
    "    # Catch empty masks\n",
    "    if npix==0:\n",
    "        return 0\n",
    "    \n",
    "    # calculate squared distance\n",
    "    sqd = np.zeros(npix)\n",
    "    for i in range(ndim):\n",
    "        sqd += (m[i] - loc[i])**2\n",
    "    \n",
    "    # Root-mean of squared distance (RMSD) in units of distance\n",
    "    return np.sqrt(np.mean(sqd)) * ip"
   ]
  },
  {
   "cell_type": "code",
   "execution_count": 12,
   "metadata": {},
   "outputs": [],
   "source": [
    "def chull_mask(m, ip):\n",
    "    \"\"\"\n",
    "    Returns area of the convex hull of pixels in a mask, in units\n",
    "    of squared distance\n",
    "    \n",
    "    m  : mask as a 2D Numpy array of shape (ndim, npix)\n",
    "    ip : inter-pixel distance\n",
    "    \"\"\"\n",
    "    \n",
    "    # If not enough points, return 0\n",
    "    ndim, npix = m.shape\n",
    "    if npix < 3:\n",
    "        return 0\n",
    "    \n",
    "    return spat.ConvexHull(ip * m.T).volume"
   ]
  },
  {
   "cell_type": "markdown",
   "metadata": {},
   "source": [
    "<hr>"
   ]
  },
  {
   "cell_type": "markdown",
   "metadata": {},
   "source": [
    "- Unstage the data commits, put data in an ignored data folder\n",
    "- Identify some examples, put them in a shared folder, push\n",
    "- Run DDE sims on them (check for accuracy and speed)\n",
    "- Calculate growth metrics and validate\n",
    "- Generate a very rough figure using these examples\n",
    "- Write workflow from data file to metrics based on params, port to script\n",
    "- Test out script on subset of data files, push, generate the same rough figure\n",
    "- Run the full script, push, generate a denser figure"
   ]
  },
  {
   "cell_type": "code",
   "execution_count": null,
   "metadata": {},
   "outputs": [],
   "source": []
  },
  {
   "cell_type": "code",
   "execution_count": null,
   "metadata": {},
   "outputs": [],
   "source": []
  },
  {
   "cell_type": "code",
   "execution_count": 132,
   "metadata": {},
   "outputs": [],
   "source": [
    "def tc_rhs(E, E_past, A_past, args):\n",
    "\n",
    "    alpha, k, p, delta, lambda_ = args\n",
    "\n",
    "    E_bar = A_past @ E_past\n",
    "    dE_dt = lambda_ + alpha * (E_bar**p) / (k**p + (delta * E_past)**p + E_bar**p) - E\n",
    "\n",
    "    return dE_dt\n",
    "\n",
    "E0 = 0\n",
    "\n",
    "alpha = 3\n",
    "k = 0.01\n",
    "p = 2\n",
    "delta = 3\n",
    "lambda_ = 1e-5\n",
    "\n",
    "dde_args = alpha, k, p, delta, lambda_\n",
    "\n",
    "delay = 0.4"
   ]
  },
  {
   "cell_type": "code",
   "execution_count": 133,
   "metadata": {},
   "outputs": [
    {
     "data": {
      "text/plain": [
       "'C:\\\\Users\\\\Pranav\\\\git\\\\evomorph\\\\sandbox'"
      ]
     },
     "execution_count": 133,
     "metadata": {},
     "output_type": "execute_result"
    }
   ],
   "source": [
    "import os\n",
    "os.getcwd()"
   ]
  },
  {
   "cell_type": "code",
   "execution_count": 26,
   "metadata": {},
   "outputs": [],
   "source": [
    "dir_name = f\"../2020-08-10_active_vor_lattice_test\""
   ]
  },
  {
   "cell_type": "code",
   "execution_count": 27,
   "metadata": {},
   "outputs": [],
   "source": [
    "from glob import glob\n",
    "files = glob(dir_name + \"/*\")\n",
    "files = [f for f in files if \"tf50\" in f]"
   ]
  },
  {
   "cell_type": "code",
   "execution_count": 28,
   "metadata": {},
   "outputs": [],
   "source": [
    "prefixes = [\"_\".join(f.split(\"_\")[:-3]).split(\"\\\\\")[-1] for f in files if f.endswith(\".npy\")]\n",
    "prefixes = [f for f in prefixes if f.startswith(\"per3.80\")]"
   ]
  },
  {
   "cell_type": "code",
   "execution_count": 29,
   "metadata": {},
   "outputs": [
    {
     "data": {
      "text/plain": [
       "['per3.80_vel1.00e+00_tf50',\n",
       " 'per3.80_vel1.00e-01_tf50',\n",
       " 'per3.80_vel1.00e-02_tf50',\n",
       " 'per3.80_vel1.58e-01_tf50',\n",
       " 'per3.80_vel1.58e-02_tf50',\n",
       " 'per3.80_vel2.51e-01_tf50',\n",
       " 'per3.80_vel2.51e-02_tf50',\n",
       " 'per3.80_vel3.98e-01_tf50',\n",
       " 'per3.80_vel3.98e-02_tf50',\n",
       " 'per3.80_vel6.31e-01_tf50',\n",
       " 'per3.80_vel6.31e-02_tf50']"
      ]
     },
     "execution_count": 29,
     "metadata": {},
     "output_type": "execute_result"
    }
   ],
   "source": [
    "prefixes"
   ]
  },
  {
   "cell_type": "code",
   "execution_count": 74,
   "metadata": {},
   "outputs": [],
   "source": [
    "E_thresh = rxn.E_save > thresh"
   ]
  },
  {
   "cell_type": "code",
   "execution_count": 211,
   "metadata": {},
   "outputs": [
    {
     "name": "stderr",
     "output_type": "stream",
     "text": [
      "100%|██████████| 11/11 [01:40<00:00,  9.16s/it]\n"
     ]
    }
   ],
   "source": [
    "thresh = 0.1\n",
    "num_growth = []\n",
    "rms_growth = []\n",
    "chull_growth = []\n",
    "\n",
    "iterator = prefixes\n",
    "iterator = tqdm.tqdm(iterator)\n",
    "\n",
    "for prefix in iterator:\n",
    "\n",
    "    #     prefix = f\"tf{f:.2e}\"\n",
    "    #     prefix = f\n",
    "\n",
    "    vor2 = ActiveVoronoi(from_dir=dir_name, prefix=prefix)\n",
    "\n",
    "    vor2.set_t_points(0, 8, 2501)\n",
    "    vor2.assign_types([\"sender\", \"TC\"], [1, -1], method=\"center\", center_type=\"sender\")\n",
    "\n",
    "    rxn = DelayReaction(\n",
    "        lattice=vor2, dde_rhs=tc_rhs, initial=E0, dde_args=dde_args, delay=delay,\n",
    "    )\n",
    "\n",
    "    rxn.simulate(progress_bar=False)\n",
    "\n",
    "    E_thresh = rxn.E_save > thresh\n",
    "    E_thresh_prop = np.sum(E_thresh, axis=1) / rxn.n_c\n",
    "\n",
    "    rmss = np.empty(vor2.n_t)\n",
    "    chull_vols = np.empty(vor2.n_t)\n",
    "\n",
    "    for i, X in enumerate(vor2.X_arr):\n",
    "\n",
    "        rmss[i] = get_rms(np.linalg.norm(X[E_thresh[i].nonzero()[0], :] - 10, axis=1))\n",
    "\n",
    "        if sum(E_thresh[i]) < 3:\n",
    "            chull_vols[i] = 0\n",
    "        else:\n",
    "            chull_vols[i] = spat.ConvexHull(X[E_thresh[i].nonzero()[0]]).volume\n",
    "\n",
    "    num_growth.append(opt.curve_fit(logistic_norm, rxn.t_points, E_thresh_prop)[0][1])\n",
    "    rms_growth.append(opt.curve_fit(logistic, rxn.t_points, rmss)[0][1])\n",
    "    chull_growth.append(\n",
    "        opt.curve_fit(\n",
    "            logistic,\n",
    "            rxn.t_points,\n",
    "            chull_vols,\n",
    "            bounds=((-np.inf, -np.inf, 0,), (np.inf, np.inf, 400,)),\n",
    "        )[0][1]\n",
    "    )"
   ]
  },
  {
   "cell_type": "code",
   "execution_count": 212,
   "metadata": {},
   "outputs": [],
   "source": [
    "v_vals = np.array([np.float(pre[11:19]) for pre in prefixes])"
   ]
  },
  {
   "cell_type": "code",
   "execution_count": 213,
   "metadata": {},
   "outputs": [],
   "source": [
    "num_growth = np.array(num_growth)"
   ]
  },
  {
   "cell_type": "code",
   "execution_count": 214,
   "metadata": {},
   "outputs": [],
   "source": [
    "data = pd.DataFrame({\n",
    "    \"Mean cell speed\": v_vals, \n",
    "    \"RMS growth\": rms_growth, \n",
    "    \"activated cells growth\": num_growth,\n",
    "    \"convex hull growth\": chull_growth\n",
    "})\n",
    "\n",
    "data = data.melt(id_vars=[\"Mean cell speed\"])\n",
    "data.columns = [\"Mean cell speed\", \"area method\", \"growth rate\"]"
   ]
  },
  {
   "cell_type": "code",
   "execution_count": 217,
   "metadata": {},
   "outputs": [
    {
     "data": {
      "text/html": [
       "<img src='data:image/png;base64,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' style='max-width:100%; margin: auto; display: block; '/>"
      ],
      "text/plain": [
       ":NdOverlay   [area method]\n",
       "   :Scatter   [Mean cell speed]   (growth rate,area method)"
      ]
     },
     "metadata": {
      "application/vnd.holoviews_exec.v0+json": {}
     },
     "output_type": "display_data"
    }
   ],
   "source": [
    "plt = hv.Scatter(\n",
    "    data = data,\n",
    "    kdims = [\"Mean cell speed\"],\n",
    "    vdims = [\"growth rate\", \"area method\"],\n",
    ").groupby(\n",
    "    \"area method\"\n",
    ").opts(\n",
    "    logx=True,\n",
    "    logy=True,\n",
    "    title=\"Movement accelerates growth of activated area\"\n",
    ").overlay()\n",
    "\n",
    "hv.output(plt, dpi=120)"
   ]
  }
 ],
 "metadata": {
  "kernelspec": {
   "display_name": "Python 3",
   "language": "python",
   "name": "python3"
  },
  "language_info": {
   "codemirror_mode": {
    "name": "ipython",
    "version": 3
   },
   "file_extension": ".py",
   "mimetype": "text/x-python",
   "name": "python",
   "nbconvert_exporter": "python",
   "pygments_lexer": "ipython3",
   "version": "3.7.7"
  }
 },
 "nbformat": 4,
 "nbformat_minor": 4
}
