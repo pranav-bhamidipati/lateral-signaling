{
 "cells": [
  {
   "cell_type": "code",
   "execution_count": 1,
   "metadata": {},
   "outputs": [],
   "source": [
    "import sys\n",
    "import os\n",
    "import numpy as np\n",
    "\n",
    "from tqdm import tqdm\n",
    "import numba\n",
    "import datetime"
   ]
  },
  {
   "cell_type": "code",
   "execution_count": 2,
   "metadata": {},
   "outputs": [],
   "source": [
    "# vor_path = \"/home/ubuntu/git/active_vertex\"\n",
    "vor_path = 'C:\\\\Users\\\\Pranav\\\\git\\\\active_vertex'\n",
    "sys.path.append(vor_path)\n",
    "\n",
    "import voronoi_model.voronoi_model_periodic as avm"
   ]
  },
  {
   "cell_type": "code",
   "execution_count": 3,
   "metadata": {},
   "outputs": [],
   "source": [
    "def print_SPV_params(vor2, p, J):\n",
    "    print(\n",
    "        \"\"\"\n",
    "    Number of cells : {0}\n",
    "    Time-span       : {1:.2f} - {2:.2f}\n",
    "    Time-step (dt)  : {3:.3f}\n",
    "\n",
    "    === Parameters ===\n",
    "    Dr      : {4:.1e}\n",
    "    kappa_A : {5:.2f}\n",
    "    kappa_P : {6:.2f}\n",
    "    a       : {7:.2f}\n",
    "    k       : {8:.1f}\n",
    "    p0      : {9:.2f}\n",
    "    v0      : {10:.2e}\n",
    "    J (adh) : {11:.3f}\n",
    "    \"\"\".format(\n",
    "            vor2.n_c,\n",
    "            vor2.t_span[0],\n",
    "            vor2.t_span[-1],\n",
    "            vor2.dt,\n",
    "            vor2.Dr,\n",
    "            vor2.kappa_A,\n",
    "            vor2.kappa_P,\n",
    "            vor2.a,\n",
    "            vor2.k,\n",
    "            p,\n",
    "            vor2.v0,\n",
    "            J\n",
    "        )\n",
    "    )"
   ]
  },
  {
   "cell_type": "code",
   "execution_count": 4,
   "metadata": {},
   "outputs": [],
   "source": [
    "@numba.njit\n",
    "def get_D_eff(X0, Xmax, L, tmax, v0, Dr, n=19):\n",
    "    \n",
    "    X0_norm = X0 - L/2\n",
    "    center_cells = np.argsort(np.sqrt(X0_norm[:, 0]**2 + X0_norm[:, 1]**2))[:n]\n",
    "    \n",
    "    dX = np.fmod(Xmax[center_cells] - X0[center_cells], L/2)\n",
    "    dr2 = np.zeros(n, dtype=np.float32)\n",
    "    for i in range(n):\n",
    "        dr2[i] = dX[i, 0] ** 2 + dX[i, 1] ** 2\n",
    "    \n",
    "    Ds = dr2.mean() / (4*tmax)\n",
    "    D0 = v0**2/(2*Dr)\n",
    "    return Ds / D0\n",
    "\n",
    "def vor_to_D_eff(vor2, n=7):\n",
    "    return get_D_eff(\n",
    "        vor2.x_save[0],\n",
    "        vor2.x_save[-1],\n",
    "        vor2.L,\n",
    "        vor2.tfin,\n",
    "        vor2.v0,\n",
    "        vor2.Dr,\n",
    "        n=n,\n",
    "    )\n"
   ]
  },
  {
   "cell_type": "code",
   "execution_count": 5,
   "metadata": {},
   "outputs": [],
   "source": [
    "p_space = np.linspace(3.5, 3.9, 5)\n",
    "J_space = [0]\n",
    "v_space = np.logspace(-2, 0, 5)[1:]\n",
    "\n",
    "param_space = np.meshgrid(\n",
    "    p_space, \n",
    "    J_space,\n",
    "    v_space,\n",
    ")\n",
    "param_space = np.array(param_space).T.reshape(-1, 3)"
   ]
  },
  {
   "cell_type": "code",
   "execution_count": 6,
   "metadata": {},
   "outputs": [
    {
     "data": {
      "text/plain": [
       "(20, 3)"
      ]
     },
     "execution_count": 6,
     "metadata": {},
     "output_type": "execute_result"
    }
   ],
   "source": [
    "param_space.shape"
   ]
  },
  {
   "cell_type": "code",
   "execution_count": 52,
   "metadata": {},
   "outputs": [],
   "source": [
    "param_space = np.array([\n",
    "    [3.5e+00, 0.0e+00, 1.0e-03],\n",
    "    [3.5e+00, 0.0e+00, 5.0e-03],\n",
    "    [3.5e+00, 0.0e+00, 1.0e-02],\n",
    "    [3.5e+00, 0.0e+00, 5.0e-02],\n",
    "    [3.5    , 0.     , 0.02   ],\n",
    "    [3.5    , 0.     , 0.03   ],\n",
    "    [3.5    , 0.     , 0.04   ],\n",
    "    [3.5    , 0.     , 0.01   ],\n",
    "    [3.6    , 0.     , 0.01   ],\n",
    "    [3.7    , 0.     , 0.01   ],\n",
    "    [3.8    , 0.     , 0.01   ],\n",
    "])\n"
   ]
  },
  {
   "cell_type": "code",
   "execution_count": 74,
   "metadata": {},
   "outputs": [],
   "source": [
    "f = 200\n",
    "t0 = 0\n",
    "tmax = 1\n",
    "dt = 0.05\n",
    "n_t = int((tmax - t0) * f / dt) + 1  # calculates the n_t to get the desired dt\n",
    "\n",
    "a = 0.35\n",
    "k = 2"
   ]
  },
  {
   "cell_type": "code",
   "execution_count": 75,
   "metadata": {},
   "outputs": [
    {
     "name": "stdout",
     "output_type": "stream",
     "text": [
      "p03.50_J0.00_v05.00e-03_big\n",
      "Warming up SPV (1 steps)\n"
     ]
    },
    {
     "name": "stderr",
     "output_type": "stream",
     "text": [
      "100%|██████████| 4000/4000 [05:31<00:00, 12.05it/s]\n"
     ]
    },
    {
     "name": "stdout",
     "output_type": "stream",
     "text": [
      "0.013425454497337341\n",
      "p03.50_J0.00_v01.00e-02_big\n",
      "Warming up SPV (1 steps)\n"
     ]
    },
    {
     "name": "stderr",
     "output_type": "stream",
     "text": [
      "100%|██████████| 4000/4000 [05:32<00:00, 12.02it/s]\n"
     ]
    },
    {
     "name": "stdout",
     "output_type": "stream",
     "text": [
      "0.0019141134107485414\n",
      "p03.50_J0.00_v05.00e-02_big\n",
      "Warming up SPV (1 steps)\n"
     ]
    },
    {
     "name": "stderr",
     "output_type": "stream",
     "text": [
      " 38%|███▊      | 1531/4000 [02:08<03:27, 11.90it/s]\n"
     ]
    },
    {
     "ename": "KeyboardInterrupt",
     "evalue": "",
     "output_type": "error",
     "traceback": [
      "\u001b[1;31m---------------------------------------------------------------------------\u001b[0m",
      "\u001b[1;31mKeyboardInterrupt\u001b[0m                         Traceback (most recent call last)",
      "\u001b[1;32m<ipython-input-75-3bf9bda697f2>\u001b[0m in \u001b[0;36m<module>\u001b[1;34m\u001b[0m\n\u001b[0;32m     28\u001b[0m     \u001b[0mvor2\u001b[0m\u001b[1;33m.\u001b[0m\u001b[0mk\u001b[0m \u001b[1;33m=\u001b[0m \u001b[0mk\u001b[0m\u001b[1;33m\u001b[0m\u001b[1;33m\u001b[0m\u001b[0m\n\u001b[0;32m     29\u001b[0m \u001b[1;33m\u001b[0m\u001b[0m\n\u001b[1;32m---> 30\u001b[1;33m     \u001b[0mvor2\u001b[0m\u001b[1;33m.\u001b[0m\u001b[0msimulate\u001b[0m\u001b[1;33m(\u001b[0m\u001b[0mprogress_bar\u001b[0m\u001b[1;33m=\u001b[0m\u001b[1;32mTrue\u001b[0m\u001b[1;33m,\u001b[0m \u001b[0mprint_updates\u001b[0m\u001b[1;33m=\u001b[0m\u001b[1;32mTrue\u001b[0m\u001b[1;33m)\u001b[0m\u001b[1;33m;\u001b[0m\u001b[1;33m\u001b[0m\u001b[1;33m\u001b[0m\u001b[0m\n\u001b[0m\u001b[0;32m     31\u001b[0m \u001b[1;33m\u001b[0m\u001b[0m\n\u001b[0;32m     32\u001b[0m     \u001b[0mD_eff\u001b[0m \u001b[1;33m=\u001b[0m\u001b[0mvor_to_D_eff\u001b[0m\u001b[1;33m(\u001b[0m\u001b[0mvor2\u001b[0m\u001b[1;33m,\u001b[0m \u001b[0mn\u001b[0m\u001b[1;33m=\u001b[0m\u001b[1;36m37\u001b[0m\u001b[1;33m)\u001b[0m\u001b[1;33m\u001b[0m\u001b[1;33m\u001b[0m\u001b[0m\n",
      "\u001b[1;32m~\\git\\active_vertex\\voronoi_model\\voronoi_model_periodic.py\u001b[0m in \u001b[0;36msimulate\u001b[1;34m(self, variable_param, progress_bar, print_updates)\u001b[0m\n\u001b[0;32m   1188\u001b[0m             \u001b[0mself\u001b[0m\u001b[1;33m.\u001b[0m\u001b[0mtri_save\u001b[0m\u001b[1;33m[\u001b[0m\u001b[0mstep\u001b[0m\u001b[1;33m]\u001b[0m \u001b[1;33m=\u001b[0m \u001b[0mself\u001b[0m\u001b[1;33m.\u001b[0m\u001b[0mtris\u001b[0m\u001b[1;33m\u001b[0m\u001b[1;33m\u001b[0m\u001b[0m\n\u001b[0;32m   1189\u001b[0m \u001b[1;33m\u001b[0m\u001b[0m\n\u001b[1;32m-> 1190\u001b[1;33m         \u001b[1;32mreturn\u001b[0m \u001b[0mself\u001b[0m\u001b[1;33m.\u001b[0m\u001b[0mx_save\u001b[0m\u001b[1;33m\u001b[0m\u001b[1;33m\u001b[0m\u001b[0m\n\u001b[0m\u001b[0;32m   1191\u001b[0m \u001b[1;33m\u001b[0m\u001b[0m\n\u001b[0;32m   1192\u001b[0m     \u001b[1;32mdef\u001b[0m \u001b[0minit_GRN\u001b[0m\u001b[1;33m(\u001b[0m\u001b[0mself\u001b[0m\u001b[1;33m)\u001b[0m\u001b[1;33m:\u001b[0m\u001b[1;33m\u001b[0m\u001b[1;33m\u001b[0m\u001b[0m\n",
      "\u001b[1;32m~\\git\\active_vertex\\voronoi_model\\voronoi_model_periodic.py\u001b[0m in \u001b[0;36mstep_voronoi\u001b[1;34m(self, x, F_get)\u001b[0m\n\u001b[0;32m   1112\u001b[0m             \u001b[0mself\u001b[0m\u001b[1;33m.\u001b[0m\u001b[0mCents\u001b[0m\u001b[1;33m,\u001b[0m \u001b[0mself\u001b[0m\u001b[1;33m.\u001b[0m\u001b[0ma\u001b[0m\u001b[1;33m,\u001b[0m \u001b[0mself\u001b[0m\u001b[1;33m.\u001b[0m\u001b[0mk\u001b[0m\u001b[1;33m,\u001b[0m \u001b[0mself\u001b[0m\u001b[1;33m.\u001b[0m\u001b[0mCV_matrix\u001b[0m\u001b[1;33m,\u001b[0m \u001b[0mself\u001b[0m\u001b[1;33m.\u001b[0m\u001b[0mn_c\u001b[0m\u001b[1;33m,\u001b[0m \u001b[0mself\u001b[0m\u001b[1;33m.\u001b[0m\u001b[0mL\u001b[0m\u001b[1;33m\u001b[0m\u001b[1;33m\u001b[0m\u001b[0m\n\u001b[0;32m   1113\u001b[0m         )\n\u001b[1;32m-> 1114\u001b[1;33m         \u001b[0mx\u001b[0m \u001b[1;33m+=\u001b[0m \u001b[0mself\u001b[0m\u001b[1;33m.\u001b[0m\u001b[0mdt\u001b[0m \u001b[1;33m*\u001b[0m \u001b[1;33m(\u001b[0m\u001b[0mF\u001b[0m \u001b[1;33m+\u001b[0m \u001b[0mF_soft\u001b[0m \u001b[1;33m+\u001b[0m \u001b[0mself\u001b[0m\u001b[1;33m.\u001b[0m\u001b[0mv0\u001b[0m \u001b[1;33m*\u001b[0m \u001b[0mself\u001b[0m\u001b[1;33m.\u001b[0m\u001b[0mget_noise\u001b[0m\u001b[1;33m(\u001b[0m\u001b[1;33m)\u001b[0m\u001b[1;33m)\u001b[0m\u001b[1;33m\u001b[0m\u001b[1;33m\u001b[0m\u001b[0m\n\u001b[0m\u001b[0;32m   1115\u001b[0m         \u001b[0mx\u001b[0m \u001b[1;33m=\u001b[0m \u001b[0mnp\u001b[0m\u001b[1;33m.\u001b[0m\u001b[0mmod\u001b[0m\u001b[1;33m(\u001b[0m\u001b[0mx\u001b[0m\u001b[1;33m,\u001b[0m \u001b[0mself\u001b[0m\u001b[1;33m.\u001b[0m\u001b[0mL\u001b[0m\u001b[1;33m)\u001b[0m\u001b[1;33m\u001b[0m\u001b[1;33m\u001b[0m\u001b[0m\n\u001b[0;32m   1116\u001b[0m         \u001b[0mself\u001b[0m\u001b[1;33m.\u001b[0m\u001b[0mx\u001b[0m \u001b[1;33m=\u001b[0m \u001b[0mx\u001b[0m\u001b[1;33m\u001b[0m\u001b[1;33m\u001b[0m\u001b[0m\n",
      "\u001b[1;32m~\\git\\active_vertex\\voronoi_model\\voronoi_model_periodic.py\u001b[0m in \u001b[0;36mget_A_periodic\u001b[1;34m(self, neighbours, vs)\u001b[0m\n\u001b[0;32m    882\u001b[0m     \u001b[1;32mdef\u001b[0m \u001b[0mget_F_periodic\u001b[0m\u001b[1;33m(\u001b[0m\u001b[0mself\u001b[0m\u001b[1;33m,\u001b[0m\u001b[0mneighbours\u001b[0m\u001b[1;33m,\u001b[0m\u001b[0mvs\u001b[0m\u001b[1;33m)\u001b[0m\u001b[1;33m:\u001b[0m\u001b[1;33m\u001b[0m\u001b[1;33m\u001b[0m\u001b[0m\n\u001b[0;32m    883\u001b[0m         \"\"\"\n\u001b[1;32m--> 884\u001b[1;33m         \u001b[0mCalculate\u001b[0m \u001b[0mthe\u001b[0m \u001b[0mforces\u001b[0m \u001b[0macting\u001b[0m \u001b[0mon\u001b[0m \u001b[0meach\u001b[0m \u001b[0mcell\u001b[0m \u001b[0mvia\u001b[0m \u001b[0mthe\u001b[0m \u001b[0mSPV\u001b[0m \u001b[0mformalism\u001b[0m\u001b[1;33m.\u001b[0m\u001b[1;33m\u001b[0m\u001b[1;33m\u001b[0m\u001b[0m\n\u001b[0m\u001b[0;32m    885\u001b[0m         \u001b[0mDetailed\u001b[0m \u001b[0mexplanations\u001b[0m \u001b[0mof\u001b[0m \u001b[0meach\u001b[0m \u001b[0mstage\u001b[0m \u001b[0mare\u001b[0m \u001b[0mdescribed\u001b[0m \u001b[1;32min\u001b[0m \u001b[0mline\u001b[0m\u001b[1;33m,\u001b[0m \u001b[0mbut\u001b[0m \u001b[0moverall\u001b[0m \u001b[0mthe\u001b[0m \u001b[0mstrategy\u001b[0m \u001b[0mleverages\u001b[0m \u001b[0mthe\u001b[0m \u001b[0mchain\u001b[0m\u001b[1;33m-\u001b[0m\u001b[0mrule\u001b[0m\u001b[1;33m\u001b[0m\u001b[1;33m\u001b[0m\u001b[0m\n\u001b[0;32m    886\u001b[0m         \u001b[1;33m(\u001b[0m\u001b[0mvertex\u001b[0m\u001b[1;33m-\u001b[0m\u001b[0mwise\u001b[0m\u001b[1;33m)\u001b[0m \u001b[0mdecomposition\u001b[0m \u001b[0mof\u001b[0m \u001b[0mthe\u001b[0m \u001b[0mexpression\u001b[0m \u001b[1;32mfor\u001b[0m \u001b[0mforces\u001b[0m \u001b[0macting\u001b[0m \u001b[0mon\u001b[0m \u001b[0meach\u001b[0m \u001b[0mcell\u001b[0m\u001b[1;33m.\u001b[0m \u001b[0mUsing\u001b[0m \u001b[0mthis\u001b[0m\u001b[1;33m,\u001b[0m \u001b[0mcontributions\u001b[0m \u001b[1;32mfrom\u001b[0m\u001b[1;33m\u001b[0m\u001b[1;33m\u001b[0m\u001b[0m\n",
      "\u001b[1;31mKeyboardInterrupt\u001b[0m: "
     ]
    }
   ],
   "source": [
    "D_eff_save = []\n",
    "\n",
    "iterator = param_space[1:]\n",
    "# iterator = tqdm(iterator)\n",
    "\n",
    "for p, J, v in iterator:\n",
    "    prefix = f\"p0{p:.2f}_J{J:.2f}_v0{v:.2e}_big\"\n",
    "    print(prefix)\n",
    "    \n",
    "    vor2 = avm.Tissue()\n",
    "    vor2.generate_cells(600)\n",
    "    vor2.make_init(18)\n",
    "\n",
    "    vor2.set_GRN_t_span(t0, tmax, n_t, scaling_factor=f);\n",
    "    vor2.v0 = v\n",
    "#     vor2.n_warmup_steps = int(150 / dt)\n",
    "    vor2.n_warmup_steps = 1\n",
    "\n",
    "    W = J * np.array([[1, 0], [0, 1]])\n",
    "    vor2.set_interaction(W=W, pE=0)\n",
    "    vor2.A0 = 0.86\n",
    "    vor2.P0 = p * np.sqrt(vor2.A0)\n",
    "\n",
    "    vor2.Dr = 0.01\n",
    "    vor2.kappa_A = 0.2\n",
    "    vor2.kappa_P = 0.1\n",
    "    vor2.a = a\n",
    "    vor2.k = k\n",
    "    \n",
    "    vor2.simulate(progress_bar=True, print_updates=True);\n",
    "    \n",
    "    D_eff =vor_to_D_eff(vor2, n=37)\n",
    "    print(D_eff)\n",
    "    D_eff_save.append(D_eff)\n",
    "    \n",
    "    vor2.animate(file_name=prefix, n_frames=100, print_updates=False)"
   ]
  },
  {
   "cell_type": "code",
   "execution_count": 47,
   "metadata": {},
   "outputs": [
    {
     "data": {
      "text/plain": [
       "array([[3.5 , 0.  , 0.01],\n",
       "       [3.6 , 0.  , 0.01],\n",
       "       [3.7 , 0.  , 0.01],\n",
       "       [3.8 , 0.  , 0.01]])"
      ]
     },
     "execution_count": 47,
     "metadata": {},
     "output_type": "execute_result"
    }
   ],
   "source": [
    "param_space"
   ]
  },
  {
   "cell_type": "code",
   "execution_count": null,
   "metadata": {},
   "outputs": [],
   "source": [
    "D_eff_save"
   ]
  },
  {
   "cell_type": "code",
   "execution_count": null,
   "metadata": {},
   "outputs": [],
   "source": []
  },
  {
   "cell_type": "markdown",
   "metadata": {},
   "source": [
    "It looks like `v0 = 0.01` is similar to `v = 0.5` in the source publication: \n",
    "- https://journals.aps.org/prx/abstract/10.1103/PhysRevX.6.021011"
   ]
  },
  {
   "cell_type": "code",
   "execution_count": null,
   "metadata": {},
   "outputs": [],
   "source": []
  },
  {
   "cell_type": "code",
   "execution_count": 38,
   "metadata": {},
   "outputs": [],
   "source": [
    "# For these params\n",
    "ex_params = np.array([\n",
    "    [3.5e+00, 0.0e+00, 1.0e-03],\n",
    "    [3.5e+00, 0.0e+00, 5.0e-03],\n",
    "    [3.5e+00, 0.0e+00, 1.0e-02],\n",
    "    [3.5e+00, 0.0e+00, 5.0e-02],\n",
    "    [3.5    , 0.     , 0.02   ],\n",
    "    [3.5    , 0.     , 0.03   ],\n",
    "    [3.5    , 0.     , 0.04   ],\n",
    "    [3.5    , 0.     , 0.01   ],\n",
    "    [3.6    , 0.     , 0.01   ],\n",
    "    [3.7    , 0.     , 0.01   ],\n",
    "    [3.8    , 0.     , 0.01   ],\n",
    "])\n",
    "\n",
    "# I got these D_eff values\n",
    "ex_D_eff = np.array([\n",
    "    0.005111410791869276,\n",
    "    0.01961112953722477,\n",
    "    0.014301142655313015,\n",
    "    0.025674479007720942,\n",
    "    0.012277007102966307, \n",
    "    0.01292151129908032, \n",
    "    0.003912175539880991,   # wat\n",
    "    0.03499118611216545,\n",
    "    0.007614209782332182,\n",
    "    0.04667229205369949,\n",
    "    0.09706597030162811,\n",
    "])"
   ]
  },
  {
   "cell_type": "code",
   "execution_count": null,
   "metadata": {},
   "outputs": [],
   "source": []
  }
 ],
 "metadata": {
  "kernelspec": {
   "display_name": "Python 3",
   "language": "python",
   "name": "python3"
  },
  "language_info": {
   "codemirror_mode": {
    "name": "ipython",
    "version": 3
   },
   "file_extension": ".py",
   "mimetype": "text/x-python",
   "name": "python",
   "nbconvert_exporter": "python",
   "pygments_lexer": "ipython3",
   "version": "3.7.7"
  }
 },
 "nbformat": 4,
 "nbformat_minor": 4
}
