{
 "cells": [
  {
   "cell_type": "code",
   "execution_count": 1,
   "metadata": {},
   "outputs": [],
   "source": [
    "import sys\n",
    "import os\n",
    "import numpy as np\n",
    "from tqdm import tqdm\n",
    "import datetime"
   ]
  },
  {
   "cell_type": "code",
   "execution_count": 2,
   "metadata": {},
   "outputs": [],
   "source": [
    "# vor_path = \"/home/ubuntu/git/active_vertex\"\n",
    "vor_path = 'C:\\\\Users\\\\Pranav\\\\git\\\\active_vertex'\n",
    "sys.path.append(vor_path)\n",
    "\n",
    "import voronoi_model.voronoi_model_periodic as avm\n",
    "# import voronoi_model.voronoi_model_periodic_dev as avm_dev\n",
    "# import voronoi_model.voronoi_model_periodic_jcs as avm_jcs"
   ]
  },
  {
   "cell_type": "code",
   "execution_count": 3,
   "metadata": {},
   "outputs": [],
   "source": [
    "def print_SPV_params(vor2, p, J):\n",
    "    print(\n",
    "        \"\"\"\n",
    "    Number of cells : {0}\n",
    "    Time-span       : {1:.2f} - {2:.2f}\n",
    "    Time-step (dt)  : {3:.3f}\n",
    "\n",
    "    === Parameters ===\n",
    "    Dr      : {4:.1e}\n",
    "    kappa_A : {5:.2f}\n",
    "    kappa_P : {6:.2f}\n",
    "    a       : {7:.2f}\n",
    "    k       : {8:.1f}\n",
    "    p0      : {9:.2f}\n",
    "    v0      : {10:.2e}\n",
    "    J (adh) : {11:.3f}\n",
    "    \"\"\".format(\n",
    "            vor2.n_c,\n",
    "            vor2.t_span[0],\n",
    "            vor2.t_span[-1],\n",
    "            vor2.dt,\n",
    "            vor2.Dr,\n",
    "            vor2.kappa_A,\n",
    "            vor2.kappa_P,\n",
    "            vor2.a,\n",
    "            vor2.k,\n",
    "            p,\n",
    "            vor2.v0,\n",
    "            J\n",
    "        )\n",
    "    )"
   ]
  },
  {
   "cell_type": "code",
   "execution_count": 17,
   "metadata": {},
   "outputs": [],
   "source": [
    "f = 200\n",
    "t0 = 0\n",
    "tmax = 1\n",
    "dt = 0.02\n",
    "n_t = int((tmax - t0) * f / dt) + 1  # calculates the n_t to get the desired dt\n",
    "\n",
    "a = 0.35\n",
    "k = 2"
   ]
  },
  {
   "cell_type": "code",
   "execution_count": 18,
   "metadata": {},
   "outputs": [],
   "source": [
    "p = 3.8\n",
    "J = 0\n",
    "v = 1e-1"
   ]
  },
  {
   "cell_type": "code",
   "execution_count": 22,
   "metadata": {},
   "outputs": [],
   "source": [
    "# vor2 = avm.Tissue()\n",
    "vor2 = avm_jcs.Tissue()\n",
    "vor2.generate_cells(600)\n",
    "vor2.make_init(10)\n",
    "\n",
    "vor2.set_t_span(0.02, 100 + 200)  # 100 warmup\n",
    "# vor2.set_GRN_t_span(t0, tmax, n_t, scaling_factor=f);\n",
    "\n",
    "vor2.v0 = v\n",
    "# vor2.n_warmup_steps = int(100 / dt)\n",
    "\n",
    "W = J * np.array([[1, 0], [0, 1]])\n",
    "vor2.set_interaction(W=W, pE=0)\n",
    "vor2.A0 = 0.86\n",
    "vor2.P0 = p * np.sqrt(vor2.A0)\n",
    "\n",
    "vor2.Dr = 0.01\n",
    "vor2.kappa_A = 0.2\n",
    "vor2.kappa_P = 0.1\n",
    "vor2.a = a\n",
    "vor2.k = k"
   ]
  },
  {
   "cell_type": "code",
   "execution_count": 23,
   "metadata": {},
   "outputs": [
    {
     "name": "stdout",
     "output_type": "stream",
     "text": [
      "\n",
      "    Number of cells : 120\n",
      "    Time-span       : 0.00 - 299.98\n",
      "    Time-step (dt)  : 0.020\n",
      "\n",
      "    === Parameters ===\n",
      "    Dr      : 1.0e-02\n",
      "    kappa_A : 0.20\n",
      "    kappa_P : 0.10\n",
      "    a       : 0.35\n",
      "    k       : 2.0\n",
      "    p0      : 3.80\n",
      "    v0      : 1.00e-01\n",
      "    J (adh) : 0.000\n",
      "    \n"
     ]
    }
   ],
   "source": [
    "print_SPV_params(vor2, p, J)"
   ]
  },
  {
   "cell_type": "code",
   "execution_count": 24,
   "metadata": {},
   "outputs": [
    {
     "name": "stdout",
     "output_type": "stream",
     "text": [
      "0.0 %\n",
      "6.666666666666667 %\n",
      "13.333333333333334 %\n",
      "20.0 %\n",
      "26.666666666666668 %\n",
      "33.33333333333333 %\n",
      "40.0 %\n",
      "46.666666666666664 %\n",
      "53.333333333333336 %\n",
      "60.0 %\n",
      "66.66666666666666 %\n",
      "73.33333333333333 %\n",
      "80.0 %\n",
      "86.66666666666667 %\n",
      "93.33333333333333 %\n",
      "Simulation complete\n"
     ]
    }
   ],
   "source": [
    "vor2.simulate(\n",
    "#     progress_bar=True,\n",
    "#     print_updates=True,\n",
    "    print_every=1e9,\n",
    ");"
   ]
  },
  {
   "cell_type": "code",
   "execution_count": null,
   "metadata": {},
   "outputs": [],
   "source": []
  },
  {
   "cell_type": "code",
   "execution_count": 31,
   "metadata": {},
   "outputs": [],
   "source": [
    "# vor2 = avm.Tissue()\n",
    "vor = avm.Tissue()\n",
    "vor.generate_cells(600)\n",
    "vor.make_init(10)\n",
    "\n",
    "# vor2.set_t_span(0.02, 100 + 200)  # 100 warmup\n",
    "vor.set_GRN_t_span(t0, tmax, n_t, scaling_factor=f);\n",
    "\n",
    "vor.v0 = v\n",
    "vor.n_warmup_steps = int(100 / dt)\n",
    "\n",
    "W = J * np.array([[1, 0], [0, 1]])\n",
    "vor.set_interaction(W=W, pE=0)\n",
    "vor.A0 = 0.86\n",
    "vor.P0 = p * np.sqrt(vor2.A0)\n",
    "\n",
    "vor.Dr = 0.01\n",
    "vor.kappa_A = 0.2\n",
    "vor.kappa_P = 0.1\n",
    "vor.a = a\n",
    "vor.k = k"
   ]
  },
  {
   "cell_type": "code",
   "execution_count": 32,
   "metadata": {},
   "outputs": [
    {
     "name": "stdout",
     "output_type": "stream",
     "text": [
      "Warming up SPV (5000 steps)\n"
     ]
    },
    {
     "name": "stderr",
     "output_type": "stream",
     "text": [
      "100%|██████████| 10000/10000 [01:20<00:00, 124.92it/s]\n"
     ]
    }
   ],
   "source": [
    "vor.simulate(\n",
    "    progress_bar=True,\n",
    "    print_updates=True,\n",
    "#     print_every=1000,\n",
    ");"
   ]
  },
  {
   "cell_type": "code",
   "execution_count": null,
   "metadata": {},
   "outputs": [],
   "source": []
  },
  {
   "cell_type": "code",
   "execution_count": 34,
   "metadata": {},
   "outputs": [
    {
     "data": {
      "image/png": "[encoded data removed]",
      "text/plain": [
       "<Figure size 432x288 with 1 Axes>"
      ]
     },
     "metadata": {
      "needs_background": "light"
     },
     "output_type": "display_data"
    }
   ],
   "source": [
    "vor2.animate(\n",
    "    150,\n",
    "    \"f200_tmax1_v1e-1_JCS\", \n",
    "#     n_frames=100, \n",
    "#     print_updates=False\n",
    ")"
   ]
  },
  {
   "cell_type": "code",
   "execution_count": 35,
   "metadata": {},
   "outputs": [
    {
     "name": "stdout",
     "output_type": "stream",
     "text": [
      "Saving to plots/f200_tmax1_v1e-1_PSB.mp4\n"
     ]
    }
   ],
   "source": [
    "vor.animate(\n",
    "#     150,\n",
    "    \"f200_tmax1_v1e-1_PSB\", \n",
    "    n_frames=100, \n",
    "    print_updates=True\n",
    ")"
   ]
  },
  {
   "cell_type": "markdown",
   "metadata": {},
   "source": [
    "<hr>"
   ]
  },
  {
   "cell_type": "markdown",
   "metadata": {},
   "source": [
    "This code is for debugging the SVP when equiangulate fails."
   ]
  },
  {
   "cell_type": "code",
   "execution_count": 25,
   "metadata": {},
   "outputs": [],
   "source": [
    "# args = [\n",
    "#     vor2.tris,\n",
    "#     vor2.CV_matrix,\n",
    "#     vor2.n_v,\n",
    "#     vor2.n_c,\n",
    "#     vor2.L,\n",
    "#     vor2.A,\n",
    "#     vor2.P,\n",
    "#     vor2.Cents,\n",
    "#     vor2.kappa_A,\n",
    "#     vor2.kappa_P,\n",
    "#     vor2.A0,\n",
    "#     vor2.P0,\n",
    "# ]\n",
    "\n",
    "# has_nan = []\n",
    "# for i, a in enumerate(args):\n",
    "#     if np.any(np.isnan(a)):\n",
    "#         has_nan.append(i)"
   ]
  },
  {
   "cell_type": "code",
   "execution_count": 26,
   "metadata": {},
   "outputs": [],
   "source": [
    "# has_nan"
   ]
  },
  {
   "cell_type": "markdown",
   "metadata": {},
   "source": [
    "OK!! So when equiangulate times out, self.get_F_periodic(...) calls get_F_periodic(\\*args), which returns nans - even when none of the args contain nans!!"
   ]
  },
  {
   "cell_type": "markdown",
   "metadata": {},
   "source": [
    "<hr>"
   ]
  },
  {
   "cell_type": "code",
   "execution_count": 42,
   "metadata": {},
   "outputs": [],
   "source": [
    "p_space = np.linspace(3.5, 3.9, 5)\n",
    "v_space = np.arange(2e-3, 3e-2, 4e-3)\n",
    "replicates = np.arange(1)\n",
    "\n",
    "param_space = np.meshgrid(\n",
    "    p_space,\n",
    "    v_space,\n",
    "    replicates\n",
    ")\n",
    "param_space = np.array(param_space).T.reshape(-1, 3)"
   ]
  },
  {
   "cell_type": "markdown",
   "metadata": {},
   "source": [
    "<hr>"
   ]
  },
  {
   "cell_type": "code",
   "execution_count": null,
   "metadata": {},
   "outputs": [],
   "source": []
  }
 ],
 "metadata": {
  "kernelspec": {
   "display_name": "Python 3",
   "language": "python",
   "name": "python3"
  },
  "language_info": {
   "codemirror_mode": {
    "name": "ipython",
    "version": 3
   },
   "file_extension": ".py",
   "mimetype": "text/x-python",
   "name": "python",
   "nbconvert_exporter": "python",
   "pygments_lexer": "ipython3",
   "version": "3.7.7"
  }
 },
 "nbformat": 4,
 "nbformat_minor": 4
}
