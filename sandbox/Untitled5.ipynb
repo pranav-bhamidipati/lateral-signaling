{
 "cells": [
  {
   "cell_type": "code",
   "execution_count": 1,
   "metadata": {},
   "outputs": [],
   "source": [
    "import sys\n",
    "import os\n",
    "import numpy as np\n",
    "from tqdm import tqdm\n",
    "import datetime"
   ]
  },
  {
   "cell_type": "code",
   "execution_count": 21,
   "metadata": {},
   "outputs": [],
   "source": [
    "# vor_path = \"/home/ubuntu/git/active_vertex\"\n",
    "vor_path = 'C:\\\\Users\\\\Pranav\\\\git\\\\active_vertex'\n",
    "sys.path.append(vor_path)\n",
    "\n",
    "import voronoi_model.voronoi_model_periodic as avm\n",
    "import voronoi_model.voronoi_model_periodic_dev as avm_dev"
   ]
  },
  {
   "cell_type": "code",
   "execution_count": 3,
   "metadata": {},
   "outputs": [],
   "source": [
    "def print_SPV_params(vor2, p, J):\n",
    "    print(\n",
    "        \"\"\"\n",
    "    Number of cells : {0}\n",
    "    Time-span       : {1:.2f} - {2:.2f}\n",
    "    Time-step (dt)  : {3:.3f}\n",
    "\n",
    "    === Parameters ===\n",
    "    Dr      : {4:.1e}\n",
    "    kappa_A : {5:.2f}\n",
    "    kappa_P : {6:.2f}\n",
    "    a       : {7:.2f}\n",
    "    k       : {8:.1f}\n",
    "    p0      : {9:.2f}\n",
    "    v0      : {10:.2e}\n",
    "    J (adh) : {11:.3f}\n",
    "    \"\"\".format(\n",
    "            vor2.n_c,\n",
    "            vor2.t_span[0],\n",
    "            vor2.t_span[-1],\n",
    "            vor2.dt,\n",
    "            vor2.Dr,\n",
    "            vor2.kappa_A,\n",
    "            vor2.kappa_P,\n",
    "            vor2.a,\n",
    "            vor2.k,\n",
    "            p,\n",
    "            vor2.v0,\n",
    "            J\n",
    "        )\n",
    "    )"
   ]
  },
  {
   "cell_type": "code",
   "execution_count": 4,
   "metadata": {},
   "outputs": [],
   "source": [
    "f = 200\n",
    "t0 = 0\n",
    "tmax = 1\n",
    "dt = 0.05\n",
    "n_t = int((tmax - t0) * f / dt) + 1  # calculates the n_t to get the desired dt\n",
    "\n",
    "a = 0.35\n",
    "k = 2"
   ]
  },
  {
   "cell_type": "code",
   "execution_count": 5,
   "metadata": {},
   "outputs": [],
   "source": [
    "p = 3.8\n",
    "J = 0\n",
    "v = 1"
   ]
  },
  {
   "cell_type": "code",
   "execution_count": 6,
   "metadata": {},
   "outputs": [],
   "source": [
    "# vor2 = avm.Tissue()\n",
    "vor2 = avm_dev.Tissue()\n",
    "vor2.generate_cells(600)\n",
    "vor2.make_init(10)\n",
    "\n",
    "vor2.set_GRN_t_span(t0, tmax, n_t, scaling_factor=f);\n",
    "vor2.v0 = v\n",
    "vor2.n_warmup_steps = int(200 / dt)\n",
    "\n",
    "W = J * np.array([[1, 0], [0, 1]])\n",
    "vor2.set_interaction(W=W, pE=0)\n",
    "vor2.A0 = 0.86\n",
    "vor2.P0 = p * np.sqrt(vor2.A0)\n",
    "\n",
    "vor2.Dr = 0.01\n",
    "vor2.kappa_A = 0.2\n",
    "vor2.kappa_P = 0.1\n",
    "vor2.a = a\n",
    "vor2.k = k"
   ]
  },
  {
   "cell_type": "code",
   "execution_count": 7,
   "metadata": {},
   "outputs": [
    {
     "name": "stdout",
     "output_type": "stream",
     "text": [
      "\n",
      "    Number of cells : 120\n",
      "    Time-span       : 0.00 - 200.00\n",
      "    Time-step (dt)  : 0.050\n",
      "\n",
      "    === Parameters ===\n",
      "    Dr      : 1.0e-02\n",
      "    kappa_A : 0.20\n",
      "    kappa_P : 0.10\n",
      "    a       : 0.35\n",
      "    k       : 2.0\n",
      "    p0      : 3.80\n",
      "    v0      : 1.00e+00\n",
      "    J (adh) : 0.000\n",
      "    \n"
     ]
    }
   ],
   "source": [
    "print_SPV_params(vor2, p, J)"
   ]
  },
  {
   "cell_type": "code",
   "execution_count": 8,
   "metadata": {},
   "outputs": [
    {
     "data": {
      "text/plain": [
       "4000"
      ]
     },
     "execution_count": 8,
     "metadata": {},
     "output_type": "execute_result"
    }
   ],
   "source": [
    "int(200 / dt)"
   ]
  },
  {
   "cell_type": "code",
   "execution_count": 9,
   "metadata": {},
   "outputs": [],
   "source": [
    "vor2.n_warmup_steps = 1\n",
    "# vor2.warmup_SPV(F_get = vor2.get_F_periodic)"
   ]
  },
  {
   "cell_type": "code",
   "execution_count": 10,
   "metadata": {},
   "outputs": [],
   "source": [
    "# vor2.x_save\n",
    "# vor2.step_voronoi(x, )"
   ]
  },
  {
   "cell_type": "code",
   "execution_count": 11,
   "metadata": {},
   "outputs": [
    {
     "name": "stdout",
     "output_type": "stream",
     "text": [
      "Warming up SPV (1 steps)\n"
     ]
    },
    {
     "name": "stderr",
     "output_type": "stream",
     "text": [
      " 69%|██████▊   | 2741/4000 [00:31<00:17, 71.39it/s]"
     ]
    },
    {
     "name": "stdout",
     "output_type": "stream",
     "text": [
      "timeout: 19:13:23\n"
     ]
    },
    {
     "name": "stderr",
     "output_type": "stream",
     "text": [
      " 76%|███████▋  | 3057/4000 [00:35<00:10, 86.02it/s]\n"
     ]
    },
    {
     "name": "stdout",
     "output_type": "stream",
     "text": [
      "get_F_periodic encountered nan:\n",
      "            nans?\n",
      "            False\n",
      "            False\n",
      "            True\n",
      "OOPSIE: 19:13:23\n",
      "F_get: get_F_periodic\n",
      "                Has nan?\n",
      "                F:               True\n",
      "                self.neighbours: False\n",
      "                self.vs:         False\n",
      "                \n",
      "                \n"
     ]
    },
    {
     "ename": "FloatingPointError",
     "evalue": "invalid value encountered in remainder",
     "output_type": "error",
     "traceback": [
      "\u001b[1;31m---------------------------------------------------------------------------\u001b[0m",
      "\u001b[1;31mFloatingPointError\u001b[0m                        Traceback (most recent call last)",
      "\u001b[1;32m~\\git\\active_vertex\\voronoi_model\\voronoi_model_periodic.py\u001b[0m in \u001b[0;36mstep_voronoi\u001b[1;34m(self, x, F_get)\u001b[0m\n\u001b[0;32m   1146\u001b[0m             \u001b[1;32mtry\u001b[0m\u001b[1;33m:\u001b[0m\u001b[1;33m\u001b[0m\u001b[1;33m\u001b[0m\u001b[0m\n\u001b[1;32m-> 1147\u001b[1;33m                 \u001b[0mx\u001b[0m \u001b[1;33m=\u001b[0m \u001b[0mnp\u001b[0m\u001b[1;33m.\u001b[0m\u001b[0mmod\u001b[0m\u001b[1;33m(\u001b[0m\u001b[0mx\u001b[0m\u001b[1;33m,\u001b[0m \u001b[0mself\u001b[0m\u001b[1;33m.\u001b[0m\u001b[0mL\u001b[0m\u001b[1;33m)\u001b[0m\u001b[1;33m\u001b[0m\u001b[1;33m\u001b[0m\u001b[0m\n\u001b[0m\u001b[0;32m   1148\u001b[0m             \u001b[1;32mexcept\u001b[0m\u001b[1;33m:\u001b[0m\u001b[1;33m\u001b[0m\u001b[1;33m\u001b[0m\u001b[0m\n",
      "\u001b[1;31mFloatingPointError\u001b[0m: invalid value encountered in remainder",
      "\nDuring handling of the above exception, another exception occurred:\n",
      "\u001b[1;31mFloatingPointError\u001b[0m                        Traceback (most recent call last)",
      "\u001b[1;32m<ipython-input-11-baa9bbd4c07c>\u001b[0m in \u001b[0;36m<module>\u001b[1;34m\u001b[0m\n\u001b[1;32m----> 1\u001b[1;33m \u001b[0mvor2\u001b[0m\u001b[1;33m.\u001b[0m\u001b[0msimulate\u001b[0m\u001b[1;33m(\u001b[0m\u001b[0mprogress_bar\u001b[0m\u001b[1;33m=\u001b[0m\u001b[1;32mTrue\u001b[0m\u001b[1;33m,\u001b[0m \u001b[0mprint_updates\u001b[0m\u001b[1;33m=\u001b[0m\u001b[1;32mTrue\u001b[0m\u001b[1;33m)\u001b[0m\u001b[1;33m;\u001b[0m\u001b[1;33m\u001b[0m\u001b[1;33m\u001b[0m\u001b[0m\n\u001b[0m",
      "\u001b[1;32m~\\git\\active_vertex\\voronoi_model\\voronoi_model_periodic.py\u001b[0m in \u001b[0;36msimulate\u001b[1;34m(self, variable_param, progress_bar, print_updates)\u001b[0m\n\u001b[0;32m   1224\u001b[0m         \u001b[1;32mfor\u001b[0m \u001b[0mstep\u001b[0m \u001b[1;32min\u001b[0m \u001b[0miterator\u001b[0m\u001b[1;33m:\u001b[0m\u001b[1;33m\u001b[0m\u001b[1;33m\u001b[0m\u001b[0m\n\u001b[0;32m   1225\u001b[0m \u001b[1;33m\u001b[0m\u001b[0m\n\u001b[1;32m-> 1226\u001b[1;33m             \u001b[0mx\u001b[0m \u001b[1;33m=\u001b[0m \u001b[0mself\u001b[0m\u001b[1;33m.\u001b[0m\u001b[0mstep_voronoi\u001b[0m\u001b[1;33m(\u001b[0m\u001b[0mx\u001b[0m\u001b[1;33m,\u001b[0m \u001b[0mF_get\u001b[0m\u001b[1;33m=\u001b[0m\u001b[0mF_get\u001b[0m\u001b[1;33m)\u001b[0m\u001b[1;33m\u001b[0m\u001b[1;33m\u001b[0m\u001b[0m\n\u001b[0m\u001b[0;32m   1227\u001b[0m \u001b[1;33m\u001b[0m\u001b[0m\n\u001b[0;32m   1228\u001b[0m             \u001b[0mself\u001b[0m\u001b[1;33m.\u001b[0m\u001b[0mx_save\u001b[0m\u001b[1;33m[\u001b[0m\u001b[0mstep\u001b[0m\u001b[1;33m]\u001b[0m \u001b[1;33m=\u001b[0m \u001b[0mx\u001b[0m\u001b[1;33m\u001b[0m\u001b[1;33m\u001b[0m\u001b[0m\n",
      "\u001b[1;32m~\\git\\active_vertex\\voronoi_model\\voronoi_model_periodic.py\u001b[0m in \u001b[0;36mstep_voronoi\u001b[1;34m(self, x, F_get)\u001b[0m\n\u001b[0;32m   1155\u001b[0m \u001b[1;33m\u001b[0m\u001b[0m\n\u001b[0;32m   1156\u001b[0m                 \"\"\")\n\u001b[1;32m-> 1157\u001b[1;33m                 \u001b[0mx\u001b[0m \u001b[1;33m=\u001b[0m \u001b[0mnp\u001b[0m\u001b[1;33m.\u001b[0m\u001b[0mmod\u001b[0m\u001b[1;33m(\u001b[0m\u001b[0mx\u001b[0m\u001b[1;33m,\u001b[0m \u001b[0mself\u001b[0m\u001b[1;33m.\u001b[0m\u001b[0mL\u001b[0m\u001b[1;33m)\u001b[0m\u001b[1;33m\u001b[0m\u001b[1;33m\u001b[0m\u001b[0m\n\u001b[0m\u001b[0;32m   1158\u001b[0m         \u001b[0mself\u001b[0m\u001b[1;33m.\u001b[0m\u001b[0mx\u001b[0m \u001b[1;33m=\u001b[0m \u001b[0mx\u001b[0m\u001b[1;33m\u001b[0m\u001b[1;33m\u001b[0m\u001b[0m\n\u001b[0;32m   1159\u001b[0m \u001b[1;33m\u001b[0m\u001b[0m\n",
      "\u001b[1;31mFloatingPointError\u001b[0m: invalid value encountered in remainder"
     ]
    }
   ],
   "source": [
    "vor2.simulate(progress_bar=True, print_updates=True);"
   ]
  },
  {
   "cell_type": "code",
   "execution_count": 19,
   "metadata": {},
   "outputs": [],
   "source": [
    "args = [\n",
    "    vor2.tris,\n",
    "    vor2.CV_matrix,\n",
    "    vor2.n_v,\n",
    "    vor2.n_c,\n",
    "    vor2.L,\n",
    "    vor2.A,\n",
    "    vor2.P,\n",
    "    vor2.Cents,\n",
    "    vor2.kappa_A,\n",
    "    vor2.kappa_P,\n",
    "    vor2.A0,\n",
    "    vor2.P0,\n",
    "]\n",
    "\n",
    "has_nan = []\n",
    "for i, a in enumerate(args):\n",
    "    if np.any(np.isnan(a)):\n",
    "        has_nan.append(i)"
   ]
  },
  {
   "cell_type": "code",
   "execution_count": 20,
   "metadata": {},
   "outputs": [
    {
     "data": {
      "text/plain": [
       "[]"
      ]
     },
     "execution_count": 20,
     "metadata": {},
     "output_type": "execute_result"
    }
   ],
   "source": [
    "has_nan"
   ]
  },
  {
   "cell_type": "code",
   "execution_count": null,
   "metadata": {},
   "outputs": [],
   "source": [
    "vor2.animate(\"f200_tmax2\", n_frames=100, print_updates=False)"
   ]
  },
  {
   "cell_type": "code",
   "execution_count": null,
   "metadata": {},
   "outputs": [],
   "source": []
  },
  {
   "cell_type": "markdown",
   "metadata": {},
   "source": [
    "OK!! So when equiangulate times out, self.get_F_periodic(...) calls get_F_periodic(\\*args), which returns nans - even when none of the args contain nans!!"
   ]
  },
  {
   "cell_type": "markdown",
   "metadata": {},
   "source": [
    "<hr>"
   ]
  },
  {
   "cell_type": "code",
   "execution_count": 1,
   "metadata": {},
   "outputs": [],
   "source": [
    "import sys\n",
    "import os\n",
    "import numpy as np\n",
    "from tqdm import tqdm\n",
    "import datetime"
   ]
  },
  {
   "cell_type": "code",
   "execution_count": 2,
   "metadata": {},
   "outputs": [],
   "source": [
    "# vor_path = \"/home/ubuntu/git/active_vertex\"\n",
    "vor_path = 'C:\\\\Users\\\\Pranav\\\\git\\\\active_vertex'\n",
    "sys.path.append(vor_path)\n",
    "\n",
    "import voronoi_model.voronoi_model_periodic as avm"
   ]
  },
  {
   "cell_type": "code",
   "execution_count": 3,
   "metadata": {},
   "outputs": [],
   "source": [
    "p_space = np.linspace(3.5, 3.9, 5)\n",
    "J_space = [0]\n",
    "v_space = np.logspace(-2, 0, 5)[1:]\n",
    "\n",
    "param_space = np.meshgrid(\n",
    "    p_space, \n",
    "    J_space,\n",
    "    v_space,\n",
    ")\n",
    "param_space = np.array(param_space).T.reshape(-1, 3)"
   ]
  },
  {
   "cell_type": "code",
   "execution_count": 4,
   "metadata": {},
   "outputs": [
    {
     "data": {
      "text/plain": [
       "(20, 3)"
      ]
     },
     "execution_count": 4,
     "metadata": {},
     "output_type": "execute_result"
    }
   ],
   "source": [
    "param_space.shape"
   ]
  },
  {
   "cell_type": "code",
   "execution_count": 47,
   "metadata": {},
   "outputs": [],
   "source": [
    "param_space = np.array([\n",
    "    [3.8, 0, 0.2],\n",
    "    [3.5, 0, 0.2]\n",
    "])"
   ]
  },
  {
   "cell_type": "code",
   "execution_count": 48,
   "metadata": {},
   "outputs": [
    {
     "name": "stderr",
     "output_type": "stream",
     "text": [
      "100%|██████████| 2/2 [03:20<00:00, 100.09s/it]\n"
     ]
    }
   ],
   "source": [
    "iterator = param_space\n",
    "iterator = tqdm(iterator)\n",
    "\n",
    "for p, J, v in iterator:\n",
    "    prefix = f\"p0{p:.2f}_J{J:.2f}_v0{v:.2e}\"\n",
    "\n",
    "    vor2 = avm.Tissue()\n",
    "    vor2.generate_cells(600)\n",
    "    vor2.make_init(10)\n",
    "\n",
    "    vor2.set_GRN_t_span(t0, tmax, n_t, scaling_factor=f);\n",
    "    vor2.v0 = v / f\n",
    "    vor2.n_warmup_steps = int(200 / dt)\n",
    "\n",
    "    W = J * np.array([[1, 0], [0, 1]])\n",
    "    vor2.set_interaction(W=W, pE=0)\n",
    "    vor2.A0 = 0.86\n",
    "    vor2.P0 = p * np.sqrt(vor2.A0)\n",
    "\n",
    "    vor2.Dr = 0.01\n",
    "    vor2.kappa_A = 0.2\n",
    "    vor2.kappa_P = 0.1\n",
    "    vor2.a = a\n",
    "    vor2.k = k\n",
    "\n",
    "    vor2.simulate2(progress_bar=False, print_updates=False);\n",
    "\n",
    "    vor2.animate(file_name=prefix, n_frames=100, print_updates=False)"
   ]
  },
  {
   "cell_type": "code",
   "execution_count": null,
   "metadata": {},
   "outputs": [],
   "source": []
  },
  {
   "cell_type": "markdown",
   "metadata": {},
   "source": [
    "<hr>"
   ]
  },
  {
   "cell_type": "code",
   "execution_count": null,
   "metadata": {},
   "outputs": [],
   "source": []
  }
 ],
 "metadata": {
  "kernelspec": {
   "display_name": "Python 3",
   "language": "python",
   "name": "python3"
  },
  "language_info": {
   "codemirror_mode": {
    "name": "ipython",
    "version": 3
   },
   "file_extension": ".py",
   "mimetype": "text/x-python",
   "name": "python",
   "nbconvert_exporter": "python",
   "pygments_lexer": "ipython3",
   "version": "3.7.7"
  }
 },
 "nbformat": 4,
 "nbformat_minor": 4
}
