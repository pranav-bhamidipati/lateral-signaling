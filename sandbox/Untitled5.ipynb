{
 "cells": [
  {
   "cell_type": "code",
   "execution_count": 27,
   "metadata": {},
   "outputs": [],
   "source": [
    "import sys\n",
    "import os\n",
    "import numpy as np\n",
    "from tqdm import tqdm\n",
    "import datetime"
   ]
  },
  {
   "cell_type": "code",
   "execution_count": 3,
   "metadata": {},
   "outputs": [],
   "source": [
    "# vor_path = \"/home/ubuntu/git/active_vertex\"\n",
    "vor_path = 'C:\\\\Users\\\\Pranav\\\\git\\\\active_vertex'\n",
    "sys.path.append(vor_path)\n",
    "\n",
    "import voronoi_model.voronoi_model_periodic as avm"
   ]
  },
  {
   "cell_type": "code",
   "execution_count": 42,
   "metadata": {},
   "outputs": [],
   "source": [
    "p_space = np.linspace(3.5, 3.9, 5)\n",
    "J_space = [0]\n",
    "v_space = np.logspace(-2, 0, 5)[1:]\n",
    "\n",
    "param_space = np.meshgrid(\n",
    "    p_space, \n",
    "    J_space,\n",
    "    v_space,\n",
    ")\n",
    "param_space = np.array(param_space).T.reshape(-1, 3)"
   ]
  },
  {
   "cell_type": "code",
   "execution_count": 43,
   "metadata": {},
   "outputs": [
    {
     "data": {
      "text/plain": [
       "(20, 3)"
      ]
     },
     "execution_count": 43,
     "metadata": {},
     "output_type": "execute_result"
    }
   ],
   "source": [
    "param_space.shape"
   ]
  },
  {
   "cell_type": "code",
   "execution_count": 44,
   "metadata": {},
   "outputs": [],
   "source": [
    "f = 200\n",
    "t0 = 0\n",
    "tmax = 4\n",
    "dt = 0.05\n",
    "n_t = int((tmax - t0) * f / dt) + 1  # calculates the n_t to get the desired dt\n",
    "\n",
    "a = 0.35\n",
    "k = 2"
   ]
  },
  {
   "cell_type": "code",
   "execution_count": 47,
   "metadata": {},
   "outputs": [],
   "source": [
    "param_space = np.array([\n",
    "    [3.8, 0, 0.2],\n",
    "    [3.5, 0, 0.2]\n",
    "])"
   ]
  },
  {
   "cell_type": "code",
   "execution_count": 48,
   "metadata": {},
   "outputs": [
    {
     "name": "stderr",
     "output_type": "stream",
     "text": [
      "100%|██████████| 2/2 [03:20<00:00, 100.09s/it]\n"
     ]
    }
   ],
   "source": [
    "iterator = param_space\n",
    "iterator = tqdm(iterator)\n",
    "\n",
    "for p, J, v in iterator:\n",
    "    prefix = f\"p0{p:.2f}_J{J:.2f}_v0{v:.2e}\"\n",
    "\n",
    "    vor2 = avm.Tissue()\n",
    "    vor2.generate_cells(600)\n",
    "    vor2.make_init(10)\n",
    "\n",
    "    vor2.set_GRN_t_span(t0, tmax, n_t, scaling_factor=f);\n",
    "    vor2.v0 = v / f\n",
    "    vor2.n_warmup_steps = int(200 / dt)\n",
    "\n",
    "    W = J * np.array([[1, 0], [0, 1]])\n",
    "    vor2.set_interaction(W=W, pE=0)\n",
    "    vor2.A0 = 0.86\n",
    "    vor2.P0 = p * np.sqrt(vor2.A0)\n",
    "\n",
    "    vor2.Dr = 0.01\n",
    "    vor2.kappa_A = 0.2\n",
    "    vor2.kappa_P = 0.1\n",
    "    vor2.a = a\n",
    "    vor2.k = k\n",
    "\n",
    "    vor2.simulate2(progress_bar=False, print_updates=False);\n",
    "\n",
    "    vor2.animate(file_name=prefix, n_frames=100, print_updates=False)"
   ]
  },
  {
   "cell_type": "code",
   "execution_count": null,
   "metadata": {},
   "outputs": [],
   "source": []
  },
  {
   "cell_type": "markdown",
   "metadata": {},
   "source": [
    "<hr>"
   ]
  },
  {
   "cell_type": "code",
   "execution_count": null,
   "metadata": {},
   "outputs": [],
   "source": []
  }
 ],
 "metadata": {
  "kernelspec": {
   "display_name": "Python 3",
   "language": "python",
   "name": "python3"
  },
  "language_info": {
   "codemirror_mode": {
    "name": "ipython",
    "version": 3
   },
   "file_extension": ".py",
   "mimetype": "text/x-python",
   "name": "python",
   "nbconvert_exporter": "python",
   "pygments_lexer": "ipython3",
   "version": "3.7.7"
  }
 },
 "nbformat": 4,
 "nbformat_minor": 4
}
