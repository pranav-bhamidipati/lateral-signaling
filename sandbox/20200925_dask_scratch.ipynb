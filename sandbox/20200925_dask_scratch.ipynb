{
 "cells": [
  {
   "cell_type": "code",
   "execution_count": 1,
   "metadata": {},
   "outputs": [],
   "source": [
    "import time\n",
    "import random"
   ]
  },
  {
   "cell_type": "code",
   "execution_count": 2,
   "metadata": {},
   "outputs": [],
   "source": [
    "import pandas as pd\n",
    "import numpy as np"
   ]
  },
  {
   "cell_type": "code",
   "execution_count": 3,
   "metadata": {},
   "outputs": [
    {
     "data": {
      "text/html": [
       "<table style=\"border: 2px solid white;\">\n",
       "<tr>\n",
       "<td style=\"vertical-align: top; border: 0px solid white\">\n",
       "<h3 style=\"text-align: left;\">Client</h3>\n",
       "<ul style=\"text-align: left; list-style: none; margin: 0; padding: 0;\">\n",
       "  <li><b>Scheduler: </b>tcp://127.0.0.1:45315</li>\n",
       "  <li><b>Dashboard: </b><a href='http://127.0.0.1:8787/status' target='_blank'>http://127.0.0.1:8787/status</a></li>\n",
       "</ul>\n",
       "</td>\n",
       "<td style=\"vertical-align: top; border: 0px solid white\">\n",
       "<h3 style=\"text-align: left;\">Cluster</h3>\n",
       "<ul style=\"text-align: left; list-style:none; margin: 0; padding: 0;\">\n",
       "  <li><b>Workers: </b>1</li>\n",
       "  <li><b>Cores: </b>4</li>\n",
       "  <li><b>Memory: </b>32.60 GB</li>\n",
       "</ul>\n",
       "</td>\n",
       "</tr>\n",
       "</table>"
      ],
      "text/plain": [
       "<Client: 'tcp://127.0.0.1:45315' processes=1 threads=4, memory=32.60 GB>"
      ]
     },
     "execution_count": 3,
     "metadata": {},
     "output_type": "execute_result"
    }
   ],
   "source": [
    "from dask.distributed import Client, progress\n",
    "client = Client(threads_per_worker=4, n_workers=1)\n",
    "client"
   ]
  },
  {
   "cell_type": "code",
   "execution_count": 4,
   "metadata": {},
   "outputs": [],
   "source": [
    "def costly_simulation(list_param):\n",
    "    time.sleep(1)\n",
    "    return sum(list_param)"
   ]
  },
  {
   "cell_type": "code",
   "execution_count": 5,
   "metadata": {},
   "outputs": [
    {
     "name": "stdout",
     "output_type": "stream",
     "text": [
      "CPU times: user 9.85 ms, sys: 5.68 ms, total: 15.5 ms\n",
      "Wall time: 1 s\n"
     ]
    },
    {
     "data": {
      "text/plain": [
       "10"
      ]
     },
     "execution_count": 5,
     "metadata": {},
     "output_type": "execute_result"
    }
   ],
   "source": [
    "%time costly_simulation([1, 2, 3, 4])"
   ]
  },
  {
   "cell_type": "code",
   "execution_count": 6,
   "metadata": {},
   "outputs": [
    {
     "data": {
      "text/html": [
       "<div>\n",
       "<style scoped>\n",
       "    .dataframe tbody tr th:only-of-type {\n",
       "        vertical-align: middle;\n",
       "    }\n",
       "\n",
       "    .dataframe tbody tr th {\n",
       "        vertical-align: top;\n",
       "    }\n",
       "\n",
       "    .dataframe thead th {\n",
       "        text-align: right;\n",
       "    }\n",
       "</style>\n",
       "<table border=\"1\" class=\"dataframe\">\n",
       "  <thead>\n",
       "    <tr style=\"text-align: right;\">\n",
       "      <th></th>\n",
       "      <th>param_a</th>\n",
       "      <th>param_b</th>\n",
       "      <th>param_c</th>\n",
       "      <th>param_d</th>\n",
       "    </tr>\n",
       "  </thead>\n",
       "  <tbody>\n",
       "    <tr>\n",
       "      <th>0</th>\n",
       "      <td>0.510807</td>\n",
       "      <td>0.363127</td>\n",
       "      <td>0.093281</td>\n",
       "      <td>0.313247</td>\n",
       "    </tr>\n",
       "    <tr>\n",
       "      <th>1</th>\n",
       "      <td>0.882044</td>\n",
       "      <td>0.799111</td>\n",
       "      <td>0.927558</td>\n",
       "      <td>0.827475</td>\n",
       "    </tr>\n",
       "    <tr>\n",
       "      <th>2</th>\n",
       "      <td>0.888158</td>\n",
       "      <td>0.317091</td>\n",
       "      <td>0.939675</td>\n",
       "      <td>0.528515</td>\n",
       "    </tr>\n",
       "    <tr>\n",
       "      <th>3</th>\n",
       "      <td>0.856787</td>\n",
       "      <td>0.045295</td>\n",
       "      <td>0.497535</td>\n",
       "      <td>0.757286</td>\n",
       "    </tr>\n",
       "    <tr>\n",
       "      <th>4</th>\n",
       "      <td>0.128956</td>\n",
       "      <td>0.126547</td>\n",
       "      <td>0.984538</td>\n",
       "      <td>0.415079</td>\n",
       "    </tr>\n",
       "  </tbody>\n",
       "</table>\n",
       "</div>"
      ],
      "text/plain": [
       "    param_a   param_b   param_c   param_d\n",
       "0  0.510807  0.363127  0.093281  0.313247\n",
       "1  0.882044  0.799111  0.927558  0.827475\n",
       "2  0.888158  0.317091  0.939675  0.528515\n",
       "3  0.856787  0.045295  0.497535  0.757286\n",
       "4  0.128956  0.126547  0.984538  0.415079"
      ]
     },
     "execution_count": 6,
     "metadata": {},
     "output_type": "execute_result"
    }
   ],
   "source": [
    "input_params = pd.DataFrame(\n",
    "    np.random.random(size=(240, 4)),\n",
    "    columns=['param_a', 'param_b', 'param_c', 'param_d']\n",
    ")\n",
    "input_params.head()"
   ]
  },
  {
   "cell_type": "code",
   "execution_count": 13,
   "metadata": {},
   "outputs": [],
   "source": [
    "# futures = []\n",
    "# for parameters in input_params.values:\n",
    "#     future = client.submit(costly_simulation, parameters)\n",
    "#     futures.append(future)\n",
    "\n",
    "futures = client.map(costly_simulation, input_params.to_numpy())"
   ]
  },
  {
   "cell_type": "code",
   "execution_count": 14,
   "metadata": {},
   "outputs": [],
   "source": [
    "results = client.gather(futures)"
   ]
  },
  {
   "cell_type": "code",
   "execution_count": 15,
   "metadata": {},
   "outputs": [
    {
     "data": {
      "text/plain": [
       "[1.280463024712415,\n",
       " 3.436188226893662,\n",
       " 2.6734390806300663,\n",
       " 2.15690232696733,\n",
       " 1.6551200674849267]"
      ]
     },
     "execution_count": 15,
     "metadata": {},
     "output_type": "execute_result"
    }
   ],
   "source": [
    "results[:5]"
   ]
  },
  {
   "cell_type": "code",
   "execution_count": 12,
   "metadata": {},
   "outputs": [],
   "source": [
    "futures = client.map(costly_simulation, input_params.values)"
   ]
  },
  {
   "cell_type": "code",
   "execution_count": 14,
   "metadata": {},
   "outputs": [
    {
     "data": {
      "text/plain": [
       "500"
      ]
     },
     "execution_count": 14,
     "metadata": {},
     "output_type": "execute_result"
    }
   ],
   "source": [
    "results = client.gather(futures)\n",
    "len(results)"
   ]
  },
  {
   "cell_type": "markdown",
   "metadata": {},
   "source": [
    "<hr>"
   ]
  },
  {
   "cell_type": "markdown",
   "metadata": {},
   "source": [
    "Trying Dask on the SPV sim!"
   ]
  },
  {
   "cell_type": "code",
   "execution_count": 1,
   "metadata": {},
   "outputs": [],
   "source": [
    "import sys\n",
    "import os\n",
    "import numpy as np\n",
    "import pandas as pd\n",
    "\n",
    "from tqdm import tqdm\n",
    "import time\n",
    "import numba\n",
    "import datetime"
   ]
  },
  {
   "cell_type": "code",
   "execution_count": 2,
   "metadata": {},
   "outputs": [],
   "source": [
    "os.chdir(\"/home/ubuntu/git/\")\n",
    "\n",
    "vor_path = \"/home/ubuntu/git/active_vertex\"\n",
    "# vor_path = 'C:\\\\Users\\\\Pranav\\\\git\\\\active_vertex'\n",
    "sys.path.append(vor_path)\n",
    "\n",
    "from voronoi_model.voronoi_model_periodic import Tissue"
   ]
  },
  {
   "cell_type": "code",
   "execution_count": 3,
   "metadata": {},
   "outputs": [
    {
     "data": {
      "text/html": [
       "<table style=\"border: 2px solid white;\">\n",
       "<tr>\n",
       "<td style=\"vertical-align: top; border: 0px solid white\">\n",
       "<h3 style=\"text-align: left;\">Client</h3>\n",
       "<ul style=\"text-align: left; list-style: none; margin: 0; padding: 0;\">\n",
       "  <li><b>Scheduler: </b>tcp://127.0.0.1:43739</li>\n",
       "  <li><b>Dashboard: </b><a href='http://127.0.0.1:8787/status' target='_blank'>http://127.0.0.1:8787/status</a></li>\n",
       "</ul>\n",
       "</td>\n",
       "<td style=\"vertical-align: top; border: 0px solid white\">\n",
       "<h3 style=\"text-align: left;\">Cluster</h3>\n",
       "<ul style=\"text-align: left; list-style:none; margin: 0; padding: 0;\">\n",
       "  <li><b>Workers: </b>1</li>\n",
       "  <li><b>Cores: </b>4</li>\n",
       "  <li><b>Memory: </b>32.60 GB</li>\n",
       "</ul>\n",
       "</td>\n",
       "</tr>\n",
       "</table>"
      ],
      "text/plain": [
       "<Client: 'tcp://127.0.0.1:43739' processes=1 threads=4, memory=32.60 GB>"
      ]
     },
     "execution_count": 3,
     "metadata": {},
     "output_type": "execute_result"
    }
   ],
   "source": [
    "from dask.distributed import Client, progress\n",
    "client = Client(threads_per_worker=4, n_workers=1)\n",
    "client"
   ]
  },
  {
   "cell_type": "code",
   "execution_count": 80,
   "metadata": {},
   "outputs": [],
   "source": [
    "# @numba.njit\n",
    "# def get_D_eff(X0, Xmax, L, tmax, v0, Dr, n=19):\n",
    "    \n",
    "#     X0_norm = X0 - L/2\n",
    "#     center_cells = np.argsort(np.sqrt(X0_norm[:, 0]**2 + X0_norm[:, 1]**2))[:n]\n",
    "    \n",
    "#     dX = np.fmod(Xmax[center_cells] - X0[center_cells], L/2)\n",
    "#     dr2 = np.zeros(n, dtype=np.float32)\n",
    "#     for i in range(n):\n",
    "#         dr2[i] = dX[i, 0] ** 2 + dX[i, 1] ** 2\n",
    "    \n",
    "#     Ds = dr2.mean() / (4*tmax)\n",
    "#     D0 = v0**2/(2*Dr)\n",
    "#     return Ds / D0\n",
    "\n",
    "# def vor_to_D_eff(vor, n=7):\n",
    "#     return get_D_eff(\n",
    "#         vor.x_save[0],\n",
    "#         vor.x_save[-1],\n",
    "#         vor.L,\n",
    "#         vor.tfin,\n",
    "#         vor.v0,\n",
    "#         vor.Dr,\n",
    "#         n=n,\n",
    "#     )"
   ]
  },
  {
   "cell_type": "code",
   "execution_count": 4,
   "metadata": {},
   "outputs": [],
   "source": [
    "# p_space = np.linspace(3.5, 3.9, 11)\n",
    "# v_space = np.linspace(2e-3, 3e-2, 8)\n",
    "p_space = np.array([3.8])\n",
    "v_space = np.array([2e-2])\n",
    "d_space = np.linspace(0.8, 2, 7)\n",
    "replicates = np.arange(3, dtype=int)\n",
    "\n",
    "param_space = np.meshgrid(\n",
    "    p_space,\n",
    "    v_space,\n",
    "    d_space,\n",
    "    replicates,\n",
    ")\n",
    "param_space = np.array(param_space).T.reshape(-1, 4)"
   ]
  },
  {
   "cell_type": "code",
   "execution_count": 5,
   "metadata": {},
   "outputs": [
    {
     "data": {
      "text/plain": [
       "array([[3.8 , 0.02, 0.8 , 0.  ],\n",
       "       [3.8 , 0.02, 1.  , 0.  ],\n",
       "       [3.8 , 0.02, 1.2 , 0.  ],\n",
       "       [3.8 , 0.02, 1.4 , 0.  ],\n",
       "       [3.8 , 0.02, 1.6 , 0.  ],\n",
       "       [3.8 , 0.02, 1.8 , 0.  ],\n",
       "       [3.8 , 0.02, 2.  , 0.  ],\n",
       "       [3.8 , 0.02, 0.8 , 1.  ],\n",
       "       [3.8 , 0.02, 1.  , 1.  ],\n",
       "       [3.8 , 0.02, 1.2 , 1.  ],\n",
       "       [3.8 , 0.02, 1.4 , 1.  ],\n",
       "       [3.8 , 0.02, 1.6 , 1.  ],\n",
       "       [3.8 , 0.02, 1.8 , 1.  ],\n",
       "       [3.8 , 0.02, 2.  , 1.  ],\n",
       "       [3.8 , 0.02, 0.8 , 2.  ],\n",
       "       [3.8 , 0.02, 1.  , 2.  ],\n",
       "       [3.8 , 0.02, 1.2 , 2.  ],\n",
       "       [3.8 , 0.02, 1.4 , 2.  ],\n",
       "       [3.8 , 0.02, 1.6 , 2.  ],\n",
       "       [3.8 , 0.02, 1.8 , 2.  ],\n",
       "       [3.8 , 0.02, 2.  , 2.  ]])"
      ]
     },
     "execution_count": 5,
     "metadata": {},
     "output_type": "execute_result"
    }
   ],
   "source": [
    "param_space"
   ]
  },
  {
   "cell_type": "code",
   "execution_count": 29,
   "metadata": {},
   "outputs": [],
   "source": [
    "f = 200\n",
    "t0 = 0\n",
    "tmax = 0.1\n",
    "dt = 0.025\n",
    "n_t = int((tmax - t0) * f / dt) + 1  # calculates the n_t to get the desired dt\n",
    "\n",
    "# a = 0.4\n",
    "k = 2\n",
    "J = 0.\n",
    "\n",
    "n_c_norm = 235"
   ]
  },
  {
   "cell_type": "code",
   "execution_count": 30,
   "metadata": {},
   "outputs": [],
   "source": [
    "to_dir = \"/home/ubuntu/git/evomorph/data/2020-09-29_AWS_dasktest/\"\n",
    "\n",
    "if not os.path.exists(to_dir):\n",
    "    os.mkdir(to_dir)"
   ]
  },
  {
   "cell_type": "code",
   "execution_count": 31,
   "metadata": {},
   "outputs": [],
   "source": [
    "def pcounter(n):\n",
    "    i = 1\n",
    "    while True:\n",
    "        yield i/n\n",
    "        i += 1\n",
    "\n",
    "cores = 8\n",
    "gen = pcounter((param_space.shape[0] // cores) + 1)\n",
    "def count():\n",
    "    return next(gen)"
   ]
  },
  {
   "cell_type": "code",
   "execution_count": 32,
   "metadata": {},
   "outputs": [],
   "source": [
    "def costly_simulation(list_param):\n",
    "    time.sleep(1)\n",
    "    return sum(list_param)"
   ]
  },
  {
   "cell_type": "code",
   "execution_count": 44,
   "metadata": {},
   "outputs": [],
   "source": [
    "def simulate(\n",
    "    params, \n",
    "#     progress_bar=False, \n",
    "#     print_updates=False,\n",
    "):\n",
    "    p, v, d, rep = params\n",
    "    prefix = f\"p0{p:.2f}_v0{v:.2e}_reldens{d:.2f}_rep{int(rep)}\"\n",
    "    \n",
    "    vor = Tissue()\n",
    "    vor.make_init2(L=10, n_c=int(n_c_norm * d))\n",
    "    \n",
    "    vor.set_GRN_t_span(t0, tmax, n_t, scaling_factor=f);\n",
    "    vor.v0 = v\n",
    "    \n",
    "#     vor.n_warmup_steps = int(150 / dt)\n",
    "    vor.n_warmup_steps = 1\n",
    "\n",
    "    W = J * np.array([[1, 0], [0, 1]])\n",
    "    vor.set_interaction(W=W, pE=0)\n",
    "    vor.A0 = vor.L**2 / n_c_norm\n",
    "    vor.P0 = p * np.sqrt(vor.A0)\n",
    "    \n",
    "    vor.Dr = 0.01\n",
    "    vor.kappa_A = 0.2\n",
    "    vor.kappa_P = 0.1\n",
    "    vor.a = vor.A0 / 2\n",
    "    vor.k = k\n",
    "    \n",
    "    start_time = time.time()\n",
    "    vor.simulate(progress_bar=False, print_updates=False);\n",
    "    end_time = time.time()\n",
    "    \n",
    "    secs_elapsed = int(end_time) - int(start_time)\n",
    "    mins_elapsed = secs_elapsed / 60\n",
    "    it_per_sec = vor.n_t / secs_elapsed\n",
    "    \n",
    "    fname = os.path.abspath(os.path.join(to_dir, prefix))\n",
    "\n",
    "    np.savez_compressed(fname, vor.x)\n",
    "    \n",
    "#     print(f\"Thread {count()*100:.2f}% complete\")\n",
    "    \n",
    "    return prefix, mins_elapsed, it_per_sec\n",
    "#     return prefix, [vor_to_D_eff(vor, n) for n in (7, 19, 37)]\n"
   ]
  },
  {
   "cell_type": "code",
   "execution_count": 34,
   "metadata": {},
   "outputs": [],
   "source": [
    "futures = client.map(simulate, param_space[:4])"
   ]
  },
  {
   "cell_type": "code",
   "execution_count": 19,
   "metadata": {},
   "outputs": [],
   "source": [
    "results = client.gather(futures)"
   ]
  },
  {
   "cell_type": "code",
   "execution_count": 35,
   "metadata": {},
   "outputs": [
    {
     "name": "stderr",
     "output_type": "stream",
     "text": [
      "distributed.nanny - WARNING - Worker process still alive after 3 seconds, killing\n"
     ]
    }
   ],
   "source": [
    "client.close()"
   ]
  },
  {
   "cell_type": "code",
   "execution_count": 24,
   "metadata": {},
   "outputs": [
    {
     "data": {
      "text/plain": [
       "[('p03.80_v02.00e-02_reldens0.80_rep0', 0.45, 29.666666666666668),\n",
       " ('p03.80_v02.00e-02_reldens1.00_rep0', 0.6166666666666667, 21.64864864864865),\n",
       " ('p03.80_v02.00e-02_reldens1.20_rep0', 0.7, 19.071428571428573),\n",
       " ('p03.80_v02.00e-02_reldens1.40_rep0', 0.7666666666666667, 17.41304347826087)]"
      ]
     },
     "execution_count": 24,
     "metadata": {},
     "output_type": "execute_result"
    }
   ],
   "source": [
    "results"
   ]
  },
  {
   "cell_type": "code",
   "execution_count": 22,
   "metadata": {},
   "outputs": [],
   "source": [
    "from glob import glob"
   ]
  },
  {
   "cell_type": "code",
   "execution_count": 23,
   "metadata": {},
   "outputs": [
    {
     "data": {
      "text/plain": [
       "['/home/ubuntu/git/evomorph/data/2020-09-29_AWS_dasktest/p03.80_v02.00e-02_reldens1.40_rep0.npz',\n",
       " '/home/ubuntu/git/evomorph/data/2020-09-29_AWS_dasktest/p03.80_v02.00e-02_reldens0.80_rep0.npz',\n",
       " '/home/ubuntu/git/evomorph/data/2020-09-29_AWS_dasktest/p03.80_v02.00e-02_reldens1.20_rep0.npz',\n",
       " '/home/ubuntu/git/evomorph/data/2020-09-29_AWS_dasktest/p03.80_v02.00e-02_reldens1.00_rep0.npz']"
      ]
     },
     "execution_count": 23,
     "metadata": {},
     "output_type": "execute_result"
    }
   ],
   "source": [
    "glob(to_dir + '*')"
   ]
  },
  {
   "cell_type": "code",
   "execution_count": null,
   "metadata": {},
   "outputs": [],
   "source": []
  }
 ],
 "metadata": {
  "kernelspec": {
   "display_name": "Python 3",
   "language": "python",
   "name": "python3"
  },
  "language_info": {
   "codemirror_mode": {
    "name": "ipython",
    "version": 3
   },
   "file_extension": ".py",
   "mimetype": "text/x-python",
   "name": "python",
   "nbconvert_exporter": "python",
   "pygments_lexer": "ipython3",
   "version": "3.7.7"
  }
 },
 "nbformat": 4,
 "nbformat_minor": 4
}
