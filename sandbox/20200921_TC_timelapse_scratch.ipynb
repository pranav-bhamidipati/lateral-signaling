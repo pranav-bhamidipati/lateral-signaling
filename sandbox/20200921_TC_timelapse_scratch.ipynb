{
 "cells": [
  {
   "cell_type": "code",
   "execution_count": 79,
   "metadata": {},
   "outputs": [],
   "source": [
    "import os\n",
    "from glob import glob\n",
    "import pandas as pd\n",
    "import numpy as np"
   ]
  },
  {
   "cell_type": "code",
   "execution_count": 106,
   "metadata": {},
   "outputs": [],
   "source": [
    "import re\n",
    "import shutil"
   ]
  },
  {
   "cell_type": "code",
   "execution_count": 81,
   "metadata": {},
   "outputs": [
    {
     "data": {
      "text/plain": [
       "'E:\\\\transceiver_project\\\\time lapse propagation 7 15 20'"
      ]
     },
     "execution_count": 81,
     "metadata": {},
     "output_type": "execute_result"
    }
   ],
   "source": [
    "os.getcwd()"
   ]
  },
  {
   "cell_type": "code",
   "execution_count": 82,
   "metadata": {},
   "outputs": [],
   "source": [
    "home_dir = \"E:/transceiver_project/time lapse propagation 7 15 20/\"\n",
    "if os.path.exists(home_dir):\n",
    "    os.chdir(home_dir)\n",
    "else:\n",
    "    print(\"Directory not found\")"
   ]
  },
  {
   "cell_type": "code",
   "execution_count": 83,
   "metadata": {},
   "outputs": [],
   "source": [
    "os.chdir(home_dir)\n",
    "# os.chdir(\"from 88 h/Group/\")"
   ]
  },
  {
   "cell_type": "code",
   "execution_count": 133,
   "metadata": {},
   "outputs": [],
   "source": [
    "vids = glob(\"from 0h/*_?_*\")\n",
    "vids_0 = sorted([v for v in vids if v.endswith(\"0h\")])\n",
    "vids_88 = sorted([v for v in vids if v.endswith(\"88h\")])\n",
    "paired_vids = list(zip(vids_0, vids_88))"
   ]
  },
  {
   "cell_type": "code",
   "execution_count": 138,
   "metadata": {},
   "outputs": [],
   "source": [
    "a, b = paired_vids[0]\n",
    "glob(b + \"/T*\");"
   ]
  },
  {
   "cell_type": "code",
   "execution_count": 157,
   "metadata": {},
   "outputs": [],
   "source": [
    "shutil.rmtree('from 0h/gone')"
   ]
  },
  {
   "cell_type": "code",
   "execution_count": 165,
   "metadata": {},
   "outputs": [],
   "source": [
    "for v0, v88 in paired_vids:\n",
    "#     t_from_88 = glob(v88 + \"/T*\")\n",
    "#     for t in t_from_88:\n",
    "#         shutil.move(os.path.join(v88, t), v0)\n",
    "#     shutil.rmtree(v88)\n",
    "    os.rename(v0, \"_\".join(v0.split(\"_\")[:2]))"
   ]
  },
  {
   "cell_type": "code",
   "execution_count": null,
   "metadata": {},
   "outputs": [],
   "source": [
    "for v0, v88 in paired_vids[1:]:\n",
    "    t_from_88 = glob(v88 + \"/T*\")\n",
    "    print(t_from_88)\n",
    "    for t in t_from_88:\n",
    "        t = os.path.split(t)[-1]\n",
    "        print(os.path.join(v88, t))\n",
    "        shutil.move(os.path.join(v88, t), v0)"
   ]
  },
  {
   "cell_type": "code",
   "execution_count": 60,
   "metadata": {},
   "outputs": [],
   "source": [
    "densities = [1000, 2500, 5000, 10000, 20000, 40000, 80000, 160000]\n",
    "densities = [str(s) for s in densities]"
   ]
  },
  {
   "cell_type": "code",
   "execution_count": 61,
   "metadata": {},
   "outputs": [],
   "source": [
    "vid_names = [\"_\".join([d, l]) for d in densities for l in (\"A\", \"B\", \"C\")]"
   ]
  },
  {
   "cell_type": "markdown",
   "metadata": {},
   "source": [
    "<hr>"
   ]
  },
  {
   "cell_type": "markdown",
   "metadata": {},
   "source": [
    "Here let's turn these individual TIFFs into TIFF stacks"
   ]
  },
  {
   "cell_type": "code",
   "execution_count": 267,
   "metadata": {},
   "outputs": [],
   "source": [
    "import imageio\n",
    "\n",
    "import os\n",
    "import numpy as np"
   ]
  },
  {
   "cell_type": "code",
   "execution_count": 268,
   "metadata": {},
   "outputs": [
    {
     "data": {
      "text/plain": [
       "'E:\\\\transceiver_project\\\\20200715_time_lapse_propagation\\\\time_lapse_20x'"
      ]
     },
     "execution_count": 268,
     "metadata": {},
     "output_type": "execute_result"
    }
   ],
   "source": [
    "os.getcwd()"
   ]
  },
  {
   "cell_type": "code",
   "execution_count": 269,
   "metadata": {},
   "outputs": [],
   "source": [
    "home_dir = \"E:/transceiver_project/20200715_time_lapse_propagation/time_lapse_20x/\"\n",
    "if os.path.exists(home_dir):\n",
    "    os.chdir(home_dir)\n",
    "else:\n",
    "    print(\"Directory not found\")"
   ]
  },
  {
   "cell_type": "code",
   "execution_count": 270,
   "metadata": {},
   "outputs": [],
   "source": [
    "os.chdir(home_dir)"
   ]
  },
  {
   "cell_type": "code",
   "execution_count": 217,
   "metadata": {},
   "outputs": [],
   "source": [
    "vids = glob(\"*_*\")"
   ]
  },
  {
   "cell_type": "code",
   "execution_count": 218,
   "metadata": {},
   "outputs": [],
   "source": [
    "vids = vids[:1]"
   ]
  },
  {
   "cell_type": "code",
   "execution_count": 219,
   "metadata": {},
   "outputs": [
    {
     "data": {
      "text/plain": [
       "['0_test']"
      ]
     },
     "execution_count": 219,
     "metadata": {},
     "output_type": "execute_result"
    }
   ],
   "source": [
    "vids"
   ]
  },
  {
   "cell_type": "code",
   "execution_count": 211,
   "metadata": {},
   "outputs": [],
   "source": [
    "for v in vids:\n",
    "    ims = glob(os.path.join(v, \"*/*.tif\"))\n",
    "    new_ims = [im.split(\"_\") for im in ims]\n",
    "    new_ims = [\"_\".join([*s[:3], v, *s[4:]]) for s in new_ims]\n",
    "#     print(new_ims)\n",
    "    for i, _ in enumerate(ims):\n",
    "        os.rename(ims[i], new_ims[i])"
   ]
  },
  {
   "cell_type": "code",
   "execution_count": 225,
   "metadata": {},
   "outputs": [],
   "source": [
    "image = imageio.imread(\"0test/T0001/Image_T0001_40000_B_CH4.tif\")"
   ]
  },
  {
   "cell_type": "code",
   "execution_count": 181,
   "metadata": {},
   "outputs": [
    {
     "data": {
      "text/plain": [
       "(1440, 1920)"
      ]
     },
     "execution_count": 181,
     "metadata": {},
     "output_type": "execute_result"
    }
   ],
   "source": [
    "image.shape"
   ]
  },
  {
   "cell_type": "code",
   "execution_count": null,
   "metadata": {},
   "outputs": [],
   "source": [
    "fi.write_multipage(image, 'multipage.tif')"
   ]
  },
  {
   "cell_type": "code",
   "execution_count": 292,
   "metadata": {},
   "outputs": [],
   "source": [
    "import cv2\n",
    "import os\n",
    "\n",
    "image_folder = '5000_C'\n",
    "video_name = '5000 cells C.avi'\n",
    "fps = 10\n",
    "\n",
    "images = glob(image_folder + \"/*/*Overlay.tif\")\n",
    "frame = cv2.imread(images[0])\n",
    "height, width, layers = frame.shape\n",
    "video = cv2.VideoWriter(video_name, cv2.VideoWriter_fourcc(*\"MP42\"), fps, (width,height))\n",
    "for image in images:\n",
    "    video.write(cv2.imread(image))\n",
    "\n",
    "cv2.destroyAllWindows()\n",
    "video.release()"
   ]
  },
  {
   "cell_type": "markdown",
   "metadata": {},
   "source": [
    "<hr>"
   ]
  },
  {
   "cell_type": "markdown",
   "metadata": {},
   "source": [
    "Let's draw ROIs for all the videos so that we can analyze signal propagation dynamics.\n",
    "\n",
    "For each video, I have decided using some criteria whether or not to analyze it with respect to signal propagation. A time-lapse was rejected for propagation analysis if\n",
    "- there were too few cells (leading to high variance in cell-wise metrics and inherently stochastic behaviors such as motility)\n",
    "- the edge of the well impinges on the field of view\n",
    "- there are other loci of signal propagation in addition to the one being studied, and the borders are difficult to delineate\n",
    "\n",
    "The outcome of these exclusion criteria is encoded as a Boolean entry in the metadata column `can_draw_ROI`."
   ]
  },
  {
   "cell_type": "code",
   "execution_count": 239,
   "metadata": {},
   "outputs": [],
   "source": [
    "vids = glob(\"*_*\")"
   ]
  },
  {
   "cell_type": "code",
   "execution_count": 240,
   "metadata": {},
   "outputs": [],
   "source": [
    "df = pd.DataFrame(dict(video_folder=vids))\n",
    "\n",
    "df[\"plating_density\"] = [s.split(\"_\")[0] for s in df.video_folder.values]\n",
    "df[\"replicate\"] = [s.split(\"_\")[1] for s in df.video_folder.values]\n",
    "df = df.sort_values([\"plating_density\", \"replicate\"])"
   ]
  },
  {
   "cell_type": "code",
   "execution_count": 248,
   "metadata": {},
   "outputs": [],
   "source": [
    "can_draw_ROI = np.array(\n",
    "    [\n",
    "        False,\n",
    "        False,\n",
    "        False,\n",
    "        True,\n",
    "        False,\n",
    "        False,\n",
    "        False,\n",
    "        True,\n",
    "        False,\n",
    "        True,\n",
    "        True,\n",
    "        True,\n",
    "        True,\n",
    "        True,\n",
    "        True,\n",
    "        True,\n",
    "        True,\n",
    "        True,\n",
    "        True,\n",
    "        True,\n",
    "        True,\n",
    "        False,\n",
    "        True,\n",
    "    ],\n",
    "    dtype=bool,\n",
    ")"
   ]
  },
  {
   "cell_type": "code",
   "execution_count": 245,
   "metadata": {},
   "outputs": [
    {
     "data": {
      "text/plain": [
       "23"
      ]
     },
     "execution_count": 245,
     "metadata": {},
     "output_type": "execute_result"
    }
   ],
   "source": [
    "can_draw_ROI.size"
   ]
  },
  {
   "cell_type": "code",
   "execution_count": 246,
   "metadata": {},
   "outputs": [
    {
     "data": {
      "text/plain": [
       "(24, 3)"
      ]
     },
     "execution_count": 246,
     "metadata": {},
     "output_type": "execute_result"
    }
   ],
   "source": [
    "df.shape"
   ]
  },
  {
   "cell_type": "code",
   "execution_count": 242,
   "metadata": {},
   "outputs": [
    {
     "data": {
      "text/html": [
       "<div>\n",
       "<style scoped>\n",
       "    .dataframe tbody tr th:only-of-type {\n",
       "        vertical-align: middle;\n",
       "    }\n",
       "\n",
       "    .dataframe tbody tr th {\n",
       "        vertical-align: top;\n",
       "    }\n",
       "\n",
       "    .dataframe thead th {\n",
       "        text-align: right;\n",
       "    }\n",
       "</style>\n",
       "<table border=\"1\" class=\"dataframe\">\n",
       "  <thead>\n",
       "    <tr style=\"text-align: right;\">\n",
       "      <th></th>\n",
       "      <th>video_folder</th>\n",
       "      <th>plating_density</th>\n",
       "      <th>replicate</th>\n",
       "    </tr>\n",
       "  </thead>\n",
       "  <tbody>\n",
       "    <tr>\n",
       "      <th>3</th>\n",
       "      <td>1000_A</td>\n",
       "      <td>1000</td>\n",
       "      <td>A</td>\n",
       "    </tr>\n",
       "    <tr>\n",
       "      <th>4</th>\n",
       "      <td>1000_B</td>\n",
       "      <td>1000</td>\n",
       "      <td>B</td>\n",
       "    </tr>\n",
       "    <tr>\n",
       "      <th>5</th>\n",
       "      <td>1000_C</td>\n",
       "      <td>1000</td>\n",
       "      <td>C</td>\n",
       "    </tr>\n",
       "    <tr>\n",
       "      <th>0</th>\n",
       "      <td>10000_A</td>\n",
       "      <td>10000</td>\n",
       "      <td>A</td>\n",
       "    </tr>\n",
       "    <tr>\n",
       "      <th>1</th>\n",
       "      <td>10000_B</td>\n",
       "      <td>10000</td>\n",
       "      <td>B</td>\n",
       "    </tr>\n",
       "    <tr>\n",
       "      <th>2</th>\n",
       "      <td>10000_C</td>\n",
       "      <td>10000</td>\n",
       "      <td>C</td>\n",
       "    </tr>\n",
       "    <tr>\n",
       "      <th>6</th>\n",
       "      <td>160000_A</td>\n",
       "      <td>160000</td>\n",
       "      <td>A</td>\n",
       "    </tr>\n",
       "    <tr>\n",
       "      <th>7</th>\n",
       "      <td>160000_B</td>\n",
       "      <td>160000</td>\n",
       "      <td>B</td>\n",
       "    </tr>\n",
       "    <tr>\n",
       "      <th>8</th>\n",
       "      <td>160000_C</td>\n",
       "      <td>160000</td>\n",
       "      <td>C</td>\n",
       "    </tr>\n",
       "    <tr>\n",
       "      <th>9</th>\n",
       "      <td>20000_A</td>\n",
       "      <td>20000</td>\n",
       "      <td>A</td>\n",
       "    </tr>\n",
       "    <tr>\n",
       "      <th>10</th>\n",
       "      <td>20000_B</td>\n",
       "      <td>20000</td>\n",
       "      <td>B</td>\n",
       "    </tr>\n",
       "    <tr>\n",
       "      <th>11</th>\n",
       "      <td>20000_C</td>\n",
       "      <td>20000</td>\n",
       "      <td>C</td>\n",
       "    </tr>\n",
       "    <tr>\n",
       "      <th>12</th>\n",
       "      <td>2500_A</td>\n",
       "      <td>2500</td>\n",
       "      <td>A</td>\n",
       "    </tr>\n",
       "    <tr>\n",
       "      <th>13</th>\n",
       "      <td>2500_B</td>\n",
       "      <td>2500</td>\n",
       "      <td>B</td>\n",
       "    </tr>\n",
       "    <tr>\n",
       "      <th>14</th>\n",
       "      <td>2500_C</td>\n",
       "      <td>2500</td>\n",
       "      <td>C</td>\n",
       "    </tr>\n",
       "    <tr>\n",
       "      <th>15</th>\n",
       "      <td>40000_A</td>\n",
       "      <td>40000</td>\n",
       "      <td>A</td>\n",
       "    </tr>\n",
       "    <tr>\n",
       "      <th>16</th>\n",
       "      <td>40000_B</td>\n",
       "      <td>40000</td>\n",
       "      <td>B</td>\n",
       "    </tr>\n",
       "    <tr>\n",
       "      <th>17</th>\n",
       "      <td>40000_C</td>\n",
       "      <td>40000</td>\n",
       "      <td>C</td>\n",
       "    </tr>\n",
       "    <tr>\n",
       "      <th>18</th>\n",
       "      <td>5000_A</td>\n",
       "      <td>5000</td>\n",
       "      <td>A</td>\n",
       "    </tr>\n",
       "    <tr>\n",
       "      <th>19</th>\n",
       "      <td>5000_B</td>\n",
       "      <td>5000</td>\n",
       "      <td>B</td>\n",
       "    </tr>\n",
       "    <tr>\n",
       "      <th>20</th>\n",
       "      <td>5000_C</td>\n",
       "      <td>5000</td>\n",
       "      <td>C</td>\n",
       "    </tr>\n",
       "    <tr>\n",
       "      <th>21</th>\n",
       "      <td>80000_A</td>\n",
       "      <td>80000</td>\n",
       "      <td>A</td>\n",
       "    </tr>\n",
       "    <tr>\n",
       "      <th>22</th>\n",
       "      <td>80000_B</td>\n",
       "      <td>80000</td>\n",
       "      <td>B</td>\n",
       "    </tr>\n",
       "    <tr>\n",
       "      <th>23</th>\n",
       "      <td>80000_C</td>\n",
       "      <td>80000</td>\n",
       "      <td>C</td>\n",
       "    </tr>\n",
       "  </tbody>\n",
       "</table>\n",
       "</div>"
      ],
      "text/plain": [
       "   video_folder plating_density replicate\n",
       "3        1000_A            1000         A\n",
       "4        1000_B            1000         B\n",
       "5        1000_C            1000         C\n",
       "0       10000_A           10000         A\n",
       "1       10000_B           10000         B\n",
       "2       10000_C           10000         C\n",
       "6      160000_A          160000         A\n",
       "7      160000_B          160000         B\n",
       "8      160000_C          160000         C\n",
       "9       20000_A           20000         A\n",
       "10      20000_B           20000         B\n",
       "11      20000_C           20000         C\n",
       "12       2500_A            2500         A\n",
       "13       2500_B            2500         B\n",
       "14       2500_C            2500         C\n",
       "15      40000_A           40000         A\n",
       "16      40000_B           40000         B\n",
       "17      40000_C           40000         C\n",
       "18       5000_A            5000         A\n",
       "19       5000_B            5000         B\n",
       "20       5000_C            5000         C\n",
       "21      80000_A           80000         A\n",
       "22      80000_B           80000         B\n",
       "23      80000_C           80000         C"
      ]
     },
     "execution_count": 242,
     "metadata": {},
     "output_type": "execute_result"
    }
   ],
   "source": [
    "df"
   ]
  },
  {
   "cell_type": "code",
   "execution_count": 66,
   "metadata": {},
   "outputs": [],
   "source": [
    "os.chdir(home_dir)\n",
    "os.chdir(\"from 0h\")"
   ]
  },
  {
   "cell_type": "code",
   "execution_count": 60,
   "metadata": {},
   "outputs": [],
   "source": [
    "densities = [1000, 2500, 5000, 10000, 20000, 40000, 80000, 160000]\n",
    "densities = [str(s) for s in densities]"
   ]
  },
  {
   "cell_type": "code",
   "execution_count": 61,
   "metadata": {},
   "outputs": [],
   "source": [
    "vid_names = [\"_\".join([d, l]) for d in densities for l in (\"A\", \"B\", \"C\")]"
   ]
  },
  {
   "cell_type": "code",
   "execution_count": null,
   "metadata": {},
   "outputs": [],
   "source": []
  }
 ],
 "metadata": {
  "kernelspec": {
   "display_name": "Python 3",
   "language": "python",
   "name": "python3"
  },
  "language_info": {
   "codemirror_mode": {
    "name": "ipython",
    "version": 3
   },
   "file_extension": ".py",
   "mimetype": "text/x-python",
   "name": "python",
   "nbconvert_exporter": "python",
   "pygments_lexer": "ipython3",
   "version": "3.7.7"
  }
 },
 "nbformat": 4,
 "nbformat_minor": 4
}
